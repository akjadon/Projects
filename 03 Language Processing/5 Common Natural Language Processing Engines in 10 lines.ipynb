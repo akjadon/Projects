{
 "cells": [
  {
   "cell_type": "markdown",
   "metadata": {},
   "source": [
    "### t2.large, 16Gb disk, AWS Marketplace -> Anaconda with Python 3"
   ]
  },
  {
   "cell_type": "markdown",
   "metadata": {},
   "source": [
    "### 1) Natural Language Toolkit (NLTK) -> Complete Toolkit for all NLP Techniques"
   ]
  },
  {
   "cell_type": "code",
   "execution_count": 1,
   "metadata": {},
   "outputs": [
    {
     "name": "stdout",
     "output_type": "stream",
     "text": [
      "                                                     S                                                                         \n",
      "                         ____________________________|_______________________________________________________________________   \n",
      "                        |                                               VP                                                   | \n",
      "                        |                        _______________________|___                                                 |  \n",
      "                      NP-SBJ                    |                           VP                                               | \n",
      "         _______________|___________________    |     ______________________|______________________________________          |  \n",
      "        |          |              ADJP      |   |    |        |                PP-CLR                              |         | \n",
      "        |          |           ____|____    |   |    |        |          ________|_________                        |         |  \n",
      "        NP         |          NP        |   |   |    |        NP        |                  NP                    NP-TMP      | \n",
      "   _____|____      |     _____|____     |   |   |    |     ___|____     |    ______________|__________        _____|_____    |  \n",
      " NNP        NNP    ,    CD        NNS   JJ  ,   MD   VB   DT       NN   IN  DT             JJ         NN    NNP          CD  . \n",
      "  |          |     |    |          |    |   |   |    |    |        |    |   |              |          |      |           |   |  \n",
      "Pierre     Vinken  ,    61       years old  ,  will join the     board  as  a         nonexecutive director Nov.         29  . \n",
      "\n"
     ]
    },
    {
     "name": "stderr",
     "output_type": "stream",
     "text": [
      "[nltk_data] Downloading package treebank to\n",
      "[nltk_data]     /home/ec2-user/nltk_data...\n",
      "[nltk_data]   Package treebank is already up-to-date!\n"
     ]
    }
   ],
   "source": [
    "import nltk\n",
    "nltk.download('treebank')\n",
    "nltk.corpus.treebank.parsed_sents('wsj_0001.mrg')[0].pretty_print()"
   ]
  },
  {
   "cell_type": "markdown",
   "metadata": {},
   "source": [
    "### 2) spaCy -> Industrial Strength NLP with Python and Cython"
   ]
  },
  {
   "cell_type": "code",
   "execution_count": 1,
   "metadata": {},
   "outputs": [
    {
     "name": "stdout",
     "output_type": "stream",
     "text": [
      "Noun Phrases:\n",
      "-\n",
      "['Sebastian Thrun', 'self-driving cars', 'Google', 'few people', 'the company', 'him', 'I', 'you', 'very senior CEOs', 'major American car companies', 'my hand', 'I', 'Thrun', 'an interview', 'Recode']\n",
      "\n",
      "Verbs:\n",
      "-\n",
      "['start', 'work', 'drive', 'take', 'can', 'tell', 'would', 'shake', 'turn', 'be', 'talk', 'say']\n",
      "\n",
      "Entities, Phrases, and Concepts:\n",
      "-\n",
      "Sebastian Thrun PERSON\n",
      "Google ORG\n",
      "2007 DATE\n",
      "American NORP\n",
      "Thrun PERSON\n",
      "Recode ORG\n",
      "earlier this week DATE\n"
     ]
    }
   ],
   "source": [
    "import spacy\n",
    "\n",
    "nlp  = spacy.load('en_core_web_sm')\n",
    "text = ('When Sebastian Thrun started working on self-driving cars at '\n",
    "        'Google in 2007, few people outside of the company took him '\n",
    "        'seriously. “I can tell you very senior CEOs of major American '\n",
    "        'car companies would shake my hand and turn away because I wasn’t '\n",
    "        'worth talking to,” said Thrun, in an interview with Recode earlier '\n",
    "        'this week.')\n",
    "doc  = nlp(text)\n",
    "\n",
    "print('Noun Phrases:')\n",
    "print('-')\n",
    "print([chunk.text for chunk in doc.noun_chunks])\n",
    "print('')\n",
    "print('Verbs:')\n",
    "print('-')\n",
    "print([token.lemma_ for token in doc if token.pos_ == 'VERB'])\n",
    "print('')\n",
    "print('Entities, Phrases, and Concepts:')\n",
    "print('-')\n",
    "for entity in doc.ents:\n",
    "    print(entity.text, entity.label_)"
   ]
  },
  {
   "cell_type": "markdown",
   "metadata": {},
   "source": [
    "### 3) Scikit-learn -> Machine Learning in Python"
   ]
  },
  {
   "cell_type": "code",
   "execution_count": 1,
   "metadata": {},
   "outputs": [
    {
     "name": "stdout",
     "output_type": "stream",
     "text": [
      "'God is love' => soc.religion.christian\n",
      "'OpenGL on the GPU is fast' => comp.graphics\n"
     ]
    }
   ],
   "source": [
    "from sklearn.naive_bayes import MultinomialNB\n",
    "from sklearn.datasets import fetch_20newsgroups\n",
    "from sklearn.feature_extraction.text import CountVectorizer\n",
    "from sklearn.feature_extraction.text import TfidfTransformer\n",
    "\n",
    "count_vect        = CountVectorizer()\n",
    "tfidf_transformer = TfidfTransformer()\n",
    "\n",
    "documents    = ['God is love', 'OpenGL on the GPU is fast']\n",
    "twenty_train = fetch_20newsgroups(\n",
    "                                  subset     = 'train'                                                              ,\n",
    "                                  categories = ['alt.atheism', 'soc.religion.christian', 'comp.graphics', 'sci.med'],\n",
    "                                  shuffle    = True\n",
    "                                 )\n",
    "\n",
    "X_train_counts = count_vect.fit_transform(twenty_train.data)\n",
    "X_train_tfidf  = tfidf_transformer.fit_transform(X_train_counts)\n",
    "\n",
    "X_test_tfidf = tfidf_transformer.transform(count_vect.transform(documents))\n",
    "predicted    = MultinomialNB().fit(X_train_tfidf, twenty_train.target).predict(X_test_tfidf)\n",
    "\n",
    "for doc, category in zip(documents, predicted):\n",
    "  print('%r => %s' % (doc, twenty_train.target_names[category]))"
   ]
  },
  {
   "cell_type": "markdown",
   "metadata": {},
   "source": [
    "### 4) Gensim -> Topic Modelling for Humans"
   ]
  },
  {
   "cell_type": "code",
   "execution_count": 2,
   "metadata": {},
   "outputs": [
    {
     "data": {
      "image/png": "[encoded data removed]",
      "text/plain": [
       "<Figure size 432x288 with 1 Axes>"
      ]
     },
     "metadata": {
      "needs_background": "light"
     },
     "output_type": "display_data"
    }
   ],
   "source": [
    "import warnings\n",
    "warnings.filterwarnings('ignore')\n",
    "\n",
    "from matplotlib import pyplot\n",
    "from gensim.models import Word2Vec\n",
    "from sklearn.decomposition import PCA\n",
    "\n",
    "sentences = [\n",
    "             ['this', 'is', 'the', 'first', 'sentence', 'for', 'word2vec'],\n",
    "             ['this', 'is', 'the', 'second', 'sentence']                  ,\n",
    "             ['yet', 'another', 'sentence']                               ,\n",
    "             ['one', 'more', 'sentence']                                  ,\n",
    "             ['and', 'the', 'final', 'sentence']\n",
    "            ]\n",
    "\n",
    "model  = Word2Vec(sentences, min_count=1)\n",
    "result = PCA(n_components=2).fit_transform(model[model.wv.vocab])\n",
    "words  = list(model.wv.vocab)\n",
    "\n",
    "pyplot.scatter(result[:, 0], result[:, 1])\n",
    "for i, word in enumerate(words):\n",
    "  pyplot.annotate(word, xy=(result[i, 0], result[i, 1]))"
   ]
  },
  {
   "cell_type": "markdown",
   "metadata": {},
   "source": [
    "## 5) Google News Corpus -> requires a lot of memory and disk"
   ]
  },
  {
   "cell_type": "code",
   "execution_count": 1,
   "metadata": {},
   "outputs": [
    {
     "name": "stdout",
     "output_type": "stream",
     "text": [
      "Number of words in Google News corpus: 3,000,000\n",
      "Similarity between Dog and Cat: 0.76\n",
      "Similarity between Zebra and Brush: 0.11\n"
     ]
    }
   ],
   "source": [
    "import warnings\n",
    "warnings.filterwarnings('ignore')\n",
    "\n",
    "import gensim\n",
    "\n",
    "model = gensim.models.KeyedVectors.load_word2vec_format('GoogleNews-vectors-negative300.bin', binary=True)\n",
    "\n",
    "print ('Number of words in Google News corpus: ' + \"{:,}\".format(len(model.vocab.keys())))\n",
    "print ('Similarity between Dog and Cat: ' + \"{:.2f}\".format(model.similarity('cat', 'dog')))\n",
    "print ('Similarity between Zebra and Brush: ' + \"{:.2f}\".format(model.similarity('zebra', 'brush')))"
   ]
  },
  {
   "cell_type": "code",
   "execution_count": null,
   "metadata": {},
   "outputs": [],
   "source": []
  }
 ],
 "metadata": {
  "kernelspec": {
   "display_name": "Python 3",
   "language": "python",
   "name": "python3"
  },
  "language_info": {
   "codemirror_mode": {
    "name": "ipython",
    "version": 3
   },
   "file_extension": ".py",
   "mimetype": "text/x-python",
   "name": "python",
   "nbconvert_exporter": "python",
   "pygments_lexer": "ipython3",
   "version": "3.7.3"
  }
 },
 "nbformat": 4,
 "nbformat_minor": 2
}
