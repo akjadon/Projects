{
 "cells": [
  {
   "cell_type": "markdown",
   "metadata": {},
   "source": [
    "# https://www.youtube.com/watch?v=Z4XgnOVJhfk&feature=youtu.be&t=1866"
   ]
  },
  {
   "cell_type": "code",
   "execution_count": 1,
   "metadata": {},
   "outputs": [],
   "source": [
    "###Gist 1\n",
    "import matplotlib.pyplot as plt\n",
    "import numpy as np\n",
    "import pandas as pd\n",
    "\n",
    "\n",
    "# train comes from the titanic dataset provided by\n",
    "# kaggle (https://www.kaggle.com/c/titanic/data)\n",
    "data = pd.read_csv('./titanic-train.csv')\n",
    "\n",
    "# Preprocess data\n",
    "# Convert to binary fields\n",
    "dummy_fields = ['Pclass', 'Embarked', 'Sex']\n",
    "dummies = pd.get_dummies(data[dummy_fields])\n",
    "data = pd.concat([data, dummies], axis=1)\n",
    "\n",
    "# drop other fields\n",
    "fields_to_drop = ['PassengerId', 'Ticket', 'Parch',\n",
    "                  'Name', 'Cabin', 'Fare', 'Pclass',\n",
    "                  'Embarked', 'Sex', 'Sex_male']\n",
    "data = data.drop(fields_to_drop, axis=1)\n",
    "\n",
    "mean, std = data['Age'].mean(), data['Age'].std()\n",
    "data.loc[:, 'Age']  = (data['Age'] - mean) / std\n",
    "data = data.fillna(0)\n",
    "\n",
    "data = data.sample(frac=1).reset_index(drop=True)\n",
    "\n",
    "X = data.drop('Survived', axis=1).values\n",
    "y = data[['Survived']].values"
   ]
  },
  {
   "cell_type": "code",
   "execution_count": 2,
   "metadata": {},
   "outputs": [
    {
     "data": {
      "text/plain": [
       "(891, 6)"
      ]
     },
     "execution_count": 2,
     "metadata": {},
     "output_type": "execute_result"
    }
   ],
   "source": [
    "X.shape"
   ]
  },
  {
   "cell_type": "code",
   "execution_count": 3,
   "metadata": {},
   "outputs": [
    {
     "data": {
      "text/plain": [
       "(891, 1)"
      ]
     },
     "execution_count": 3,
     "metadata": {},
     "output_type": "execute_result"
    }
   ],
   "source": [
    "y.shape"
   ]
  },
  {
   "cell_type": "code",
   "execution_count": 17,
   "metadata": {},
   "outputs": [
    {
     "name": "stdout",
     "output_type": "stream",
     "text": [
      "(891, 10)\n"
     ]
    }
   ],
   "source": [
    "hidden_dim    = 10\n",
    "learning_rate = 0.01\n",
    "\n",
    "def sigmoid(x, derive=False):\n",
    "    if derive:\n",
    "        return x * (1-x)\n",
    "    return 1/(1+np.exp(-x))\n",
    "\n",
    "def logloss(y, y_hat):\n",
    "    return -np.mean(y*np.log(y_hat) + (1-y)*np.log(1-y_hat))\n",
    "\n",
    "input_dim     = X.shape[1]\n",
    "output_dim    = y.shape[1]\n",
    "model         = dict (\n",
    "                      w0 = np.random.randn(input_dim, hidden_dim),\n",
    "                      w1 = np.random.randn(hidden_dim, output_dim)\n",
    "                     )\n",
    "\n",
    "layer1 = sigmoid(np.dot(X, model['w0']))\n",
    "layer2 = sigmoid(np.dot(layer1, model['w1']))\n",
    "\n",
    "l2_error = - ( y / layer2 - (1-y) / (1-layer2))\n",
    "l2_delta = l2_error * sigmoid(layer2, derive=True)\n",
    "\n",
    "l1_error = l2_delta.dot(model['w1'].T)\n",
    "l1_delta = l1_error * sigmoid(layer1, derive=True)\n",
    "\n",
    "loss = logloss(y, layer2) / 2\n",
    "\n",
    "model['w1'] -= learning_rate * layer1.T.dot(l2_delta)\n",
    "model['w0'] -= learning_rate * X.T.dot(l1_delta)"
   ]
  },
  {
   "cell_type": "code",
   "execution_count": 14,
   "metadata": {},
   "outputs": [
    {
     "data": {
      "image/png": "[encoded data removed]",
      "text/plain": [
       "<Figure size 432x288 with 1 Axes>"
      ]
     },
     "metadata": {
      "needs_background": "light"
     },
     "output_type": "display_data"
    }
   ],
   "source": [
    "def nn(X, y, hidden_dim=10, learning_rate=0.01, epochs=10, debug=False):\n",
    "\n",
    "    input_dim  = X.shape[1]\n",
    "    output_dim = y.shape[1]\n",
    "\n",
    "    # Make our model\n",
    "    model = dict(\n",
    "                 w0 = np.random.randn(input_dim, hidden_dim),\n",
    "                 w1 = np.random.randn(hidden_dim, output_dim)\n",
    "                )\n",
    "\n",
    "    losses = []\n",
    "\n",
    "    def sigmoid(x, derive=False):\n",
    "        if derive:\n",
    "            return x * (1-x)\n",
    "        return 1/(1+np.exp(-x))\n",
    "\n",
    "    def logloss(y, y_hat):\n",
    "        return -np.mean(y*np.log(y_hat) + (1-y)*np.log(1-y_hat))\n",
    "\n",
    "    def run(layer0, model):\n",
    "        layer1 = sigmoid(np.dot(layer0, model['w0']))\n",
    "        layer2 = sigmoid(np.dot(layer1, model['w1']))\n",
    "        return layer1, layer2\n",
    "\n",
    "    def train_step(model):\n",
    "        \n",
    "        ## Forward\n",
    "        layer1, layer2 = run(X, model)\n",
    "\n",
    "        ## Backprop\n",
    "        l2_error = - ( y / layer2 - (1-y) / (1-layer2))\n",
    "        l2_delta = l2_error * sigmoid(layer2, derive=True)\n",
    "        l1_error = l2_delta.dot(model['w1'].T)\n",
    "        l1_delta = l1_error * sigmoid(layer1, derive=True)\n",
    "\n",
    "        ## Store the error for plotting\n",
    "        loss = logloss(y, layer2) / 2\n",
    "        losses.append(loss)\n",
    "\n",
    "        ## Update weights\n",
    "        model['w1'] -= learning_rate * layer1.T.dot(l2_delta)\n",
    "        model['w0'] -= learning_rate * X.T.dot(l1_delta)\n",
    "        return model\n",
    "\n",
    "    for i in range(epochs):\n",
    "        model = train_step(model)\n",
    "\n",
    "    if debug:\n",
    "        plt.plot(losses)\n",
    "        plt.xlabel(\"Epoch\")\n",
    "        plt.ylabel(\"Loss\")\n",
    "\n",
    "    ## Final prediction\n",
    "    layer1, layer2 = run(X, model)\n",
    "\n",
    "    return layer2\n",
    "\n",
    "y_pred = nn(X, y, debug=True, epochs=10)"
   ]
  },
  {
   "cell_type": "code",
   "execution_count": null,
   "metadata": {},
   "outputs": [],
   "source": []
  }
 ],
 "metadata": {
  "kernelspec": {
   "display_name": "Python 3",
   "language": "python",
   "name": "python3"
  },
  "language_info": {
   "codemirror_mode": {
    "name": "ipython",
    "version": 3
   },
   "file_extension": ".py",
   "mimetype": "text/x-python",
   "name": "python",
   "nbconvert_exporter": "python",
   "pygments_lexer": "ipython3",
   "version": "3.7.0"
  }
 },
 "nbformat": 4,
 "nbformat_minor": 2
}
