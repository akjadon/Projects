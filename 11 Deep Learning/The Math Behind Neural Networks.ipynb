{
 "cells": [
  {
   "cell_type": "markdown",
   "metadata": {},
   "source": [
    "### t2.micro, AWS Marketplace -> Anaconda with Python 3\n",
    "### Reference:  https://www.youtube.com/watch?v=Z4XgnOVJhfk"
   ]
  },
  {
   "cell_type": "code",
   "execution_count": 1,
   "metadata": {
    "scrolled": false
   },
   "outputs": [
    {
     "name": "stdout",
     "output_type": "stream",
     "text": [
      "Dataset: (891, 6)\n",
      "Labels:  (891, 1)\n"
     ]
    }
   ],
   "source": [
    "import numpy as np\n",
    "import pandas as pd\n",
    "import matplotlib.pyplot as plt\n",
    "\n",
    "# kaggle.com/c/titanic/data\n",
    "data = pd.read_csv('./titanic-train.csv')\n",
    "\n",
    "# Convert Categorical Data to Binary Fields\n",
    "dummy_fields = ['Embarked', 'Sex']\n",
    "dummies      = pd.get_dummies(data[dummy_fields])\n",
    "data         = pd.concat([data, dummies], axis=1)\n",
    "\n",
    "# Drop Unnecessary Fields\n",
    "fields_to_drop = ['PassengerId', 'Ticket', 'Parch', 'Name', 'Cabin', 'Fare', 'Pclass', 'Embarked', 'Sex', 'Sex_male']\n",
    "data           = data.drop(fields_to_drop, axis=1)\n",
    "\n",
    "# Calculate Standard Score\n",
    "mean               = data['Age'].mean()\n",
    "std                = data['Age'].std()\n",
    "data.loc[:, 'Age'] = (data['Age'] - mean) / std\n",
    "data               = data.fillna(0)\n",
    "data               = data.sample(frac=1).reset_index(drop=True)\n",
    "\n",
    "# Create Labeled Dataset\n",
    "X = data.drop('Survived', axis=1).values\n",
    "y = data[['Survived']].values\n",
    "print('Dataset: ' + str(X.shape))\n",
    "print('Labels:  ' + str(y.shape))"
   ]
  },
  {
   "cell_type": "code",
   "execution_count": 2,
   "metadata": {},
   "outputs": [
    {
     "name": "stdout",
     "output_type": "stream",
     "text": [
      "Predictions: (891, 1)\n"
     ]
    },
    {
     "data": {
      "image/png": "[encoded data removed]",
      "text/plain": [
       "<Figure size 432x288 with 1 Axes>"
      ]
     },
     "metadata": {
      "needs_background": "light"
     },
     "output_type": "display_data"
    }
   ],
   "source": [
    "def nn(X, y, hidden_dim=10, learning_rate=0.01, epochs=10, debug=False):\n",
    "\n",
    "    input_dim  = X.shape[1]\n",
    "    output_dim = y.shape[1]\n",
    "\n",
    "    # Create our model\n",
    "    model = dict(\n",
    "                 w0 = np.random.randn(input_dim, hidden_dim),\n",
    "                 w1 = np.random.randn(hidden_dim, output_dim)\n",
    "                )\n",
    "\n",
    "    losses = []\n",
    "\n",
    "    def sigmoid(x, derive=False):\n",
    "        if derive:\n",
    "            return x * (1-x)\n",
    "        return 1/(1+np.exp(-x))\n",
    "\n",
    "    def logloss(y, y_hat):\n",
    "        return -np.mean(y*np.log(y_hat) + (1-y)*np.log(1-y_hat))\n",
    "\n",
    "    def run(layer0, model):\n",
    "        layer1 = sigmoid(np.dot(layer0, model['w0']))\n",
    "        layer2 = sigmoid(np.dot(layer1, model['w1']))\n",
    "        return layer1, layer2\n",
    "\n",
    "    def train_step(model):\n",
    "        \n",
    "        # Forward Pass\n",
    "        layer1, layer2 = run(X, model)\n",
    "\n",
    "        # Backpropagation\n",
    "        l2_error = -(y / layer2 - (1-y) / (1-layer2))\n",
    "        l2_delta = l2_error * sigmoid(layer2, derive=True)\n",
    "        l1_error = l2_delta.dot(model['w1'].T)\n",
    "        l1_delta = l1_error * sigmoid(layer1, derive=True)\n",
    "\n",
    "        # Store error for plotting\n",
    "        loss = logloss(y, layer2) / 2\n",
    "        losses.append(loss)\n",
    "\n",
    "        # Update model weights\n",
    "        model['w1'] -= learning_rate * layer1.T.dot(l2_delta)\n",
    "        model['w0'] -= learning_rate * X.T.dot(l1_delta)\n",
    "\n",
    "        return model\n",
    "\n",
    "    for i in range(epochs):\n",
    "        model = train_step(model)\n",
    "\n",
    "    if debug:\n",
    "        plt.plot(losses)\n",
    "        plt.xlabel(\"Epoch\")\n",
    "        plt.ylabel(\"Loss\")\n",
    "\n",
    "    # Final prediction\n",
    "    layer1, layer2 = run(X, model)\n",
    "\n",
    "    return layer2\n",
    "\n",
    "y_pred = nn(X, y, hidden_dim=10, learning_rate=0.01, epochs=10, debug=True)\n",
    "print('Predictions: ' + str(y_pred.shape))"
   ]
  },
  {
   "cell_type": "code",
   "execution_count": null,
   "metadata": {},
   "outputs": [],
   "source": []
  }
 ],
 "metadata": {
  "kernelspec": {
   "display_name": "Python 3",
   "language": "python",
   "name": "python3"
  },
  "language_info": {
   "codemirror_mode": {
    "name": "ipython",
    "version": 3
   },
   "file_extension": ".py",
   "mimetype": "text/x-python",
   "name": "python",
   "nbconvert_exporter": "python",
   "pygments_lexer": "ipython3",
   "version": "3.7.1"
  }
 },
 "nbformat": 4,
 "nbformat_minor": 2
}
