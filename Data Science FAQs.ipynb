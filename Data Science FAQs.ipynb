{
 "cells": [
  {
   "cell_type": "markdown",
   "metadata": {},
   "source": [
    "### Algorithms & Theory\n",
    "[Define precision and recall.](#5)<br>\n",
    "[What is a Fourier transform?](#11)<br>\n",
    "[Why is “Naive” Bayes naive?](#7)<br>\n",
    "[How is a decision tree pruned?](#16)<br>\n",
    "[Explain how a ROC curve works.](#4)<br>\n",
    "[What’s the F1 score? How would you use it?](#18)<br>\n",
    "[What is the “kernel trick” and how is it useful?](#25)<br>\n",
    "[How would you handle an imbalanced dataset?](#19)<br>\n",
    "[How is KNN different from k-means clustering?](#3)<br>\n",
    "[What is the trade-off between bias and variance?](#1)<br>\n",
    "[When should you use classification over regression?](#20)<br>\n",
    "[How would you evaluate a logistic regression model?](#24)<br>\n",
    "[How do you ensure you’re not overfitting with a model?](#22)<br>\n",
    "[What is the difference between Type I and Type II error?](#10)<br>\n",
    "[Explain the difference between L1 and L2 regularization.](#8)<br>\n",
    "[What is the difference between probability and likelihood?](#12)<br>\n",
    "[Name an example where ensemble techniques might be useful.](#21)<br>\n",
    "[What is the difference between a generative and discriminative model?](#14)<br>\n",
    "[What cross-validation technique would you use on a time series dataset?](#15)<br>\n",
    "[What is Bayes’ Theorem? How is it useful in a machine learning context?](#6)<br>\n",
    "[Which is more important to you– model accuracy, or model performance?](#17)<br>\n",
    "[What is the difference between supervised and unsupervised machine learning?](#2)<br>\n",
    "[What is your favorite algorithm, and can you explain it to me in less than a minute?](#9)<br>\n",
    "[What is deep learning and how does it contrast with other machine learning algorithms?](#13)<br>\n",
    "[What evaluation approaches would you work to gauge the effectiveness of a machine learning model?](#23)<br>"
   ]
  },
  {
   "cell_type": "markdown",
   "metadata": {},
   "source": [
    "### Programming\n",
    "[Describe a hash table.](#30)<br>\n",
    "[How do you handle missing or corrupted data in a dataset?](#26)<br>\n",
    "[What are some differences between a linked list and an array?](#29)<br>\n",
    "[Pick an algorithm. Write the psuedo-code for a parallel implementation.](#28)<br>\n",
    "[Do you have experience with Spark or big data tools for machine learning?](#27)<br>\n",
    "[Which data visualization libraries do you use? What are your thoughts on the best data visualization tools?](#31)<br>"
   ]
  },
  {
   "cell_type": "markdown",
   "metadata": {},
   "source": [
    "### Company & Industry\n",
    "\n",
    "[What do you think of our current data process?](#34)<br>\n",
    "[How can we use your machine learning skills to generate revenue?](#33)<br>\n",
    "[How would you implement a recommendation system for our company’s users?](#32)<br>"
   ]
  },
  {
   "cell_type": "markdown",
   "metadata": {},
   "source": [
    "### General Machine Learning Interest\n",
    "\n",
    "[Where do you usually source datasets?](#39)<br>\n",
    "[Do you have research experience in machine learning?](#36)<br>\n",
    "[What are the last machine learning papers you’ve read?](#35)<br>\n",
    "[How would you approach the “Netflix Prize” competition?](#38)<br>\n",
    "[How do you think Google is training data for self-driving cars?](#40)<br>\n",
    "[What are your favorite use cases of machine learning models?](#37)<br>\n",
    "[How would you simulate the approach AlphaGo took to beat Lee Sidol at Go?](#41)<br>"
   ]
  },
  {
   "cell_type": "markdown",
   "metadata": {},
   "source": [
    "### How would you simulate the approach AlphaGo took to beat Lee Sidol at Go?<a id=\"41\"></a>\n",
    "\n",
    "AlphaGo beating Lee Sidol, the best human player at Go, in a best-of-five series was a truly seminal event in the history of machine learning and deep learning. The Nature paper above describes how this was accomplished with “Monte-Carlo tree search with deep neural networks that have been trained by supervised learning, from human expert games, and by reinforcement learning from games of self-play.”"
   ]
  },
  {
   "cell_type": "markdown",
   "metadata": {},
   "source": [
    "### How do you think Google is training data for self-driving cars?<a id=\"40\"></a>\n",
    "\n",
    "Machine learning interview questions like this one really test your knowledge of different machine learning methods, and your inventiveness if you don’t know the answer. Google is currently using recaptcha to source labeled data on storefronts and traffic signs. They are also building on training data collected by Sebastian Thrun at GoogleX — some of which was obtained by his grad students driving buggies on desert dunes!"
   ]
  },
  {
   "cell_type": "markdown",
   "metadata": {},
   "source": [
    "### Where do you usually source datasets?<a id=\"39\"></a>\n",
    "\n",
    "Machine learning interview questions like these try to get at the heart of your machine learning interest. Somebody who is truly passionate about machine learning will have gone off and done side projects on their own, and have a good idea of what great datasets are out there. If you’re missing any, check out Quandl for economic and financial data, and Kaggle’s Datasets collection for another great list."
   ]
  },
  {
   "cell_type": "markdown",
   "metadata": {},
   "source": [
    "### How would you approach the “Netflix Prize” competition?<a id=\"38\"></a>\n",
    "\n",
    "The Netflix Prize was a famed competition where Netflix offered $1,000,000 for a better collaborative filtering algorithm. The team that won called BellKor had a 10 percent improvement and used an ensemble of different methods to win. Some familiarity with the case and its solution will help demonstrate you’ve paid attention to machine learning for a while."
   ]
  },
  {
   "cell_type": "markdown",
   "metadata": {},
   "source": [
    "### What are your favorite use cases of machine learning models?<a id=\"37\"></a>\n",
    "\n",
    "The Quora thread above contains some examples, such as decision trees that categorize people into different tiers of intelligence based on IQ scores. Make sure that you have a few examples in mind and describe what resonated with you. It’s important that you demonstrate an interest in how machine learning is implemented."
   ]
  },
  {
   "cell_type": "markdown",
   "metadata": {},
   "source": [
    "### Do you have research experience in machine learning?<a id=\"36\"></a>\n",
    "\n",
    "Related to the last point, most organizations hiring for machine learning positions will look for your formal experience in the field. Research papers, co-authored or supervised by leaders in the field, can make the difference between you being hired and not. Make sure you have a summary of your research experience and papers ready — and an explanation for your background and lack of formal research experience if you don’t."
   ]
  },
  {
   "cell_type": "markdown",
   "metadata": {},
   "source": [
    "### What are the last machine learning papers you’ve read?<a id=\"35\"></a>\n",
    "\n",
    "Keeping up with the latest scientific literature on machine learning is a must if you want to demonstrate interest in a machine learning position. This overview of deep learning in Nature by the scions of deep learning themselves (from Hinton to Bengio to LeCun) can be a good reference paper and an overview of what’s happening in deep learning — and the kind of paper you might want to cite."
   ]
  },
  {
   "cell_type": "markdown",
   "metadata": {},
   "source": [
    "### What do you think of our current data process?<a id=\"34\"></a>\n",
    "\n",
    "This kind of question requires you to listen carefully and impart feedback in a manner that is constructive and insightful. Your interviewer is trying to gauge if you’d be a valuable member of their team and whether you grasp the nuances of why certain things are set the way they are in the company’s data process based on company- or industry-specific conditions. They’re trying to see if you can be an intellectual peer. Act accordingly."
   ]
  },
  {
   "cell_type": "markdown",
   "metadata": {},
   "source": [
    "### How can we use your machine learning skills to generate revenue?<a id=\"33\"></a>\n",
    "\n",
    "This is a tricky question. The ideal answer would demonstrate knowledge of what drives the business and how your skills could relate. For example, if you were interviewing for music-streaming startup Spotify, you could remark that your skills at developing a better recommendation model would increase user retention, which would then increase revenue in the long run.\n",
    "\n",
    "The startup metrics Slideshare linked above will help you understand exactly what performance indicators are important for startups and tech companies as they think about revenue and growth."
   ]
  },
  {
   "cell_type": "markdown",
   "metadata": {},
   "source": [
    "### How would you implement a recommendation system for our company’s users?<a id=\"32\"></a>\n",
    "\n",
    "A lot of machine learning interview questions of this type will involve implementation of machine learning models to a company’s problems. You’ll have to research the company and its industry in-depth, especially the revenue drivers the company has, and the types of users the company takes on in the context of the industry it’s in."
   ]
  },
  {
   "cell_type": "markdown",
   "metadata": {},
   "source": [
    "### Which data visualization libraries do you use? What are your thoughts on the best data visualization tools?<a id=\"31\"></a>\n",
    "\n",
    "What’s important here is to define your views on how to properly visualize data and your personal preferences when it comes to tools. Popular tools include R’s ggplot, Python’s seaborn and matplotlib, and tools such as Plot.ly and Tableau."
   ]
  },
  {
   "cell_type": "markdown",
   "metadata": {},
   "source": [
    "### Describe a hash table.<a id=\"30\"></a>\n",
    "\n",
    "A hash table is a data structure that produces an associative array. A key is mapped to certain values through the use of a hash function. They are often used for tasks such as database indexing."
   ]
  },
  {
   "cell_type": "markdown",
   "metadata": {},
   "source": [
    "### What are some differences between a linked list and an array?<a id=\"29\"></a>\n",
    "\n",
    "An array is an ordered collection of objects. A linked list is a series of objects with pointers that direct how to process them sequentially. An array assumes that every element has the same size, unlike the linked list. A linked list can more easily grow organically: an array has to be pre-defined or re-defined for organic growth. Shuffling a linked list involves changing which points direct where — meanwhile, shuffling an array is more complex and takes more memory."
   ]
  },
  {
   "cell_type": "markdown",
   "metadata": {},
   "source": [
    "### Pick an algorithm. Write the psuedo-code for a parallel implementation.<a id=\"28\"></a>\n",
    "\n",
    "This kind of question demonstrates your ability to think in parallelism and how you could handle concurrency in programming implementations dealing with big data. Take a look at pseudocode frameworks such as Peril-L and visualization tools such as Web Sequence Diagrams to help you demonstrate your ability to write code that reflects parallelism."
   ]
  },
  {
   "cell_type": "markdown",
   "metadata": {},
   "source": [
    "### Do you have experience with Spark or big data tools for machine learning?<a id=\"27\"></a>\n",
    "\n",
    "You will want to get familiar with the meaning of big data for different companies and the different tools they’ll want. Spark is the big data tool most in demand now, able to handle immense datasets with speed. Be honest if you don’t have experience with the tools demanded, but also take a look at job descriptions and see what tools pop up: you’ll want to invest in familiarizing yourself with them."
   ]
  },
  {
   "cell_type": "markdown",
   "metadata": {},
   "source": [
    "### How do you handle missing or corrupted data in a dataset?<a id=\"26\"></a>\n",
    "\n",
    "You could find missing/corrupted data in a dataset and either drop those rows or columns, or decide to replace them with another value.\n",
    "\n",
    "In Pandas, there are two very useful methods: isnull() and dropna() that will help you find columns of data with missing or corrupted data and drop those values. If you want to fill the invalid values with a placeholder value (for example, 0), you could use the fillna() method."
   ]
  },
  {
   "cell_type": "markdown",
   "metadata": {},
   "source": [
    "### What is the “kernel trick” and how is it useful?<a id=\"25\"></a>\n",
    "\n",
    "The Kernel trick involves kernel functions that can enable in higher-dimension spaces without explicitly calculating the coordinates of points within that dimension: instead, kernel functions compute the inner products between the images of all pairs of data in a feature space. This allows them the very useful attribute of calculating the coordinates of higher dimensions while being computationally cheaper than the explicit calculation of said coordinates. Many algorithms can be expressed in terms of inner products. Using the kernel trick enables us effectively run algorithms in a high-dimensional space with lower-dimensional data."
   ]
  },
  {
   "cell_type": "markdown",
   "metadata": {},
   "source": [
    "### How would you evaluate a logistic regression model?<a id=\"24\"></a>\n",
    "\n",
    "A subsection of the question above. You have to demonstrate an understanding of what the typical goals of a logistic regression are (classification, prediction etc.) and bring up a few examples and use cases."
   ]
  },
  {
   "cell_type": "markdown",
   "metadata": {},
   "source": [
    "### What evaluation approaches would you work to gauge the effectiveness of a machine learning model?<a id=\"23\"></a>\n",
    "\n",
    "You would first split the dataset into training and test sets, or perhaps use cross-validation techniques to further segment the dataset into composite sets of training and test sets within the data. You should then implement a choice selection of performance metrics: here is a fairly comprehensive list. You could use measures such as the F1 score, the accuracy, and the confusion matrix. What’s important here is to demonstrate that you understand the nuances of how a model is measured and how to choose the right performance measures for the right situations."
   ]
  },
  {
   "cell_type": "markdown",
   "metadata": {},
   "source": [
    "### How do you ensure you’re not overfitting with a model?<a id=\"22\"></a>\n",
    "\n",
    "This is a simple restatement of a fundamental problem in machine learning: the possibility of overfitting training data and carrying the noise of that data through to the test set, thereby providing inaccurate generalizations.\n",
    "\n",
    "There are three main methods to avoid overfitting:\n",
    "\n",
    "1- Keep the model simpler: reduce variance by taking into account fewer variables and parameters, thereby removing some of the noise in the training data.\n",
    "\n",
    "2- Use cross-validation techniques such as k-folds cross-validation.\n",
    "\n",
    "3- Use regularization techniques such as LASSO that penalize certain model parameters if they’re likely to cause overfitting."
   ]
  },
  {
   "cell_type": "markdown",
   "metadata": {},
   "source": [
    "### Name an example where ensemble techniques might be useful.<a id=\"21\"></a>\n",
    "\n",
    "Ensemble techniques use a combination of learning algorithms to optimize better predictive performance. They typically reduce overfitting in models and make the model more robust (unlikely to be influenced by small changes in the training data). \n",
    "\n",
    "You could list some examples of ensemble methods, from bagging to boosting to a “bucket of models” method and demonstrate how they could increase predictive power."
   ]
  },
  {
   "cell_type": "markdown",
   "metadata": {},
   "source": [
    "### When should you use classification over regression?<a id=\"20\"></a>\n",
    "\n",
    "Classification produces discrete values and dataset to strict categories, while regression gives you continuous results that allow you to better distinguish differences between individual points. You would use classification over regression if you wanted your results to reflect the belongingness of data points in your dataset to certain explicit categories (ex: If you wanted to know whether a name was male or female rather than just how correlated they were with male and female names.)"
   ]
  },
  {
   "cell_type": "markdown",
   "metadata": {},
   "source": [
    "### How would you handle an imbalanced dataset?<a id=\"19\"></a>\n",
    "\n",
    "An imbalanced dataset is when you have, for example, a classification test and 90% of the data is in one class. That leads to problems: an accuracy of 90% can be skewed if you have no predictive power on the other category of data! Here are a few tactics to get over the hump:\n",
    "\n",
    "1- Collect more data to even the imbalances in the dataset.<br>\n",
    "2- Resample the dataset to correct for imbalances.<br>\n",
    "3- Try a different algorithm altogether on your dataset.<br>\n",
    "\n",
    "What’s important here is that you have a keen sense for what damage an unbalanced dataset can cause, and how to balance that."
   ]
  },
  {
   "cell_type": "markdown",
   "metadata": {},
   "source": [
    "### What’s the F1 score? How would you use it?<a id=\"18\"></a>\n",
    "\n",
    "The F1 score is a measure of a model’s performance. It is a weighted average of the precision and recall of a model, with results tending to 1 being the best, and those tending to 0 being the worst. You would use it in classification tests where true negatives don’t matter much."
   ]
  },
  {
   "cell_type": "markdown",
   "metadata": {},
   "source": [
    "### Which is more important to you– model accuracy, or model performance?<a id=\"17\"></a>\n",
    "\n",
    "The accuracy paradox is the paradoxical finding that accuracy is not a good metric for predictive models when classifying in predictive analytics. This is because a simple model may have a high level of accuracy but be too crude to be useful. For example, if the incidence of category A is dominant, being found in 99% of cases, then predicting that every case is category A will have an accuracy of 99%. Precision and recall are better measures in such cases. The underlying issue is that class priors need to be accounted for in error analysis. Precision and recall help, but precision too can be biased by very unbalanced class priors in the test sets.\n",
    "\n",
    "This question tests your grasp of the nuances of machine learning model performance. Machine learning interview questions often look towards the details. There are models with higher accuracy that can perform worse in predictive power — how does that make sense?\n",
    "\n",
    "It has everything to do with how model accuracy is only a subset of model performance, and at that, a sometimes misleading one. For example, if you wanted to detect fraud in a massive dataset with a sample of millions, a more accurate model would most likely predict no fraud at all if only a vast minority of cases were fraud. However, this would be useless for a predictive model — a model designed to find fraud that asserted there was no fraud at all! Questions like this help you demonstrate that you understand model accuracy is not the be-all and end-all of model performance."
   ]
  },
  {
   "cell_type": "markdown",
   "metadata": {},
   "source": [
    "### How is a decision tree pruned?<a id=\"16\"></a>\n",
    "\n",
    "Pruning is what happens in decision trees when branches that have weak predictive power are removed in order to reduce the complexity of the model and increase the predictive accuracy of a decision tree model. Pruning can happen bottom-up and top-down, with approaches such as reduced error pruning and cost complexity pruning.\n",
    "\n",
    "Reduced error pruning is perhaps the simplest version: replace each node. If it doesn’t decrease predictive accuracy, keep it pruned. While simple, this heuristic actually comes pretty close to an approach that would optimize for maximum accuracy."
   ]
  },
  {
   "cell_type": "markdown",
   "metadata": {},
   "source": [
    "### What cross-validation technique would you use on a time series dataset?<a id=\"15\"></a>\n",
    "\n",
    "Instead of using standard k-folds cross-validation, you have to pay attention to the fact that a time series is not randomly distributed data — it is inherently ordered by chronological order. If a pattern emerges in later time periods for example, your model may still pick up on it even if that effect doesn’t hold in earlier years.\n",
    "\n",
    "You will want to do something like forward chaining where you’ll be able to model on past data then look at forward-facing data."
   ]
  },
  {
   "cell_type": "markdown",
   "metadata": {},
   "source": [
    "### What is the difference between a generative and discriminative model?<a id=\"14\"></a>\n",
    "\n",
    "A generative model will learn categories of data while a discriminative model will simply learn the distinction between different categories of data. Discriminative models will generally outperform generative models on classification tasks."
   ]
  },
  {
   "cell_type": "markdown",
   "metadata": {},
   "source": [
    "### What is deep learning and how does it contrast with other machine learning algorithms?<a id=\"13\"></a>\n",
    "\n",
    "Deep learning is a subset of machine learning that is concerned with neural networks: how to use backpropagation and certain principles from neuroscience to more accurately model large sets of unlabelled or semi-structured data. In that sense, deep learning represents an unsupervised learning algorithm that learns representations of data through the use of neural nets."
   ]
  },
  {
   "cell_type": "markdown",
   "metadata": {},
   "source": [
    "### What is the difference between probability and likelihood?<a id=\"12\"></a>\n",
    "\n",
    "Probability describes the plausibility of (random) observed data-- assumed to be described by a statistical model, and specified parameter value(s)-- without reference to any observed data.\n",
    "\n",
    "Likelihood describes the plausibility, given specific observed data, of a parameter value of the statistical model which is assumed to describe that data."
   ]
  },
  {
   "cell_type": "markdown",
   "metadata": {},
   "source": [
    "### What is a Fourier transform?<a id=\"11\"></a>\n",
    "\n",
    "A Fourier transform is a generic method to decompose generic functions into a superposition of symmetric functions. The Fourier transform finds the set of cycle speeds, amplitudes and phases to match any time signal. A Fourier transform converts a signal from time to frequency domain — it’s a very common way to extract features from audio signals or other time series such as sensor data."
   ]
  },
  {
   "cell_type": "markdown",
   "metadata": {},
   "source": [
    "### What’s the difference between Type I and Type II error?<a id=\"10\"></a>\n",
    "\n",
    "Type I error is a false positive, while Type II error is a false negative. Briefly stated, Type I error means claiming something has happened when it hasn’t, while Type II error means that you claim nothing is happening when in fact something is.\n",
    "\n",
    "A clever way to think about this is to think of Type I error as telling a man he is pregnant, while Type II error means you tell a pregnant woman she isn’t carrying a baby."
   ]
  },
  {
   "cell_type": "markdown",
   "metadata": {},
   "source": [
    "### What’s your favorite algorithm, and can you explain it to me in less than a minute?<a id=\"9\"></a>\n",
    "\n",
    "This type of question tests your understanding of how to communicate complex and technical nuances with poise and the ability to summarize quickly and efficiently. Make sure you have a choice and make sure you can explain different algorithms so simply and effectively that a five-year-old could grasp the basics!"
   ]
  },
  {
   "cell_type": "markdown",
   "metadata": {},
   "source": [
    "### Explain the difference between L1 and L2 regularization.<a id=\"8\"></a>\n",
    "\n",
    "L2 regularization tends to spread error among all the terms, while L1 is more binary/sparse, with many variables either being assigned a 1 or 0 in weighting. L1 corresponds to setting a Laplacean prior on the terms, while L2 corresponds to a Gaussian prior."
   ]
  },
  {
   "cell_type": "markdown",
   "metadata": {},
   "source": [
    "### Why is “Naive” Bayes naive?<a id=\"7\"></a>\n",
    "\n",
    "Despite its practical applications, especially in text mining, Naive Bayes is considered “Naive” because it makes an assumption that is virtually impossible to see in real-life data: the conditional probability is calculated as the pure product of the individual probabilities of components. This implies the absolute independence of features — a condition probably never met in real life.\n",
    "\n",
    "As a Quora commenter put it whimsically, a Naive Bayes classifier that figured out that you liked pickles and ice cream would probably naively recommend you a pickle ice cream."
   ]
  },
  {
   "cell_type": "markdown",
   "metadata": {},
   "source": [
    "### What is Bayes’ Theorem? How is it useful in a machine learning context?<a id=\"6\"></a>\n",
    "\n",
    "Bayes’ Theorem gives you the posterior probability of an event given what is known as prior knowledge.\n",
    "\n",
    "Mathematically, it’s expressed as the true positive rate of a condition sample divided by the sum of the false positive rate of the population and the true positive rate of a condition. Say you had a 60% chance of actually having the flu after a flu test, but out of people who had the flu, the test will be false 50% of the time, and the overall population only has a 5% chance of having the flu. Would you actually have a 60% chance of having the flu after having a positive test?\n",
    "\n",
    "Bayes’ Theorem says no. It says that you have a (.6 * 0.05) (True Positive Rate of a Condition Sample) / (.6*0.05)(True Positive Rate of a Condition Sample) + (.5*0.95) (False Positive Rate of a Population)  = 0.0594 or 5.94% chance of getting a flu.\n",
    "\n",
    "Bayes’ Theorem is the basis behind a branch of machine learning that most notably includes the Naive Bayes classifier. That’s something important to consider when you’re faced with machine learning interview questions."
   ]
  },
  {
   "cell_type": "markdown",
   "metadata": {},
   "source": [
    "### Define precision and recall.<a id=\"5\"></a>\n",
    "\n",
    "Recall is also known as the true positive rate: the amount of positives your model claims compared to the actual number of positives there are throughout the data. Precision is also known as the positive predictive value, and it is a measure of the amount of accurate positives your model claims compared to the number of positives it actually claims. It can be easier to think of recall and precision in the context of a case where you’ve predicted that there were 10 apples and 5 oranges in a case of 10 apples. You’d have perfect recall (there are actually 10 apples, and you predicted there would be 10) but 66.7% precision because out of the 15 events you predicted, only 10 (the apples) are correct."
   ]
  },
  {
   "cell_type": "markdown",
   "metadata": {},
   "source": [
    "### Explain how a ROC curve works.<a id=\"4\"></a>\n",
    "\n",
    "The ROC curve is a graphical representation of the contrast between true positive rates and the false positive rate at various thresholds. It is often used as a proxy for the trade-off between the sensitivity of the model (true positives) versus the fall-out or the probability it will trigger a false alarm (false positives)."
   ]
  },
  {
   "cell_type": "markdown",
   "metadata": {},
   "source": [
    "### How is KNN different from k-means clustering?<a id=\"3\"></a>\n",
    "\n",
    "K-Nearest Neighbors is a supervised classification algorithm, while k-means clustering is an unsupervised clustering algorithm. While the mechanisms may seem similar at first, what this really means is that in order for K-Nearest Neighbors to work, you need labeled data you want to classify an unlabeled point into (thus the nearest neighbor part). K-means clustering requires only a set of unlabeled points and a threshold: the algorithm will take unlabeled points and gradually learn how to cluster them into groups by computing the mean of the distance between different points.\n",
    "\n",
    "The critical difference here is that KNN needs labeled points and is thus supervised learning, while k-means doesn’t — and is thus unsupervised learning."
   ]
  },
  {
   "cell_type": "markdown",
   "metadata": {},
   "source": [
    "### What is the difference between supervised and unsupervised machine learning?<a id=\"2\"></a>\n",
    "\n",
    "Supervised learning requires training labeled data. For example, in order to do classification (a supervised learning task), you’ll need to first label the data you’ll use to train the model to classify data into your labeled groups. Unsupervised learning, in contrast, does not require labeling data explicitly."
   ]
  },
  {
   "cell_type": "markdown",
   "metadata": {},
   "source": [
    "### What is the trade-off between bias and variance? <a id=\"1\"></a>\n",
    "\n",
    "Bias is error due to erroneous or overly simplistic assumptions in the learning algorithm you’re using. This can lead to the model underfitting your data, making it hard for it to have high predictive accuracy and for you to generalize your knowledge from the training set to the test set.\n",
    "\n",
    "Variance is error due to too much complexity in the learning algorithm you’re using. This leads to the algorithm being highly sensitive to high degrees of variation in your training data, which can lead your model to overfit the data. You’ll be carrying too much noise from your training data for your model to be very useful for your test data.\n",
    "\n",
    "The bias-variance decomposition essentially decomposes the learning error from any algorithm by adding the bias, the variance and a bit of irreducible error due to noise in the underlying dataset. Essentially, if you make the model more complex and add more variables, you’ll lose bias but gain some variance — in order to get the optimally reduced amount of error, you’ll have to tradeoff bias and variance. You don’t want either high bias or high variance in your model."
   ]
  }
 ],
 "metadata": {
  "kernelspec": {
   "display_name": "Python 3",
   "language": "python",
   "name": "python3"
  },
  "language_info": {
   "codemirror_mode": {
    "name": "ipython",
    "version": 3
   },
   "file_extension": ".py",
   "mimetype": "text/x-python",
   "name": "python",
   "nbconvert_exporter": "python",
   "pygments_lexer": "ipython3",
   "version": "3.7.1"
  }
 },
 "nbformat": 4,
 "nbformat_minor": 2
}
