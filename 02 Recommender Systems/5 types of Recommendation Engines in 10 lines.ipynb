{
 "cells": [
  {
   "cell_type": "markdown",
   "metadata": {},
   "source": [
    "### t2.micro, AWS Marketplace -> Anaconda with Python 3"
   ]
  },
  {
   "cell_type": "markdown",
   "metadata": {},
   "source": [
    "### 1) Popularity (User-based Collaborative Filtering)"
   ]
  },
  {
   "cell_type": "code",
   "execution_count": 2,
   "metadata": {},
   "outputs": [
    {
     "name": "stdout",
     "output_type": "stream",
     "text": [
      "The Top 5 Most Popular Cuisine is:\n"
     ]
    },
    {
     "data": {
      "text/html": [
       "<div>\n",
       "<style scoped>\n",
       "    .dataframe tbody tr th:only-of-type {\n",
       "        vertical-align: middle;\n",
       "    }\n",
       "\n",
       "    .dataframe tbody tr th {\n",
       "        vertical-align: top;\n",
       "    }\n",
       "\n",
       "    .dataframe thead th {\n",
       "        text-align: right;\n",
       "    }\n",
       "</style>\n",
       "<table border=\"1\" class=\"dataframe\">\n",
       "  <thead>\n",
       "    <tr style=\"text-align: right;\">\n",
       "      <th></th>\n",
       "      <th>rating</th>\n",
       "    </tr>\n",
       "    <tr>\n",
       "      <th>Rcuisine</th>\n",
       "      <th></th>\n",
       "    </tr>\n",
       "  </thead>\n",
       "  <tbody>\n",
       "    <tr>\n",
       "      <th>Mexican</th>\n",
       "      <td>283</td>\n",
       "    </tr>\n",
       "    <tr>\n",
       "      <th>Bar</th>\n",
       "      <td>168</td>\n",
       "    </tr>\n",
       "    <tr>\n",
       "      <th>Cafeteria</th>\n",
       "      <td>123</td>\n",
       "    </tr>\n",
       "    <tr>\n",
       "      <th>Fast_Food</th>\n",
       "      <td>106</td>\n",
       "    </tr>\n",
       "    <tr>\n",
       "      <th>Seafood</th>\n",
       "      <td>77</td>\n",
       "    </tr>\n",
       "  </tbody>\n",
       "</table>\n",
       "</div>"
      ],
      "text/plain": [
       "           rating\n",
       "Rcuisine         \n",
       "Mexican       283\n",
       "Bar           168\n",
       "Cafeteria     123\n",
       "Fast_Food     106\n",
       "Seafood        77"
      ]
     },
     "execution_count": 2,
     "metadata": {},
     "output_type": "execute_result"
    }
   ],
   "source": [
    "import pandas as pd\n",
    "\n",
    "cuisine = pd.read_csv('recommendation_cuisine.csv', sep = ',')\n",
    "\n",
    "print('The Top 5 Most Popular Cuisine is:')\n",
    "pd.DataFrame(cuisine.groupby(['Rcuisine'])['rating'].sum()).sort_values('rating', ascending=False).head(5)"
   ]
  },
  {
   "cell_type": "markdown",
   "metadata": {},
   "source": [
    "### 2) Correlation (Item-based Collaborative Filtering)"
   ]
  },
  {
   "cell_type": "code",
   "execution_count": 1,
   "metadata": {
    "scrolled": false
   },
   "outputs": [
    {
     "name": "stdout",
     "output_type": "stream",
     "text": [
      "The Most Comparable Restaurant to La Cantina Restaurante is:\n",
      "         PearsonR  rating\n",
      "placeID                  \n",
      "132572   1.000000      15\n",
      "135058   1.000000      18\n",
      "132872   1.000000      12\n",
      "132951   1.000000      10\n",
      "135054   1.000000      10\n",
      "135052   1.000000      50\n",
      "132856   0.918085      14\n",
      "135057   0.870388      15\n",
      "132921   0.866025      17\n",
      "132825   0.801002      32\n"
     ]
    }
   ],
   "source": [
    "import warnings\n",
    "warnings.filterwarnings(\"ignore\")\n",
    "\n",
    "import pandas as pd\n",
    "\n",
    "cuisine             = pd.read_csv('recommendation_cuisine.csv', sep = ',')\n",
    "ratings_matrix      = pd.pivot_table(data = cuisine, values='rating', index='userID', columns='placeID')\n",
    "ratings_correlation = ratings_matrix.corrwith(ratings_matrix[135052]) # 135052 = La Cantina Restaurante\n",
    "ratings_correlation = pd.DataFrame(ratings_correlation, columns=['PearsonR'])\n",
    "ratings_correlation.dropna(inplace=True)\n",
    "ratings_correlation = ratings_correlation.join(pd.DataFrame(cuisine.groupby('placeID')['rating'].count()))\n",
    "\n",
    "print('The Most Comparable Restaurant to La Cantina Restaurante is:')\n",
    "print(ratings_correlation[ratings_correlation['rating']>=10].sort_values('PearsonR', ascending=False).head(10))"
   ]
  },
  {
   "cell_type": "markdown",
   "metadata": {},
   "source": [
    "### 3) Classification (Logistic Regression or other Machine Learning alogorithm)"
   ]
  },
  {
   "cell_type": "code",
   "execution_count": 2,
   "metadata": {},
   "outputs": [
    {
     "name": "stdout",
     "output_type": "stream",
     "text": [
      "Should this customer be recommended for a loan?: no\n"
     ]
    }
   ],
   "source": [
    "import pandas as pd\n",
    "from sklearn.linear_model import LogisticRegression\n",
    "\n",
    "bank_data      = pd.read_csv('recommendation_bank.csv')\n",
    "one_hot_encode = bank_data[[\n",
    "                            'housing_loan'     , 'credit_in_default', 'personal_loans', 'prev_failed_to_subscribe',\n",
    "                            'prev_subscribed'  , 'job_management'   , 'job_tech'      , 'job_entrepreneur'        ,\n",
    "                            'job_bluecollar'   , 'job_unknown'      , 'job_retired'   , 'job_services'            ,\n",
    "                            'job_self_employed', 'job_unemployed'   , 'job_maid'      , 'job_student'             ,\n",
    "                            'married'          , 'single'           , 'divorced'\n",
    "                          ]]\n",
    "label          = bank_data['y']\n",
    "\n",
    "customer_attributes = [[0, 1, 0, 0, 0, 1, 0, 1, 1, 0, 1, 0, 1, 1, 1, 0, 1, 1, 1]]\n",
    "y_pred              = LogisticRegression(solver='lbfgs').fit(one_hot_encode, label).predict(customer_attributes)\n",
    "\n",
    "print('Should this customer be recommended for a loan?: ' + y_pred[0])"
   ]
  },
  {
   "cell_type": "markdown",
   "metadata": {},
   "source": [
    "### 4) Model (Singular Value Decomposition)"
   ]
  },
  {
   "cell_type": "code",
   "execution_count": 2,
   "metadata": {},
   "outputs": [
    {
     "name": "stdout",
     "output_type": "stream",
     "text": [
      "The movies 90% similar to Fargo (1996) based upon ratings are:\n",
      "['Basquiat (1996)', 'Denise Calls Up (1995)', 'Fargo (1996)', 'Grosse Pointe Blank (1997)', 'Hudsucker Proxy, The (1994)', 'Mighty Aphrodite (1995)', 'Nikita (La Femme Nikita) (1990)', 'People vs. Larry Flynt, The (1996)', 'Swingers (1996)', 'Twelve Monkeys (1995)']\n"
     ]
    }
   ],
   "source": [
    "import numpy as np\n",
    "import pandas as pd\n",
    "from sklearn.decomposition import TruncatedSVD\n",
    "\n",
    "movie_reviews      = pd.read_csv('recommendation_movies.csv')\n",
    "ratings_matrix     = movie_reviews.pivot_table(values='rating', index='user_id', columns='movie title', fill_value=0)\n",
    "decomposed_matrix  = TruncatedSVD(n_components=10).fit_transform(ratings_matrix.T)\n",
    "correlation_matrix = np.corrcoef(decomposed_matrix)\n",
    "correlation_fargo  = correlation_matrix[list(ratings_matrix.columns).index('Fargo (1996)')]\n",
    "\n",
    "print('The movies 90% similar to Fargo (1996) based upon ratings are:')\n",
    "print(list(ratings_matrix.columns[(correlation_fargo > 0.9)]))"
   ]
  },
  {
   "cell_type": "markdown",
   "metadata": {},
   "source": [
    "### 5) Content (K Nearest Neighbours)"
   ]
  },
  {
   "cell_type": "code",
   "execution_count": 2,
   "metadata": {},
   "outputs": [
    {
     "name": "stdout",
     "output_type": "stream",
     "text": [
      "The car most like our given car_features is: \n",
      "     car_names   mpg   disp   hp    wt\n",
      "11  Merc 450SE  16.4  275.8  180  4.07\n"
     ]
    }
   ],
   "source": [
    "import pandas as pd\n",
    "from sklearn.neighbors import NearestNeighbors\n",
    "\n",
    "mtcars         = pd.read_csv('recommendation_cars.csv')\n",
    "mtcars.columns = ['car_names', 'mpg', 'cyl', 'disp', 'hp', 'drat', 'wt', 'qsec', 'vs', 'am', 'gear', 'carb']\n",
    "\n",
    "knn          = NearestNeighbors(n_neighbors=1).fit(mtcars[['mpg', 'disp', 'hp', 'wt']].values)\n",
    "car_features = [16, 250, 160, 3.7] # ['mpg', 'disp', 'hp', 'wt']\n",
    "index        = knn.kneighbors([car_features])[1][0][0]\n",
    "\n",
    "print('The car most like our given car_features is: ')\n",
    "print(mtcars.loc[[index]][['car_names', 'mpg', 'disp', 'hp', 'wt']])"
   ]
  },
  {
   "cell_type": "code",
   "execution_count": null,
   "metadata": {},
   "outputs": [],
   "source": []
  }
 ],
 "metadata": {
  "kernelspec": {
   "display_name": "Python 3",
   "language": "python",
   "name": "python3"
  },
  "language_info": {
   "codemirror_mode": {
    "name": "ipython",
    "version": 3
   },
   "file_extension": ".py",
   "mimetype": "text/x-python",
   "name": "python",
   "nbconvert_exporter": "python",
   "pygments_lexer": "ipython3",
   "version": "3.7.3"
  }
 },
 "nbformat": 4,
 "nbformat_minor": 2
}
