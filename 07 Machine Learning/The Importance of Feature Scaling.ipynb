{
 "cells": [
  {
   "cell_type": "markdown",
   "metadata": {},
   "source": [
    "### t2.micro, AWS Marketplace -> Anaconda with Python 3"
   ]
  },
  {
   "cell_type": "code",
   "execution_count": 1,
   "metadata": {},
   "outputs": [
    {
     "name": "stdout",
     "output_type": "stream",
     "text": [
      "Prediction accuracy for unscaled test dataset with PCA: 73%\n",
      "Prediction accuracy for scaled test dataset with PCA:   96%\n"
     ]
    }
   ],
   "source": [
    "from sklearn import metrics\n",
    "from sklearn.decomposition import PCA\n",
    "from sklearn.datasets import load_wine\n",
    "from sklearn.naive_bayes import GaussianNB\n",
    "from sklearn.pipeline import make_pipeline\n",
    "from sklearn.preprocessing import StandardScaler\n",
    "from sklearn.model_selection import train_test_split\n",
    "\n",
    "features, target             = load_wine(return_X_y=True)\n",
    "Xtrain, Xtest, ytrain, ytest = train_test_split(features, target)\n",
    "\n",
    "unscaled = make_pipeline(                  PCA(n_components=2), GaussianNB()).fit(Xtrain, ytrain).predict(Xtest)\n",
    "scaled   = make_pipeline(StandardScaler(), PCA(n_components=2), GaussianNB()).fit(Xtrain, ytrain).predict(Xtest)\n",
    "\n",
    "print('Prediction accuracy for unscaled test dataset with PCA: {:.0%}'.format(metrics.accuracy_score(ytest, unscaled)))\n",
    "print('Prediction accuracy for scaled test dataset with PCA:   {:.0%}'.format(metrics.accuracy_score(ytest, scaled)))"
   ]
  },
  {
   "cell_type": "code",
   "execution_count": null,
   "metadata": {},
   "outputs": [],
   "source": []
  }
 ],
 "metadata": {
  "kernelspec": {
   "display_name": "Python 3",
   "language": "python",
   "name": "python3"
  },
  "language_info": {
   "codemirror_mode": {
    "name": "ipython",
    "version": 3
   },
   "file_extension": ".py",
   "mimetype": "text/x-python",
   "name": "python",
   "nbconvert_exporter": "python",
   "pygments_lexer": "ipython3",
   "version": "3.7.1"
  }
 },
 "nbformat": 4,
 "nbformat_minor": 2
}
