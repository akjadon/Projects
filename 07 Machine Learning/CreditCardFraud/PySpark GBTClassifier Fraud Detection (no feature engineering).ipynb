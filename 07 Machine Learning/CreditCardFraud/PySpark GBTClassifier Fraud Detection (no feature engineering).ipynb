{
 "cells": [
  {
   "cell_type": "markdown",
   "metadata": {},
   "source": [
    "<b>PySpark GBTClassifier Fraud Detection using a highly unbalanced dataset from Kaggle</b><br>\n",
    "No feature engineering allowing for a concise notebook illustrating Hyperparameter Tuning & Training with AWS EMR"
   ]
  },
  {
   "cell_type": "markdown",
   "metadata": {},
   "source": [
    "https://www.kaggle.com/mlg-ulb/creditcardfraud"
   ]
  },
  {
   "cell_type": "code",
   "execution_count": 2,
   "metadata": {},
   "outputs": [
    {
     "data": {
      "application/vnd.jupyter.widget-view+json": {
       "model_id": "788b1c301b6b4c0db2dfcf162b55dc1c",
       "version_major": 2,
       "version_minor": 0
      },
      "text/plain": [
       "VBox()"
      ]
     },
     "metadata": {},
     "output_type": "display_data"
    },
    {
     "data": {
      "application/vnd.jupyter.widget-view+json": {
       "model_id": "",
       "version_major": 2,
       "version_minor": 0
      },
      "text/plain": [
       "FloatProgress(value=0.0, bar_style='info', description='Progress:', layout=Layout(height='25px', width='50%'),…"
      ]
     },
     "metadata": {},
     "output_type": "display_data"
    },
    {
     "name": "stdout",
     "output_type": "stream",
     "text": [
      "Accuracy  = 1.0\n",
      "Precision = 1.0\n",
      "Recall    = 1.0\n",
      "F1 Score  = 1.0"
     ]
    }
   ],
   "source": [
    "from pyspark.sql import SparkSession\n",
    "from pyspark.ml.feature import VectorAssembler\n",
    "from pyspark.mllib.evaluation import MulticlassMetrics\n",
    "from pyspark.ml.classification import GBTClassifier\n",
    "\n",
    "raw_data              = SparkSession.builder.getOrCreate().read.csv('s3://creditcardfraud123/creditcard.csv', header=True, inferSchema=True)\n",
    "assembler             = VectorAssembler(inputCols=['Time','V1','V2','V3','V4','V5','V6','V7','V8','V9','V10','V11','V12','V13','V14','V15','V16','V17','V18','V19','V20','V21','V22','V23','V24','V25','V26','V27','V28','Amount'], outputCol='features')\n",
    "train_data, test_data = assembler.transform(raw_data.withColumnRenamed('Class', 'label')).select('features', 'label').randomSplit([0.7,0.3])\n",
    "lr_predictions        = GBTClassifier().fit(train_data).transform(test_data)\n",
    "metrics               = MulticlassMetrics(lr_predictions.select(lr_predictions['prediction'], lr_predictions['label'].cast('double')).rdd)\n",
    "\n",
    "print('Accuracy  = %s' % round(metrics.accuracy   , 2))\n",
    "print('Precision = %s' % round(metrics.precision(), 2))\n",
    "print('Recall    = %s' % round(metrics.recall()   , 2))\n",
    "print('F1 Score  = %s' % round(metrics.fMeasure() , 2))"
   ]
  },
  {
   "cell_type": "code",
   "execution_count": null,
   "metadata": {},
   "outputs": [],
   "source": []
  }
 ],
 "metadata": {
  "kernelspec": {
   "display_name": "PySpark",
   "language": "",
   "name": "pysparkkernel"
  },
  "language_info": {
   "codemirror_mode": {
    "name": "python",
    "version": 2
   },
   "mimetype": "text/x-python",
   "name": "pyspark",
   "pygments_lexer": "python2"
  }
 },
 "nbformat": 4,
 "nbformat_minor": 4
}
