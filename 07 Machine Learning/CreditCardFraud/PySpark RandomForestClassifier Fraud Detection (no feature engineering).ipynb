{
 "cells": [
  {
   "cell_type": "markdown",
   "metadata": {},
   "source": [
    "<b>PySpark RandomForestClassifier Fraud Detection using a highly unbalanced dataset from Kaggle</b><br>\n",
    "No feature engineering allowing for a concise notebook illustrating Hyperparameter Tuning & Training with AWS EMR"
   ]
  },
  {
   "cell_type": "markdown",
   "metadata": {},
   "source": [
    "https://www.kaggle.com/mlg-ulb/creditcardfraud"
   ]
  },
  {
   "cell_type": "code",
   "execution_count": 1,
   "metadata": {},
   "outputs": [
    {
     "data": {
      "application/vnd.jupyter.widget-view+json": {
       "model_id": "71a81c6279e741f6a064cbe25866d986",
       "version_major": 2,
       "version_minor": 0
      },
      "text/plain": [
       "VBox()"
      ]
     },
     "metadata": {},
     "output_type": "display_data"
    },
    {
     "name": "stdout",
     "output_type": "stream",
     "text": [
      "Starting Spark application\n"
     ]
    },
    {
     "data": {
      "text/html": [
       "<table>\n",
       "<tr><th>ID</th><th>YARN Application ID</th><th>Kind</th><th>State</th><th>Spark UI</th><th>Driver log</th><th>Current session?</th></tr><tr><td>0</td><td>application_1573519027292_0001</td><td>pyspark</td><td>idle</td><td><a target=\"_blank\" href=\"http://ip-172-31-69-164.ec2.internal:20888/proxy/application_1573519027292_0001/\">Link</a></td><td><a target=\"_blank\" href=\"http://ip-172-31-69-164.ec2.internal:8042/node/containerlogs/container_1573519027292_0001_01_000001/livy\">Link</a></td><td>✔</td></tr></table>"
      ],
      "text/plain": [
       "<IPython.core.display.HTML object>"
      ]
     },
     "metadata": {},
     "output_type": "display_data"
    },
    {
     "data": {
      "application/vnd.jupyter.widget-view+json": {
       "model_id": "",
       "version_major": 2,
       "version_minor": 0
      },
      "text/plain": [
       "FloatProgress(value=0.0, bar_style='info', description='Progress:', layout=Layout(height='25px', width='50%'),…"
      ]
     },
     "metadata": {},
     "output_type": "display_data"
    },
    {
     "name": "stdout",
     "output_type": "stream",
     "text": [
      "SparkSession available as 'spark'.\n"
     ]
    },
    {
     "data": {
      "application/vnd.jupyter.widget-view+json": {
       "model_id": "",
       "version_major": 2,
       "version_minor": 0
      },
      "text/plain": [
       "FloatProgress(value=0.0, bar_style='info', description='Progress:', layout=Layout(height='25px', width='50%'),…"
      ]
     },
     "metadata": {},
     "output_type": "display_data"
    },
    {
     "name": "stdout",
     "output_type": "stream",
     "text": [
      "Accuracy  = 1.0\n",
      "Precision = 1.0\n",
      "Recall    = 1.0\n",
      "F1 Score  = 1.0"
     ]
    }
   ],
   "source": [
    "from pyspark.sql import SparkSession\n",
    "from pyspark.ml.feature import VectorAssembler\n",
    "from pyspark.ml.tuning import CrossValidator\n",
    "from pyspark.ml.tuning import ParamGridBuilder\n",
    "from pyspark.ml.evaluation import BinaryClassificationEvaluator\n",
    "from pyspark.mllib.evaluation import MulticlassMetrics\n",
    "from pyspark.ml.classification import RandomForestClassifier\n",
    "\n",
    "estimator = RandomForestClassifier()\n",
    "paramGrid = ParamGridBuilder().addGrid(estimator.numTrees, [5, 10]).build()\n",
    "\n",
    "raw_data              = SparkSession.builder.getOrCreate().read.csv('s3://creditcardfraud123/creditcard.csv', header=True, inferSchema=True)\n",
    "assembler             = VectorAssembler(inputCols=['Time','V1','V2','V3','V4','V5','V6','V7','V8','V9','V10','V11','V12','V13','V14','V15','V16','V17','V18','V19','V20','V21','V22','V23','V24','V25','V26','V27','V28','Amount'], outputCol='features')\n",
    "train_data, test_data = assembler.transform(raw_data.withColumnRenamed('Class', 'label')).select('features', 'label').randomSplit([0.7,0.3])\n",
    "lr_predictions        = CrossValidator(estimator          = estimator                      ,\n",
    "                                       estimatorParamMaps = paramGrid                      ,\n",
    "                                       evaluator          = BinaryClassificationEvaluator(),\n",
    "                                       numFolds           = 2\n",
    "                                      ).fit(train_data).transform(test_data)\n",
    "metrics               = MulticlassMetrics(lr_predictions.select(lr_predictions['prediction'], lr_predictions['label'].cast('double')).rdd)\n",
    "\n",
    "print('Accuracy  = %s' % round(metrics.accuracy   , 2))\n",
    "print('Precision = %s' % round(metrics.precision(), 2))\n",
    "print('Recall    = %s' % round(metrics.recall()   , 2))\n",
    "print('F1 Score  = %s' % round(metrics.fMeasure() , 2))"
   ]
  },
  {
   "cell_type": "code",
   "execution_count": null,
   "metadata": {},
   "outputs": [],
   "source": []
  }
 ],
 "metadata": {
  "kernelspec": {
   "display_name": "PySpark",
   "language": "",
   "name": "pysparkkernel"
  },
  "language_info": {
   "codemirror_mode": {
    "name": "python",
    "version": 2
   },
   "mimetype": "text/x-python",
   "name": "pyspark",
   "pygments_lexer": "python2"
  }
 },
 "nbformat": 4,
 "nbformat_minor": 4
}
