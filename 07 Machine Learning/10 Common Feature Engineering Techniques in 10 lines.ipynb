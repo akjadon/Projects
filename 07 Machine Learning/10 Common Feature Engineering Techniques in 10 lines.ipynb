{
 "cells": [
  {
   "cell_type": "markdown",
   "metadata": {},
   "source": [
    "### t2.micro, AWS Marketplace -> Anaconda with Python 3"
   ]
  },
  {
   "cell_type": "markdown",
   "metadata": {},
   "source": [
    "### 1) Binarization"
   ]
  },
  {
   "cell_type": "code",
   "execution_count": 1,
   "metadata": {},
   "outputs": [
    {
     "name": "stdout",
     "output_type": "stream",
     "text": [
      "[[5.1 3.5 1.4 0.2]\n",
      " [4.9 3.  1.4 0.2]\n",
      " [4.7 3.2 1.3 0.2]\n",
      " [4.6 3.1 1.5 0.2]\n",
      " [5.  3.6 1.4 0.2]]\n",
      "[[1. 1. 0. 0.]\n",
      " [1. 1. 0. 0.]\n",
      " [1. 1. 0. 0.]\n",
      " [1. 1. 0. 0.]\n",
      " [1. 1. 0. 0.]]\n"
     ]
    }
   ],
   "source": [
    "from sklearn import datasets\n",
    "from sklearn.preprocessing import Binarizer\n",
    "\n",
    "iris = datasets.load_iris()\n",
    "\n",
    "print(iris.data                                        [0:5,:])\n",
    "print(Binarizer(threshold=1.5).fit_transform(iris.data)[0:5,:])"
   ]
  },
  {
   "cell_type": "markdown",
   "metadata": {},
   "source": [
    "### 2) Scaling"
   ]
  },
  {
   "cell_type": "code",
   "execution_count": 1,
   "metadata": {},
   "outputs": [
    {
     "name": "stdout",
     "output_type": "stream",
     "text": [
      "[[5.1 3.5 1.4 0.2]\n",
      " [4.9 3.  1.4 0.2]\n",
      " [4.7 3.2 1.3 0.2]\n",
      " [4.6 3.1 1.5 0.2]\n",
      " [5.  3.6 1.4 0.2]]\n",
      "[[0.22222222 0.625      0.06779661 0.04166667]\n",
      " [0.16666667 0.41666667 0.06779661 0.04166667]\n",
      " [0.11111111 0.5        0.05084746 0.04166667]\n",
      " [0.08333333 0.45833333 0.08474576 0.04166667]\n",
      " [0.19444444 0.66666667 0.06779661 0.04166667]]\n"
     ]
    }
   ],
   "source": [
    "from sklearn import datasets\n",
    "from sklearn.preprocessing import MinMaxScaler\n",
    "\n",
    "iris = datasets.load_iris()\n",
    "\n",
    "print(iris.data                              [0:5,:])\n",
    "print(MinMaxScaler().fit_transform(iris.data)[0:5,:])"
   ]
  },
  {
   "cell_type": "markdown",
   "metadata": {},
   "source": [
    "### 3) Standardization"
   ]
  },
  {
   "cell_type": "code",
   "execution_count": 1,
   "metadata": {},
   "outputs": [
    {
     "name": "stdout",
     "output_type": "stream",
     "text": [
      "[[5.1 3.5 1.4 0.2]\n",
      " [4.9 3.  1.4 0.2]\n",
      " [4.7 3.2 1.3 0.2]\n",
      " [4.6 3.1 1.5 0.2]\n",
      " [5.  3.6 1.4 0.2]]\n",
      "[[-0.90068117  1.01900435 -1.34022653 -1.3154443 ]\n",
      " [-1.14301691 -0.13197948 -1.34022653 -1.3154443 ]\n",
      " [-1.38535265  0.32841405 -1.39706395 -1.3154443 ]\n",
      " [-1.50652052  0.09821729 -1.2833891  -1.3154443 ]\n",
      " [-1.02184904  1.24920112 -1.34022653 -1.3154443 ]]\n"
     ]
    }
   ],
   "source": [
    "from sklearn import datasets\n",
    "from sklearn.preprocessing import StandardScaler\n",
    "\n",
    "iris = datasets.load_iris()\n",
    "\n",
    "print(iris.data                                [0:5,:])\n",
    "print(StandardScaler().fit_transform(iris.data)[0:5,:])"
   ]
  },
  {
   "cell_type": "markdown",
   "metadata": {},
   "source": [
    "### 4) Normalization"
   ]
  },
  {
   "cell_type": "code",
   "execution_count": 1,
   "metadata": {},
   "outputs": [
    {
     "name": "stdout",
     "output_type": "stream",
     "text": [
      "[[5.1 3.5 1.4 0.2]\n",
      " [4.9 3.  1.4 0.2]\n",
      " [4.7 3.2 1.3 0.2]\n",
      " [4.6 3.1 1.5 0.2]\n",
      " [5.  3.6 1.4 0.2]]\n",
      "[[0.80377277 0.55160877 0.22064351 0.0315205 ]\n",
      " [0.82813287 0.50702013 0.23660939 0.03380134]\n",
      " [0.80533308 0.54831188 0.2227517  0.03426949]\n",
      " [0.80003025 0.53915082 0.26087943 0.03478392]\n",
      " [0.790965   0.5694948  0.2214702  0.0316386 ]]\n"
     ]
    }
   ],
   "source": [
    "from sklearn import datasets\n",
    "from sklearn.preprocessing import Normalizer\n",
    "\n",
    "iris = datasets.load_iris()\n",
    "\n",
    "print(iris.data                             [0:5,:])\n",
    "print((Normalizer().fit_transform(iris.data)[0:5,:]))"
   ]
  },
  {
   "cell_type": "markdown",
   "metadata": {},
   "source": [
    "### 5) Encoding"
   ]
  },
  {
   "cell_type": "code",
   "execution_count": 1,
   "metadata": {},
   "outputs": [
    {
     "name": "stdout",
     "output_type": "stream",
     "text": [
      "[['1' 'this']\n",
      " ['2' 'is']\n",
      " ['3' 'how']\n",
      " ['4' 'we']\n",
      " ['5' 'encode']\n",
      " ['6' 'categorical']\n",
      " ['7' 'variables']\n",
      " ['8' 'variables']\n",
      " ['9' 'Variables']]\n",
      "[['1' '5']\n",
      " ['2' '4']\n",
      " ['3' '3']\n",
      " ['4' '7']\n",
      " ['5' '2']\n",
      " ['6' '1']\n",
      " ['7' '6']\n",
      " ['8' '6']\n",
      " ['9' '0']]\n"
     ]
    }
   ],
   "source": [
    "import numpy as np\n",
    "from sklearn.preprocessing import LabelEncoder\n",
    "\n",
    "data = np.array([\n",
    "                 [1, \"this\"       ],\n",
    "                 [2, \"is\"         ],\n",
    "                 [3, \"how\"        ],\n",
    "                 [4, \"we\"         ],\n",
    "                 [5, \"encode\"     ],\n",
    "                 [6, \"categorical\"],\n",
    "                 [7, \"variables\"  ],\n",
    "                 [8, \"variables\"  ],\n",
    "                 [9, \"Variables\"  ],\n",
    "               ])\n",
    "\n",
    "print(data)\n",
    "data[:,-1] = LabelEncoder().fit_transform(data[:,-1])\n",
    "print(data)"
   ]
  },
  {
   "cell_type": "markdown",
   "metadata": {},
   "source": [
    "### 6) One-Hot"
   ]
  },
  {
   "cell_type": "code",
   "execution_count": 1,
   "metadata": {},
   "outputs": [
    {
     "name": "stdout",
     "output_type": "stream",
     "text": [
      "   Rent  city_NYC  city_SF  city_Seattle\n",
      "0  3999         0        1             0\n",
      "1  4000         0        1             0\n",
      "2  4001         0        1             0\n",
      "3  3999         1        0             0\n",
      "4  4000         1        0             0\n",
      "5  4001         1        0             0\n",
      "6  3999         0        0             1\n",
      "7  3999         0        0             1\n",
      "8  3999         0        0             1\n"
     ]
    }
   ],
   "source": [
    "import pandas as pd\n",
    "\n",
    "df = pd.DataFrame({\n",
    "                   'City': ['SF', 'SF', 'SF', 'NYC', 'NYC', 'NYC', 'Seattle', 'Seattle', 'Seattle'], \n",
    "                   'Rent': [3999, 4000, 4001,  3999,  4000,  4001,      3999,      3999,     3999 ]\n",
    "                 })\n",
    "\n",
    "print(pd.get_dummies(df, prefix=['city']))"
   ]
  },
  {
   "cell_type": "markdown",
   "metadata": {},
   "source": [
    "### 7) Binning"
   ]
  },
  {
   "cell_type": "code",
   "execution_count": 1,
   "metadata": {},
   "outputs": [
    {
     "name": "stdout",
     "output_type": "stream",
     "text": [
      "[[100, 200, 300], [0, 0, 0], [-100, -200, -300]]\n",
      "[[4. 4. 4.]\n",
      " [2. 2. 2.]\n",
      " [0. 0. 0.]]\n"
     ]
    }
   ],
   "source": [
    "from sklearn.preprocessing import KBinsDiscretizer\n",
    "\n",
    "data = [\n",
    "        [ 100, 200, 300],\n",
    "        [   0,   0,   0],\n",
    "        [-100,-200,-300]\n",
    "       ]\n",
    "\n",
    "print(data)\n",
    "print(KBinsDiscretizer(encode='ordinal').fit_transform(data))"
   ]
  },
  {
   "cell_type": "markdown",
   "metadata": {},
   "source": [
    "### 8) Log Transformation"
   ]
  },
  {
   "cell_type": "code",
   "execution_count": 2,
   "metadata": {},
   "outputs": [
    {
     "data": {
      "text/plain": [
       "Text(0.5, 1.0, 'Transformed')"
      ]
     },
     "execution_count": 2,
     "metadata": {},
     "output_type": "execute_result"
    },
    {
     "data": {
      "image/png": "[encoded data removed]",
      "text/plain": [
       "<Figure size 432x288 with 2 Axes>"
      ]
     },
     "metadata": {
      "needs_background": "light"
     },
     "output_type": "display_data"
    }
   ],
   "source": [
    "import numpy as np\n",
    "import matplotlib.pyplot as plt\n",
    "from sklearn.datasets import make_regression\n",
    "    \n",
    "X, y = make_regression(n_samples=10000)\n",
    "y    = np.exp((y + abs(y.min())) / 200)\n",
    "\n",
    "f, (ax0, ax1) = plt.subplots(1, 2)\n",
    "ax0.hist(y)\n",
    "ax1.hist(np.log1p(y))\n",
    "ax0.set_title('Original')\n",
    "ax1.set_title('Transformed')"
   ]
  },
  {
   "cell_type": "markdown",
   "metadata": {},
   "source": [
    "### 9) Tokenization"
   ]
  },
  {
   "cell_type": "code",
   "execution_count": 1,
   "metadata": {},
   "outputs": [
    {
     "name": "stdout",
     "output_type": "stream",
     "text": [
      "{'this': 4, 'is': 2, 'how': 1, 'we': 6, 'tokenize': 5, 'text': 3, 'documents': 0}\n",
      "[[2 1 1 1 1 1 1]]\n"
     ]
    }
   ],
   "source": [
    "from sklearn.feature_extraction.text import CountVectorizer\n",
    "\n",
    "corpus = [\n",
    "          'this is how we tokenize text documents Documents'\n",
    "         ]\n",
    "\n",
    "print(CountVectorizer().fit(corpus).vocabulary_)\n",
    "print(CountVectorizer().fit_transform(corpus).todense())"
   ]
  },
  {
   "cell_type": "markdown",
   "metadata": {},
   "source": [
    "### 10) Hashing"
   ]
  },
  {
   "cell_type": "code",
   "execution_count": 1,
   "metadata": {},
   "outputs": [
    {
     "data": {
      "text/plain": [
       "array([[ 0.,  0.,  0.,  1.],\n",
       "       [ 0., -2.,  0.,  0.]])"
      ]
     },
     "execution_count": 1,
     "metadata": {},
     "output_type": "execute_result"
    }
   ],
   "source": [
    "from sklearn.feature_extraction import FeatureHasher\n",
    "\n",
    "corpus = [\n",
    "          {'this is how we hash text documents': 1},\n",
    "          {'this is how we hash text': 2}\n",
    "         ]\n",
    "\n",
    "FeatureHasher(n_features=4).fit_transform(corpus).toarray()"
   ]
  },
  {
   "cell_type": "code",
   "execution_count": null,
   "metadata": {},
   "outputs": [],
   "source": []
  }
 ],
 "metadata": {
  "kernelspec": {
   "display_name": "Python 3",
   "language": "python",
   "name": "python3"
  },
  "language_info": {
   "codemirror_mode": {
    "name": "ipython",
    "version": 3
   },
   "file_extension": ".py",
   "mimetype": "text/x-python",
   "name": "python",
   "nbconvert_exporter": "python",
   "pygments_lexer": "ipython3",
   "version": "3.7.1"
  }
 },
 "nbformat": 4,
 "nbformat_minor": 2
}
