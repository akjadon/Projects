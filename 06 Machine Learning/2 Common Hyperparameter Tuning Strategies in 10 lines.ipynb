{
 "cells": [
  {
   "cell_type": "markdown",
   "metadata": {},
   "source": [
    "### t2.micro, AWS Marketplace -> Anaconda with Python 3"
   ]
  },
  {
   "cell_type": "markdown",
   "metadata": {},
   "source": [
    "### 1) Grid Search"
   ]
  },
  {
   "cell_type": "code",
   "execution_count": 1,
   "metadata": {},
   "outputs": [
    {
     "name": "stdout",
     "output_type": "stream",
     "text": [
      "Best Score:           0.48879\n",
      "Best Estimator-Alpha: 0.00100\n"
     ]
    }
   ],
   "source": [
    "from sklearn import datasets\n",
    "from sklearn.linear_model import Ridge\n",
    "from sklearn.model_selection import GridSearchCV\n",
    "\n",
    "diabetes = datasets.load_diabetes()\n",
    "grid     = GridSearchCV(\n",
    "                        cv         = 3,\n",
    "                        estimator  = Ridge(), \n",
    "                        param_grid = {\n",
    "                                      'alpha' : [0, 0.0001, 0.001, 0.01, 0.1, 1]\n",
    "                                     }\n",
    "                       ).fit(diabetes.data, diabetes.target)\n",
    "\n",
    "print('Best Score:           {:.{}f}'.format(grid.best_score_, 5))\n",
    "print('Best Estimator-Alpha: {:.{}f}'.format(grid.best_estimator_.alpha, 5))"
   ]
  },
  {
   "cell_type": "markdown",
   "metadata": {},
   "source": [
    "### 2) Random Search"
   ]
  },
  {
   "cell_type": "code",
   "execution_count": 1,
   "metadata": {},
   "outputs": [
    {
     "name": "stdout",
     "output_type": "stream",
     "text": [
      "Best Score:           0.48913\n",
      "Best Estimator-Alpha: 0.06819\n"
     ]
    }
   ],
   "source": [
    "import scipy.stats\n",
    "from sklearn import datasets\n",
    "from sklearn.linear_model import Ridge\n",
    "from sklearn.model_selection import RandomizedSearchCV\n",
    "\n",
    "diabetes = datasets.load_diabetes()\n",
    "random   = RandomizedSearchCV(\n",
    "                              cv                  = 3,\n",
    "                              estimator           = Ridge(),\n",
    "                              param_distributions = {\n",
    "                                                     'alpha' : scipy.stats.uniform()\n",
    "                                                    }\n",
    "                             ).fit(diabetes.data, diabetes.target)\n",
    "\n",
    "print('Best Score:           {:.{}f}'.format(random.best_score_, 5))\n",
    "print('Best Estimator-Alpha: {:.{}f}'.format(random.best_estimator_.alpha, 5))"
   ]
  },
  {
   "cell_type": "code",
   "execution_count": null,
   "metadata": {},
   "outputs": [],
   "source": []
  }
 ],
 "metadata": {
  "kernelspec": {
   "display_name": "Python 3",
   "language": "python",
   "name": "python3"
  },
  "language_info": {
   "codemirror_mode": {
    "name": "ipython",
    "version": 3
   },
   "file_extension": ".py",
   "mimetype": "text/x-python",
   "name": "python",
   "nbconvert_exporter": "python",
   "pygments_lexer": "ipython3",
   "version": "3.7.1"
  }
 },
 "nbformat": 4,
 "nbformat_minor": 2
}
