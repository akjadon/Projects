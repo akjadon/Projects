{
 "cells": [
  {
   "cell_type": "markdown",
   "metadata": {},
   "source": [
    "### t2.micro, AWS Marketplace -> Anaconda with Python 3"
   ]
  },
  {
   "cell_type": "markdown",
   "metadata": {},
   "source": [
    "### 1) Missing Value Ratio"
   ]
  },
  {
   "cell_type": "code",
   "execution_count": 1,
   "metadata": {},
   "outputs": [
    {
     "name": "stdout",
     "output_type": "stream",
     "text": [
      "Percentage of data missing from column: 11%\n"
     ]
    }
   ],
   "source": [
    "import numpy as np\n",
    "\n",
    "psuedo_column = np.random.randint(low=0, high=10, size=2000)\n",
    "\n",
    "print('Percentage of data missing from column: {:.0%}'.format(np.sum((psuedo_column < 1).astype(np.float))/len(psuedo_column)))"
   ]
  },
  {
   "cell_type": "markdown",
   "metadata": {},
   "source": [
    "### 2) Low Variance Filter"
   ]
  },
  {
   "cell_type": "code",
   "execution_count": 1,
   "metadata": {},
   "outputs": [
    {
     "name": "stdout",
     "output_type": "stream",
     "text": [
      "Variance of column: 8\n"
     ]
    }
   ],
   "source": [
    "import numpy as np\n",
    "\n",
    "psuedo_column = np.random.randint(low=0, high=10, size=2000)\n",
    "\n",
    "print('Variance of column: {:.0f}'.format(np.var(psuedo_column)))"
   ]
  },
  {
   "cell_type": "markdown",
   "metadata": {},
   "source": [
    "### 3) High Correlation Filter"
   ]
  },
  {
   "cell_type": "code",
   "execution_count": 1,
   "metadata": {},
   "outputs": [
    {
     "name": "stdout",
     "output_type": "stream",
     "text": [
      "Correlation of columns: -0.12252\n"
     ]
    }
   ],
   "source": [
    "from scipy.stats import pearsonr\n",
    "import numpy as np\n",
    "\n",
    "psuedo_column_1 = np.random.normal(size=100)\n",
    "psuedo_column_2 = np.random.normal(size=100)\n",
    "\n",
    "print('Correlation of columns: {:.5f}'.format(pearsonr(psuedo_column_1, psuedo_column_2)[0]))"
   ]
  },
  {
   "cell_type": "markdown",
   "metadata": {},
   "source": [
    "### 4) Random Forest"
   ]
  },
  {
   "cell_type": "code",
   "execution_count": 2,
   "metadata": {},
   "outputs": [
    {
     "data": {
      "text/plain": [
       "Text(0.5, 0, 'Relative Importance')"
      ]
     },
     "execution_count": 2,
     "metadata": {},
     "output_type": "execute_result"
    },
    {
     "data": {
      "image/png": "[encoded data removed]",
      "text/plain": [
       "<Figure size 432x288 with 1 Axes>"
      ]
     },
     "metadata": {
      "needs_background": "light"
     },
     "output_type": "display_data"
    }
   ],
   "source": [
    "import numpy as np\n",
    "import matplotlib.pyplot as plt\n",
    "from sklearn.datasets import load_iris\n",
    "from sklearn.ensemble import RandomForestClassifier\n",
    "\n",
    "iris        = load_iris()\n",
    "importances = RandomForestClassifier(n_estimators=100).fit(iris.data, iris.target).feature_importances_\n",
    "indices     = np.argsort(importances)\n",
    "\n",
    "plt.barh(range(len(indices)), importances[indices])\n",
    "plt.yticks(range(len(indices)), [iris.feature_names[i] for i in indices])\n",
    "plt.xlabel('Relative Importance')"
   ]
  },
  {
   "cell_type": "markdown",
   "metadata": {},
   "source": [
    "### 5) Backward Feature Elimination"
   ]
  },
  {
   "cell_type": "code",
   "execution_count": 1,
   "metadata": {},
   "outputs": [
    {
     "name": "stdout",
     "output_type": "stream",
     "text": [
      "Rank of 1 indicates a column a high importance:\n",
      "[1 1 5 1 1 1 3 4 6 2]\n"
     ]
    }
   ],
   "source": [
    "from sklearn.datasets import make_friedman1\n",
    "from sklearn.feature_selection import RFE\n",
    "from sklearn.svm import SVR\n",
    "\n",
    "x, y = make_friedman1()\n",
    "\n",
    "print('Rank of 1 indicates a column a high importance:')\n",
    "print(RFE(SVR(kernel=\"linear\")).fit(x, y).ranking_)"
   ]
  },
  {
   "cell_type": "markdown",
   "metadata": {},
   "source": [
    "### 6) Factor Analysis (FA)"
   ]
  },
  {
   "cell_type": "code",
   "execution_count": 1,
   "metadata": {},
   "outputs": [
    {
     "name": "stdout",
     "output_type": "stream",
     "text": [
      "Values near zero indicate lower value factors:\n",
      "   sepal length (cm)  sepal width (cm)  petal length (cm)  petal width (cm)\n",
      "0           0.706989         -0.158005           1.654236           0.70085\n",
      "1           0.115161          0.159635          -0.044321          -0.01403\n",
      "2          -0.000000          0.000000           0.000000           0.00000\n",
      "3          -0.000000          0.000000           0.000000          -0.00000\n"
     ]
    }
   ],
   "source": [
    "import pandas as pd\n",
    "from sklearn.datasets import load_iris\n",
    "from sklearn.decomposition import FactorAnalysis\n",
    "\n",
    "iris   = load_iris()\n",
    "factor = FactorAnalysis(n_components=4).fit(iris.data)\n",
    "\n",
    "print('Values near zero indicate lower value factors:')\n",
    "print(pd.DataFrame(factor.components_, columns=iris.feature_names))"
   ]
  },
  {
   "cell_type": "markdown",
   "metadata": {},
   "source": [
    "### 7) Principle Component Analysis (PCA)"
   ]
  },
  {
   "cell_type": "code",
   "execution_count": 1,
   "metadata": {},
   "outputs": [
    {
     "name": "stdout",
     "output_type": "stream",
     "text": [
      "Variance preserved from the full dataset: 71%\n"
     ]
    }
   ],
   "source": [
    "import numpy as np\n",
    "from sklearn.decomposition import PCA\n",
    "\n",
    "pca = PCA(n_components=3).fit(np.random.uniform(size=(50, 5)))\n",
    "print('Variance preserved from the full dataset: {:.0%}'.format(np.sum(pca.explained_variance_ratio_)))"
   ]
  },
  {
   "cell_type": "markdown",
   "metadata": {},
   "source": [
    "### 8) Independent Component Analysis (ICA)"
   ]
  },
  {
   "cell_type": "code",
   "execution_count": 1,
   "metadata": {},
   "outputs": [
    {
     "name": "stdout",
     "output_type": "stream",
     "text": [
      "Values near zero indicate lower value factors:\n",
      "   sepal length (cm)  sepal width (cm)  petal length (cm)  petal width (cm)\n",
      "0          -0.034142          0.029628           0.191826         -0.415862\n",
      "1          -0.053971          0.241784           0.083301         -0.080042\n",
      "2           0.254523         -0.121960          -0.145863          0.079602\n",
      "3           0.019116          0.002492          -0.048108         -0.013382\n"
     ]
    }
   ],
   "source": [
    "import pandas as pd\n",
    "from sklearn.datasets import load_iris\n",
    "from sklearn.decomposition import FastICA\n",
    "\n",
    "iris   = load_iris()\n",
    "ica    = FastICA(n_components=4).fit(iris.data)\n",
    "\n",
    "print('Values near zero indicate lower value factors:')\n",
    "print(pd.DataFrame(ica.components_, columns=iris.feature_names))"
   ]
  },
  {
   "cell_type": "markdown",
   "metadata": {},
   "source": [
    "### 9) t-Distributed Stochastic Neighbor Embedding (tSNE)"
   ]
  },
  {
   "cell_type": "code",
   "execution_count": 2,
   "metadata": {},
   "outputs": [
    {
     "data": {
      "text/plain": [
       "<matplotlib.legend.Legend at 0x7fc0a41d1f28>"
      ]
     },
     "execution_count": 2,
     "metadata": {},
     "output_type": "execute_result"
    },
    {
     "data": {
      "image/png": "[encoded data removed]",
      "text/plain": [
       "<Figure size 432x288 with 1 Axes>"
      ]
     },
     "metadata": {
      "needs_background": "light"
     },
     "output_type": "display_data"
    }
   ],
   "source": [
    "from sklearn.datasets import load_iris\n",
    "from sklearn.manifold import TSNE\n",
    "import matplotlib.pyplot as plt\n",
    "\n",
    "iris = load_iris()\n",
    "tsne = TSNE().fit_transform(iris.data)\n",
    "\n",
    "for color, target_number, target_name in zip(\n",
    "                                             ['red', 'blue', 'green'], \n",
    "                                             [0, 1, 2]               , \n",
    "                                             iris.target_names\n",
    "                                            ):\n",
    "\n",
    "    plt.scatter(\n",
    "                tsne[iris.target == target_number, 0], \n",
    "                tsne[iris.target == target_number, 1], \n",
    "                color = color, \n",
    "                label = target_name\n",
    "               )\n",
    "plt.legend()"
   ]
  },
  {
   "cell_type": "markdown",
   "metadata": {},
   "source": [
    "### 10) Linear Discriminant Analysis (LDA)"
   ]
  },
  {
   "cell_type": "code",
   "execution_count": 1,
   "metadata": {},
   "outputs": [
    {
     "name": "stdout",
     "output_type": "stream",
     "text": [
      "Variance preserved from the full dataset: 81%\n"
     ]
    }
   ],
   "source": [
    "import numpy as np\n",
    "from sklearn.discriminant_analysis import LinearDiscriminantAnalysis\n",
    "\n",
    "x   = np.random.uniform(size=(2000, 5))\n",
    "y   = np.random.randint(low=0, high=10, size=2000)\n",
    "lda = LinearDiscriminantAnalysis(n_components=3).fit(x, y)\n",
    "\n",
    "print('Variance preserved from the full dataset: {:.0%}'.format(np.sum(lda.explained_variance_ratio_)))"
   ]
  },
  {
   "cell_type": "code",
   "execution_count": null,
   "metadata": {},
   "outputs": [],
   "source": []
  }
 ],
 "metadata": {
  "kernelspec": {
   "display_name": "Python 3",
   "language": "python",
   "name": "python3"
  },
  "language_info": {
   "codemirror_mode": {
    "name": "ipython",
    "version": 3
   },
   "file_extension": ".py",
   "mimetype": "text/x-python",
   "name": "python",
   "nbconvert_exporter": "python",
   "pygments_lexer": "ipython3",
   "version": "3.7.1"
  }
 },
 "nbformat": 4,
 "nbformat_minor": 2
}
