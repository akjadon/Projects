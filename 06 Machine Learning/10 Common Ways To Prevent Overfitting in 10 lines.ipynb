{
 "cells": [
  {
   "cell_type": "code",
   "execution_count": 5,
   "metadata": {},
   "outputs": [],
   "source": [
    "import warnings\n",
    "warnings.filterwarnings('ignore')"
   ]
  },
  {
   "cell_type": "markdown",
   "metadata": {},
   "source": [
    "### t2.micro, AWS Marketplace -> Anaconda with Python 3"
   ]
  },
  {
   "cell_type": "markdown",
   "metadata": {},
   "source": [
    "### 1) L1 Regularization"
   ]
  },
  {
   "cell_type": "code",
   "execution_count": 2,
   "metadata": {},
   "outputs": [
    {
     "name": "stdout",
     "output_type": "stream",
     "text": [
      "Accuracy: 0.35556, Alpha: 10\n",
      "Accuracy: 0.35556, Alpha: 1\n",
      "Accuracy: 0.95556, Alpha: 0.1\n",
      "Accuracy: 0.97778, Alpha: 0.01\n",
      "Accuracy: 0.97778, Alpha: 0.001\n",
      "Accuracy: 0.97778, Alpha: 0.0001\n"
     ]
    }
   ],
   "source": [
    "import numpy as np\n",
    "from sklearn import metrics\n",
    "from sklearn import datasets\n",
    "from sklearn.linear_model import Lasso\n",
    "from sklearn.model_selection import train_test_split\n",
    "\n",
    "iris = datasets.load_iris()\n",
    "\n",
    "X_train, X_test, y_train, y_test = train_test_split(iris.data, iris.target, test_size=0.3)\n",
    "\n",
    "for Alpha in [10, 1, 0.1, 0.01, 0.001, 0.0001]:\n",
    "\n",
    "  predictions = np.round(Lasso(alpha=Alpha).fit(X_train, y_train).predict(X_test))\n",
    "  print('Accuracy: {:.{}f}'.format(metrics.accuracy_score(y_test, predictions), 5) + ', Alpha: ' + str(Alpha))"
   ]
  },
  {
   "cell_type": "markdown",
   "metadata": {},
   "source": [
    "### 2) L2 regularization"
   ]
  },
  {
   "cell_type": "code",
   "execution_count": 1,
   "metadata": {},
   "outputs": [
    {
     "name": "stdout",
     "output_type": "stream",
     "text": [
      "Accuracy: 0.95556, Alpha: 10\n",
      "Accuracy: 0.93333, Alpha: 1\n",
      "Accuracy: 0.93333, Alpha: 0.1\n",
      "Accuracy: 0.93333, Alpha: 0.01\n",
      "Accuracy: 0.93333, Alpha: 0.001\n",
      "Accuracy: 0.93333, Alpha: 0.0001\n"
     ]
    }
   ],
   "source": [
    "import numpy as np\n",
    "from sklearn import metrics\n",
    "from sklearn import datasets\n",
    "from sklearn.linear_model import Ridge\n",
    "from sklearn.model_selection import train_test_split\n",
    "\n",
    "iris = datasets.load_iris()\n",
    "\n",
    "X_train, X_test, y_train, y_test = train_test_split(iris.data, iris.target, test_size=0.3)\n",
    "\n",
    "for Alpha in [10, 1, 0.1, 0.01, 0.001, 0.0001]:\n",
    "\n",
    "  predictions = np.round(Ridge(alpha=Alpha).fit(X_train, y_train).predict(X_test))\n",
    "  print('Accuracy: {:.{}f}'.format(metrics.accuracy_score(y_test, predictions), 5) + ', Alpha: ' + str(Alpha))"
   ]
  },
  {
   "cell_type": "markdown",
   "metadata": {},
   "source": [
    "### 3) Elastic Net"
   ]
  },
  {
   "cell_type": "code",
   "execution_count": 23,
   "metadata": {},
   "outputs": [
    {
     "name": "stdout",
     "output_type": "stream",
     "text": [
      "Accuracy: 0.22222, L1 Ratio: 0.0, Alpha: 10\n",
      "Accuracy: 0.86667, L1 Ratio: 0.0, Alpha: 1\n",
      "Accuracy: 0.93333, L1 Ratio: 0.0, Alpha: 0.1\n",
      "Accuracy: 0.93333, L1 Ratio: 0.0, Alpha: 0.01\n",
      "Accuracy: 0.95556, L1 Ratio: 0.0, Alpha: 0.001\n",
      "Accuracy: 0.95556, L1 Ratio: 0.0, Alpha: 0.0001\n",
      "Accuracy: 0.22222, L1 Ratio: 0.5, Alpha: 10\n",
      "Accuracy: 0.51111, L1 Ratio: 0.5, Alpha: 1\n",
      "Accuracy: 0.91111, L1 Ratio: 0.5, Alpha: 0.1\n",
      "Accuracy: 0.93333, L1 Ratio: 0.5, Alpha: 0.01\n",
      "Accuracy: 0.95556, L1 Ratio: 0.5, Alpha: 0.001\n",
      "Accuracy: 0.95556, L1 Ratio: 0.5, Alpha: 0.0001\n",
      "Accuracy: 0.22222, L1 Ratio: 1.0, Alpha: 10\n",
      "Accuracy: 0.22222, L1 Ratio: 1.0, Alpha: 1\n",
      "Accuracy: 0.91111, L1 Ratio: 1.0, Alpha: 0.1\n",
      "Accuracy: 0.95556, L1 Ratio: 1.0, Alpha: 0.01\n",
      "Accuracy: 0.95556, L1 Ratio: 1.0, Alpha: 0.001\n",
      "Accuracy: 0.95556, L1 Ratio: 1.0, Alpha: 0.0001\n"
     ]
    }
   ],
   "source": [
    "import numpy as np\n",
    "from sklearn import metrics\n",
    "from sklearn import datasets\n",
    "from sklearn.linear_model import ElasticNet\n",
    "from sklearn.model_selection import train_test_split\n",
    "\n",
    "iris = datasets.load_iris()\n",
    "\n",
    "X_train, X_test, y_train, y_test = train_test_split(iris.data, iris.target, test_size=0.3)\n",
    "\n",
    "for L1Ratio in [0.0, 0.5, 1.0]:\n",
    "\n",
    "  for Alpha in [10, 1, 0.1, 0.01, 0.001, 0.0001]:\n",
    "\n",
    "    predictions = np.round(ElasticNet(alpha=Alpha, l1_ratio=L1Ratio).fit(X_train, y_train).predict(X_test))\n",
    "\n",
    "    print('Accuracy: {:.{}f}'.format(metrics.accuracy_score(y_test, predictions), 5)  + ', L1 Ratio: ' + str(L1Ratio) + ', Alpha: ' + str(Alpha))    "
   ]
  },
  {
   "cell_type": "markdown",
   "metadata": {},
   "source": [
    "### 4) Ensemble Methods"
   ]
  },
  {
   "cell_type": "code",
   "execution_count": 5,
   "metadata": {},
   "outputs": [
    {
     "name": "stdout",
     "output_type": "stream",
     "text": [
      "Accuracy: 0.88889\n"
     ]
    }
   ],
   "source": [
    "from sklearn import metrics\n",
    "from sklearn import datasets\n",
    "from sklearn.ensemble import RandomForestClassifier\n",
    "from sklearn.model_selection import train_test_split\n",
    "\n",
    "iris = datasets.load_iris()\n",
    "\n",
    "X_train, X_test, y_train, y_test = train_test_split(iris.data, iris.target, test_size=0.3)\n",
    "\n",
    "predictions = RandomForestClassifier(n_estimators=100).fit(X_train,y_train).predict(X_test)\n",
    "\n",
    "print('Accuracy: {:.{}f}'.format(metrics.accuracy_score(y_test, predictions), 5))"
   ]
  },
  {
   "cell_type": "markdown",
   "metadata": {},
   "source": [
    "### 4) Dropout"
   ]
  },
  {
   "cell_type": "markdown",
   "metadata": {},
   "source": [
    "### 5) Backtesting"
   ]
  },
  {
   "cell_type": "markdown",
   "metadata": {},
   "source": [
    "### 6) K-fold Cross Validation"
   ]
  },
  {
   "cell_type": "markdown",
   "metadata": {},
   "source": [
    "### 7) Data Augmentation"
   ]
  },
  {
   "cell_type": "markdown",
   "metadata": {},
   "source": [
    "### 9) Add more Data"
   ]
  },
  {
   "cell_type": "markdown",
   "metadata": {},
   "source": [
    "### 10 Remove Features"
   ]
  },
  {
   "cell_type": "markdown",
   "metadata": {},
   "source": [
    "### 12) Pruning / Reduce Complexity"
   ]
  },
  {
   "cell_type": "code",
   "execution_count": null,
   "metadata": {},
   "outputs": [],
   "source": []
  },
  {
   "cell_type": "markdown",
   "metadata": {},
   "source": [
    "### 10) Early Stopping"
   ]
  },
  {
   "cell_type": "code",
   "execution_count": 7,
   "metadata": {
    "scrolled": false
   },
   "outputs": [
    {
     "name": "stdout",
     "output_type": "stream",
     "text": [
      "[19:22:46] src/tree/updater_prune.cc:74: tree pruning end, 1 roots, 8 extra nodes, 0 pruned nodes, max_depth=4\n",
      "[0]\ttrain-rmse:0.67273\n",
      "Will train until train-rmse hasn't improved in 10 rounds.\n",
      "[19:22:46] src/tree/updater_prune.cc:74: tree pruning end, 1 roots, 10 extra nodes, 0 pruned nodes, max_depth=5\n",
      "[1]\ttrain-rmse:0.484766\n",
      "[19:22:46] src/tree/updater_prune.cc:74: tree pruning end, 1 roots, 4 extra nodes, 0 pruned nodes, max_depth=2\n",
      "[2]\ttrain-rmse:0.351972\n",
      "[19:22:46] src/tree/updater_prune.cc:74: tree pruning end, 1 roots, 12 extra nodes, 0 pruned nodes, max_depth=5\n",
      "[3]\ttrain-rmse:0.255113\n",
      "[19:22:46] src/tree/updater_prune.cc:74: tree pruning end, 1 roots, 12 extra nodes, 0 pruned nodes, max_depth=5\n",
      "[4]\ttrain-rmse:0.187909\n",
      "[19:22:46] src/tree/updater_prune.cc:74: tree pruning end, 1 roots, 8 extra nodes, 0 pruned nodes, max_depth=3\n",
      "[5]\ttrain-rmse:0.140947\n",
      "[19:22:46] src/tree/updater_prune.cc:74: tree pruning end, 1 roots, 14 extra nodes, 0 pruned nodes, max_depth=4\n",
      "[6]\ttrain-rmse:0.105719\n",
      "[19:22:46] src/tree/updater_prune.cc:74: tree pruning end, 1 roots, 14 extra nodes, 0 pruned nodes, max_depth=4\n",
      "[7]\ttrain-rmse:0.082364\n",
      "[19:22:46] src/tree/updater_prune.cc:74: tree pruning end, 1 roots, 18 extra nodes, 0 pruned nodes, max_depth=6\n",
      "[8]\ttrain-rmse:0.063953\n",
      "[19:22:46] src/tree/updater_prune.cc:74: tree pruning end, 1 roots, 18 extra nodes, 0 pruned nodes, max_depth=6\n",
      "[9]\ttrain-rmse:0.050259\n",
      "[19:22:46] src/tree/updater_prune.cc:74: tree pruning end, 1 roots, 18 extra nodes, 0 pruned nodes, max_depth=6\n",
      "[10]\ttrain-rmse:0.039964\n",
      "[19:22:46] src/tree/updater_prune.cc:74: tree pruning end, 1 roots, 18 extra nodes, 0 pruned nodes, max_depth=6\n",
      "[11]\ttrain-rmse:0.032132\n",
      "[19:22:46] src/tree/updater_prune.cc:74: tree pruning end, 1 roots, 18 extra nodes, 0 pruned nodes, max_depth=6\n",
      "[12]\ttrain-rmse:0.026097\n",
      "[19:22:46] src/tree/updater_prune.cc:74: tree pruning end, 1 roots, 20 extra nodes, 0 pruned nodes, max_depth=6\n",
      "[13]\ttrain-rmse:0.02138\n",
      "[19:22:46] src/tree/updater_prune.cc:74: tree pruning end, 1 roots, 18 extra nodes, 0 pruned nodes, max_depth=5\n",
      "[14]\ttrain-rmse:0.017632\n",
      "[19:22:46] src/tree/updater_prune.cc:74: tree pruning end, 1 roots, 20 extra nodes, 0 pruned nodes, max_depth=6\n",
      "[15]\ttrain-rmse:0.014625\n",
      "[19:22:46] src/tree/updater_prune.cc:74: tree pruning end, 1 roots, 18 extra nodes, 0 pruned nodes, max_depth=6\n",
      "[16]\ttrain-rmse:0.012194\n",
      "[19:22:46] src/tree/updater_prune.cc:74: tree pruning end, 1 roots, 18 extra nodes, 0 pruned nodes, max_depth=6\n",
      "[17]\ttrain-rmse:0.010212\n",
      "[19:22:46] src/tree/updater_prune.cc:74: tree pruning end, 1 roots, 20 extra nodes, 0 pruned nodes, max_depth=6\n",
      "[18]\ttrain-rmse:0.008579\n",
      "[19:22:46] src/tree/updater_prune.cc:74: tree pruning end, 1 roots, 18 extra nodes, 0 pruned nodes, max_depth=6\n",
      "[19]\ttrain-rmse:0.00724\n",
      "[19:22:46] src/tree/updater_prune.cc:74: tree pruning end, 1 roots, 20 extra nodes, 0 pruned nodes, max_depth=6\n",
      "[20]\ttrain-rmse:0.00613\n",
      "[19:22:46] src/tree/updater_prune.cc:74: tree pruning end, 1 roots, 20 extra nodes, 0 pruned nodes, max_depth=6\n",
      "[21]\ttrain-rmse:0.005208\n",
      "[19:22:46] src/tree/updater_prune.cc:74: tree pruning end, 1 roots, 28 extra nodes, 0 pruned nodes, max_depth=6\n",
      "[22]\ttrain-rmse:0.004445\n",
      "[19:22:46] src/tree/updater_prune.cc:74: tree pruning end, 1 roots, 30 extra nodes, 0 pruned nodes, max_depth=6\n",
      "[23]\ttrain-rmse:0.003773\n",
      "[19:22:46] src/tree/updater_prune.cc:74: tree pruning end, 1 roots, 20 extra nodes, 0 pruned nodes, max_depth=6\n",
      "[24]\ttrain-rmse:0.003227\n",
      "[19:22:46] src/tree/updater_prune.cc:74: tree pruning end, 1 roots, 24 extra nodes, 0 pruned nodes, max_depth=6\n",
      "[25]\ttrain-rmse:0.002745\n",
      "[19:22:46] src/tree/updater_prune.cc:74: tree pruning end, 1 roots, 24 extra nodes, 0 pruned nodes, max_depth=6\n",
      "[26]\ttrain-rmse:0.002351\n",
      "[19:22:46] src/tree/updater_prune.cc:74: tree pruning end, 1 roots, 26 extra nodes, 0 pruned nodes, max_depth=6\n",
      "[27]\ttrain-rmse:0.002002\n",
      "[19:22:46] src/tree/updater_prune.cc:74: tree pruning end, 1 roots, 20 extra nodes, 0 pruned nodes, max_depth=6\n",
      "[28]\ttrain-rmse:0.001722\n",
      "[19:22:46] src/tree/updater_prune.cc:74: tree pruning end, 1 roots, 28 extra nodes, 0 pruned nodes, max_depth=6\n",
      "[29]\ttrain-rmse:0.001458\n",
      "[19:22:46] src/tree/updater_prune.cc:74: tree pruning end, 1 roots, 22 extra nodes, 0 pruned nodes, max_depth=6\n",
      "[30]\ttrain-rmse:0.00125\n",
      "[19:22:46] src/tree/updater_prune.cc:74: tree pruning end, 1 roots, 14 extra nodes, 0 pruned nodes, max_depth=5\n",
      "[31]\ttrain-rmse:0.001082\n",
      "[19:22:46] src/tree/updater_prune.cc:74: tree pruning end, 1 roots, 14 extra nodes, 0 pruned nodes, max_depth=4\n",
      "[32]\ttrain-rmse:0.000955\n",
      "[19:22:46] src/tree/updater_prune.cc:74: tree pruning end, 1 roots, 0 extra nodes, 0 pruned nodes, max_depth=0\n",
      "[33]\ttrain-rmse:0.000954\n",
      "[19:22:46] src/tree/updater_prune.cc:74: tree pruning end, 1 roots, 0 extra nodes, 0 pruned nodes, max_depth=0\n",
      "[34]\ttrain-rmse:0.000954\n",
      "[19:22:46] src/tree/updater_prune.cc:74: tree pruning end, 1 roots, 0 extra nodes, 0 pruned nodes, max_depth=0\n",
      "[35]\ttrain-rmse:0.000954\n",
      "[19:22:46] src/tree/updater_prune.cc:74: tree pruning end, 1 roots, 0 extra nodes, 0 pruned nodes, max_depth=0\n",
      "[36]\ttrain-rmse:0.000954\n",
      "[19:22:46] src/tree/updater_prune.cc:74: tree pruning end, 1 roots, 0 extra nodes, 0 pruned nodes, max_depth=0\n",
      "[37]\ttrain-rmse:0.000954\n",
      "[19:22:46] src/tree/updater_prune.cc:74: tree pruning end, 1 roots, 0 extra nodes, 0 pruned nodes, max_depth=0\n",
      "[38]\ttrain-rmse:0.000953\n",
      "[19:22:46] src/tree/updater_prune.cc:74: tree pruning end, 1 roots, 0 extra nodes, 0 pruned nodes, max_depth=0\n",
      "[39]\ttrain-rmse:0.000953\n",
      "[19:22:46] src/tree/updater_prune.cc:74: tree pruning end, 1 roots, 0 extra nodes, 0 pruned nodes, max_depth=0\n",
      "[40]\ttrain-rmse:0.000953\n",
      "[19:22:46] src/tree/updater_prune.cc:74: tree pruning end, 1 roots, 0 extra nodes, 0 pruned nodes, max_depth=0\n",
      "[41]\ttrain-rmse:0.000953\n",
      "[19:22:46] src/tree/updater_prune.cc:74: tree pruning end, 1 roots, 0 extra nodes, 0 pruned nodes, max_depth=0\n",
      "[42]\ttrain-rmse:0.000953\n",
      "[19:22:46] src/tree/updater_prune.cc:74: tree pruning end, 1 roots, 0 extra nodes, 0 pruned nodes, max_depth=0\n",
      "[43]\ttrain-rmse:0.000953\n",
      "[19:22:46] src/tree/updater_prune.cc:74: tree pruning end, 1 roots, 0 extra nodes, 0 pruned nodes, max_depth=0\n",
      "[44]\ttrain-rmse:0.000953\n",
      "[19:22:46] src/tree/updater_prune.cc:74: tree pruning end, 1 roots, 0 extra nodes, 0 pruned nodes, max_depth=0\n",
      "[45]\ttrain-rmse:0.000953\n",
      "[19:22:46] src/tree/updater_prune.cc:74: tree pruning end, 1 roots, 0 extra nodes, 0 pruned nodes, max_depth=0\n",
      "[46]\ttrain-rmse:0.000953\n",
      "[19:22:46] src/tree/updater_prune.cc:74: tree pruning end, 1 roots, 0 extra nodes, 0 pruned nodes, max_depth=0\n",
      "[47]\ttrain-rmse:0.000953\n",
      "[19:22:46] src/tree/updater_prune.cc:74: tree pruning end, 1 roots, 0 extra nodes, 0 pruned nodes, max_depth=0\n",
      "[48]\ttrain-rmse:0.000953\n",
      "Stopping. Best iteration:\n",
      "[38]\ttrain-rmse:0.000953\n",
      "\n",
      "Accuracy: 0.93333\n"
     ]
    }
   ],
   "source": [
    "import numpy as np\n",
    "import xgboost as xgb\n",
    "from sklearn import metrics\n",
    "from sklearn import datasets\n",
    "from sklearn.model_selection import train_test_split\n",
    "\n",
    "iris = datasets.load_iris()\n",
    "\n",
    "X_train, X_test, y_train, y_test = train_test_split(iris.data, iris.target, test_size=0.3)\n",
    "\n",
    "dtrain      = xgb.DMatrix(X_train, y_train)\n",
    "bst         = xgb.train({}, dtrain, num_boost_round=100, evals=[(dtrain, 'train')], early_stopping_rounds=10)\n",
    "predictions = np.round(bst.predict(xgb.DMatrix(X_test)))\n",
    "\n",
    "print('Accuracy: {:.{}f}'.format(metrics.accuracy_score(y_test, predictions), 5))"
   ]
  },
  {
   "cell_type": "code",
   "execution_count": null,
   "metadata": {},
   "outputs": [],
   "source": []
  }
 ],
 "metadata": {
  "kernelspec": {
   "display_name": "Python 3",
   "language": "python",
   "name": "python3"
  },
  "language_info": {
   "codemirror_mode": {
    "name": "ipython",
    "version": 3
   },
   "file_extension": ".py",
   "mimetype": "text/x-python",
   "name": "python",
   "nbconvert_exporter": "python",
   "pygments_lexer": "ipython3",
   "version": "3.7.1"
  }
 },
 "nbformat": 4,
 "nbformat_minor": 2
}
