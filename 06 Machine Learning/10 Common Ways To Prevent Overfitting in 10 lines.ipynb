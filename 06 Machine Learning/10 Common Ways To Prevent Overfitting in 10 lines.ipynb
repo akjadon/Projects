{
 "cells": [
  {
   "cell_type": "code",
   "execution_count": 5,
   "metadata": {},
   "outputs": [],
   "source": [
    "import warnings\n",
    "warnings.filterwarnings('ignore')"
   ]
  },
  {
   "cell_type": "markdown",
   "metadata": {},
   "source": [
    "### t2.micro, AWS Marketplace -> Anaconda with Python 3"
   ]
  },
  {
   "cell_type": "markdown",
   "metadata": {},
   "source": [
    "### 1) L1 Regularization"
   ]
  },
  {
   "cell_type": "code",
   "execution_count": 2,
   "metadata": {},
   "outputs": [
    {
     "name": "stdout",
     "output_type": "stream",
     "text": [
      "Accuracy: 0.35556, Alpha: 10\n",
      "Accuracy: 0.35556, Alpha: 1\n",
      "Accuracy: 0.95556, Alpha: 0.1\n",
      "Accuracy: 0.97778, Alpha: 0.01\n",
      "Accuracy: 0.97778, Alpha: 0.001\n",
      "Accuracy: 0.97778, Alpha: 0.0001\n"
     ]
    }
   ],
   "source": [
    "import numpy as np\n",
    "from sklearn import metrics\n",
    "from sklearn import datasets\n",
    "from sklearn.linear_model import Lasso\n",
    "from sklearn.model_selection import train_test_split\n",
    "\n",
    "iris = datasets.load_iris()\n",
    "\n",
    "X_train, X_test, y_train, y_test = train_test_split(iris.data, iris.target, test_size=0.3)\n",
    "\n",
    "for Alpha in [10, 1, 0.1, 0.01, 0.001, 0.0001]:\n",
    "\n",
    "  predictions = np.round(Lasso(alpha=Alpha).fit(X_train, y_train).predict(X_test))\n",
    "  print('Accuracy: {:.{}f}'.format(metrics.accuracy_score(y_test, predictions), 5) + ', Alpha: ' + str(Alpha))"
   ]
  },
  {
   "cell_type": "markdown",
   "metadata": {},
   "source": [
    "### 2) L2 regularization"
   ]
  },
  {
   "cell_type": "code",
   "execution_count": 9,
   "metadata": {},
   "outputs": [
    {
     "name": "stdout",
     "output_type": "stream",
     "text": [
      "Accuracy: 0.95556, Alpha: 10\n",
      "Accuracy: 0.95556, Alpha: 1\n",
      "Accuracy: 0.95556, Alpha: 0.1\n",
      "Accuracy: 0.95556, Alpha: 0.01\n",
      "Accuracy: 0.95556, Alpha: 0.001\n",
      "Accuracy: 0.95556, Alpha: 0.0001\n"
     ]
    }
   ],
   "source": [
    "import numpy as np\n",
    "from sklearn import metrics\n",
    "from sklearn import datasets\n",
    "from sklearn.linear_model import Ridge\n",
    "from sklearn.model_selection import train_test_split\n",
    "\n",
    "iris = datasets.load_iris()\n",
    "\n",
    "X_train, X_test, y_train, y_test = train_test_split(iris.data, iris.target, test_size=0.3)\n",
    "\n",
    "for Alpha in [10, 1, 0.1, 0.01, 0.001, 0.0001]:\n",
    "\n",
    "  predictions = np.round(Ridge(alpha=Alpha).fit(X_train, y_train).predict(X_test))\n",
    "  print('Accuracy: {:.{}f}'.format(metrics.accuracy_score(y_test, predictions), 5) + ', Alpha: ' + str(Alpha))"
   ]
  },
  {
   "cell_type": "markdown",
   "metadata": {},
   "source": [
    "### 3) Elastic Net"
   ]
  },
  {
   "cell_type": "code",
   "execution_count": 23,
   "metadata": {},
   "outputs": [
    {
     "name": "stdout",
     "output_type": "stream",
     "text": [
      "Accuracy: 0.22222, L1 Ratio: 0.0, Alpha: 10\n",
      "Accuracy: 0.86667, L1 Ratio: 0.0, Alpha: 1\n",
      "Accuracy: 0.93333, L1 Ratio: 0.0, Alpha: 0.1\n",
      "Accuracy: 0.93333, L1 Ratio: 0.0, Alpha: 0.01\n",
      "Accuracy: 0.95556, L1 Ratio: 0.0, Alpha: 0.001\n",
      "Accuracy: 0.95556, L1 Ratio: 0.0, Alpha: 0.0001\n",
      "Accuracy: 0.22222, L1 Ratio: 0.5, Alpha: 10\n",
      "Accuracy: 0.51111, L1 Ratio: 0.5, Alpha: 1\n",
      "Accuracy: 0.91111, L1 Ratio: 0.5, Alpha: 0.1\n",
      "Accuracy: 0.93333, L1 Ratio: 0.5, Alpha: 0.01\n",
      "Accuracy: 0.95556, L1 Ratio: 0.5, Alpha: 0.001\n",
      "Accuracy: 0.95556, L1 Ratio: 0.5, Alpha: 0.0001\n",
      "Accuracy: 0.22222, L1 Ratio: 1.0, Alpha: 10\n",
      "Accuracy: 0.22222, L1 Ratio: 1.0, Alpha: 1\n",
      "Accuracy: 0.91111, L1 Ratio: 1.0, Alpha: 0.1\n",
      "Accuracy: 0.95556, L1 Ratio: 1.0, Alpha: 0.01\n",
      "Accuracy: 0.95556, L1 Ratio: 1.0, Alpha: 0.001\n",
      "Accuracy: 0.95556, L1 Ratio: 1.0, Alpha: 0.0001\n"
     ]
    }
   ],
   "source": [
    "import numpy as np\n",
    "from sklearn import metrics\n",
    "from sklearn import datasets\n",
    "from sklearn.linear_model import ElasticNet\n",
    "from sklearn.model_selection import train_test_split\n",
    "\n",
    "iris = datasets.load_iris()\n",
    "\n",
    "X_train, X_test, y_train, y_test = train_test_split(iris.data, iris.target, test_size=0.3)\n",
    "\n",
    "for L1Ratio in [0.0, 0.5, 1.0]:\n",
    "\n",
    "  for Alpha in [10, 1, 0.1, 0.01, 0.001, 0.0001]:\n",
    "\n",
    "    predictions = np.round(ElasticNet(alpha=Alpha, l1_ratio=L1Ratio).fit(X_train, y_train).predict(X_test))\n",
    "\n",
    "    print('Accuracy: {:.{}f}'.format(metrics.accuracy_score(y_test, predictions), 5)  + ', L1 Ratio: ' + str(L1Ratio) + ', Alpha: ' + str(Alpha))    "
   ]
  },
  {
   "cell_type": "markdown",
   "metadata": {},
   "source": [
    "### 4) Ensembling Methods"
   ]
  },
  {
   "cell_type": "code",
   "execution_count": 15,
   "metadata": {},
   "outputs": [
    {
     "name": "stdout",
     "output_type": "stream",
     "text": [
      "Accuracy: 0.93333\n"
     ]
    }
   ],
   "source": [
    "from sklearn import metrics\n",
    "from sklearn import datasets\n",
    "from sklearn.ensemble import RandomForestClassifier\n",
    "from sklearn.model_selection import train_test_split\n",
    "\n",
    "iris = datasets.load_iris()\n",
    "\n",
    "X_train, X_test, y_train, y_test = train_test_split(iris.data, iris.target, test_size=0.3)\n",
    "\n",
    "predictions = RandomForestClassifier(n_estimators=100).fit(X_train,y_train).predict(X_test)\n",
    "\n",
    "print('Accuracy: {:.{}f}'.format(metrics.accuracy_score(y_test, predictions), 5))"
   ]
  },
  {
   "cell_type": "markdown",
   "metadata": {},
   "source": [
    "### 4) Dropout"
   ]
  },
  {
   "cell_type": "markdown",
   "metadata": {},
   "source": [
    "### 5) Backtesting"
   ]
  },
  {
   "cell_type": "markdown",
   "metadata": {},
   "source": [
    "### 1) Early Stopping"
   ]
  },
  {
   "cell_type": "markdown",
   "metadata": {},
   "source": [
    "### 6) K-fold Cross Validation"
   ]
  },
  {
   "cell_type": "markdown",
   "metadata": {},
   "source": [
    "### 7) Data Augmentation"
   ]
  },
  {
   "cell_type": "markdown",
   "metadata": {},
   "source": [
    "### 9) Add more Data"
   ]
  },
  {
   "cell_type": "markdown",
   "metadata": {},
   "source": [
    "### 10 Remove Features"
   ]
  },
  {
   "cell_type": "markdown",
   "metadata": {},
   "source": [
    "### 12) Pruning / Reduce Complexity"
   ]
  },
  {
   "cell_type": "markdown",
   "metadata": {},
   "source": [
    "### 13) Ensembling"
   ]
  },
  {
   "cell_type": "code",
   "execution_count": null,
   "metadata": {},
   "outputs": [],
   "source": []
  }
 ],
 "metadata": {
  "kernelspec": {
   "display_name": "Python 3",
   "language": "python",
   "name": "python3"
  },
  "language_info": {
   "codemirror_mode": {
    "name": "ipython",
    "version": 3
   },
   "file_extension": ".py",
   "mimetype": "text/x-python",
   "name": "python",
   "nbconvert_exporter": "python",
   "pygments_lexer": "ipython3",
   "version": "3.7.1"
  }
 },
 "nbformat": 4,
 "nbformat_minor": 2
}
