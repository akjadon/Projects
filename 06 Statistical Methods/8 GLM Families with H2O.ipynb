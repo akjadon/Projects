{
 "cells": [
  {
   "cell_type": "markdown",
   "metadata": {},
   "source": [
    "### t2.micro, AWS Marketplace -> Anaconda with Python 3"
   ]
  },
  {
   "cell_type": "markdown",
   "metadata": {},
   "source": [
    "http://docs.h2o.ai/h2o/latest-stable/h2o-docs/booklets/GLMBooklet.pdf"
   ]
  },
  {
   "cell_type": "markdown",
   "metadata": {},
   "source": [
    "H2O’s GLM implementation presents a high-performance distributed algorithm that scales linearly with the number of rows and works extremely well for datasets with a limited number of active predictors.\n",
    "\n",
    "GLM can produce two categories of models: classification (binary classification only) and regression. Logistic regression is the GLM to perform binary classification.\n",
    "\n",
    "The data type of the response column determines the model category. If the response is a categorical variable (also called a factor or an enum), then a classification model is created. If the response column data type is numeric (either integer or real), then a regression model is created.\n",
    "\n",
    "If the response column is categorical, then a classification model is created. GLM only supports binary classification, so the response column may only have two levels. Categorical predictor columns may have more than two levels.\n",
    "\n",
    "Avoid one-hot encoding categorical columns with many levels into many binary columns as this is very inefficient. This is especially true for Python users who are accustomed to expanding categorical variables manually for other frameworks.\n",
    "\n",
    "For nano-fast scoring, H2O GLM models can be directly rendered as a Plain Old Java Object (POJO). POJOs are very low-latency and can easily be embedded in any Java environment (a customer-facing web application, a Storm bolt, or a Spark Streaming pipeline, for example). The POJO does nothing but pure math, and has no dependencies on any other software packages (not even H2O), so it is easy to implement."
   ]
  },
  {
   "cell_type": "markdown",
   "metadata": {},
   "source": [
    "### 1) Linear Regression (Gaussian Family)"
   ]
  },
  {
   "cell_type": "markdown",
   "metadata": {},
   "source": [
    "Linear regression corresponds to the Gaussian family model: the link function g is the identity and the density f corresponds to a normal distribution. It is the simplest example of a GLM, but has many uses and several advantages over other families. For instance, it is faster and requires more stable computations."
   ]
  },
  {
   "cell_type": "code",
   "execution_count": 2,
   "metadata": {},
   "outputs": [
    {
     "name": "stdout",
     "output_type": "stream",
     "text": [
      "Checking whether there is an H2O instance running at http://localhost:54321 . connected.\n"
     ]
    },
    {
     "data": {
      "text/html": [
       "<div style=\"overflow:auto\"><table style=\"width:50%\"><tr><td>H2O cluster uptime:</td>\n",
       "<td>22 secs</td></tr>\n",
       "<tr><td>H2O cluster timezone:</td>\n",
       "<td>UTC</td></tr>\n",
       "<tr><td>H2O data parsing timezone:</td>\n",
       "<td>UTC</td></tr>\n",
       "<tr><td>H2O cluster version:</td>\n",
       "<td>3.24.0.1</td></tr>\n",
       "<tr><td>H2O cluster version age:</td>\n",
       "<td>1 day </td></tr>\n",
       "<tr><td>H2O cluster name:</td>\n",
       "<td>H2O_from_python_ec2_user_a9fcq3</td></tr>\n",
       "<tr><td>H2O cluster total nodes:</td>\n",
       "<td>1</td></tr>\n",
       "<tr><td>H2O cluster free memory:</td>\n",
       "<td>588 Mb</td></tr>\n",
       "<tr><td>H2O cluster total cores:</td>\n",
       "<td>1</td></tr>\n",
       "<tr><td>H2O cluster allowed cores:</td>\n",
       "<td>1</td></tr>\n",
       "<tr><td>H2O cluster status:</td>\n",
       "<td>locked, healthy</td></tr>\n",
       "<tr><td>H2O connection url:</td>\n",
       "<td>http://localhost:54321</td></tr>\n",
       "<tr><td>H2O connection proxy:</td>\n",
       "<td>None</td></tr>\n",
       "<tr><td>H2O internal security:</td>\n",
       "<td>False</td></tr>\n",
       "<tr><td>H2O API Extensions:</td>\n",
       "<td>AutoML, Amazon S3, XGBoost, Algos, Core V3, Core V4</td></tr>\n",
       "<tr><td>Python version:</td>\n",
       "<td>3.6.8 final</td></tr></table></div>"
      ],
      "text/plain": [
       "--------------------------  ---------------------------------------------------\n",
       "H2O cluster uptime:         22 secs\n",
       "H2O cluster timezone:       UTC\n",
       "H2O data parsing timezone:  UTC\n",
       "H2O cluster version:        3.24.0.1\n",
       "H2O cluster version age:    1 day\n",
       "H2O cluster name:           H2O_from_python_ec2_user_a9fcq3\n",
       "H2O cluster total nodes:    1\n",
       "H2O cluster free memory:    588 Mb\n",
       "H2O cluster total cores:    1\n",
       "H2O cluster allowed cores:  1\n",
       "H2O cluster status:         locked, healthy\n",
       "H2O connection url:         http://localhost:54321\n",
       "H2O connection proxy:\n",
       "H2O internal security:      False\n",
       "H2O API Extensions:         AutoML, Amazon S3, XGBoost, Algos, Core V3, Core V4\n",
       "Python version:             3.6.8 final\n",
       "--------------------------  ---------------------------------------------------"
      ]
     },
     "metadata": {},
     "output_type": "display_data"
    },
    {
     "name": "stdout",
     "output_type": "stream",
     "text": [
      "Parse progress: |█████████████████████████████████████████████████████████| 100%\n",
      "glm Model Build progress: |███████████████████████████████████████████████| 100%\n",
      "GLM Model: summary\n",
      "\n"
     ]
    },
    {
     "data": {
      "text/html": [
       "<div style=\"overflow:auto\"><table style=\"width:50%\"><tr><td><b></b></td>\n",
       "<td><b>family</b></td>\n",
       "<td><b>link</b></td>\n",
       "<td><b>regularization</b></td>\n",
       "<td><b>number_of_predictors_total</b></td>\n",
       "<td><b>number_of_active_predictors</b></td>\n",
       "<td><b>number_of_iterations</b></td>\n",
       "<td><b>training_frame</b></td></tr>\n",
       "<tr><td></td>\n",
       "<td>gaussian</td>\n",
       "<td>identity</td>\n",
       "<td>Elastic Net (alpha = 0.5, lambda = 0.003889 )</td>\n",
       "<td>4</td>\n",
       "<td>4</td>\n",
       "<td>1</td>\n",
       "<td>prostate1.hex</td></tr></table></div>"
      ],
      "text/plain": [
       "    family    link      regularization                                 number_of_predictors_total    number_of_active_predictors    number_of_iterations    training_frame\n",
       "--  --------  --------  ---------------------------------------------  ----------------------------  -----------------------------  ----------------------  ----------------\n",
       "    gaussian  identity  Elastic Net (alpha = 0.5, lambda = 0.003889 )  4                             4                              1                       prostate1.hex"
      ]
     },
     "metadata": {},
     "output_type": "display_data"
    },
    {
     "name": "stdout",
     "output_type": "stream",
     "text": [
      "\n",
      "Coefficients: glm coefficients\n",
      "\n"
     ]
    },
    {
     "data": {
      "text/html": [
       "<div style=\"overflow:auto\"><table style=\"width:50%\"><tr><td><b>names</b></td>\n",
       "<td><b>coefficients</b></td>\n",
       "<td><b>standardized_coefficients</b></td></tr>\n",
       "<tr><td>Intercept</td>\n",
       "<td>-2.2855272</td>\n",
       "<td>15.8129211</td></tr>\n",
       "<tr><td>AGE</td>\n",
       "<td>0.3104351</td>\n",
       "<td>2.0262322</td></tr>\n",
       "<tr><td>RACE</td>\n",
       "<td>4.6805412</td>\n",
       "<td>1.4452260</td></tr>\n",
       "<tr><td>PSA</td>\n",
       "<td>0.0292755</td>\n",
       "<td>0.5854389</td></tr>\n",
       "<tr><td>GLEASON</td>\n",
       "<td>-1.2437918</td>\n",
       "<td>-1.3581626</td></tr></table></div>"
      ],
      "text/plain": [
       "names      coefficients    standardized_coefficients\n",
       "---------  --------------  ---------------------------\n",
       "Intercept  -2.28553        15.8129\n",
       "AGE        0.310435        2.02623\n",
       "RACE       4.68054         1.44523\n",
       "PSA        0.0292755       0.585439\n",
       "GLEASON    -1.24379        -1.35816"
      ]
     },
     "metadata": {},
     "output_type": "display_data"
    },
    {
     "name": "stdout",
     "output_type": "stream",
     "text": [
      "\n",
      "None\n"
     ]
    }
   ],
   "source": [
    "import h2o\n",
    "from h2o.estimators.glm import H2OGeneralizedLinearEstimator\n",
    "\n",
    "h2o.init()\n",
    "\n",
    "gaussian_fit = H2OGeneralizedLinearEstimator(family = 'gaussian')\n",
    "gaussian_fit.train(\n",
    "    y              = 'VOL'                                                                                          ,\n",
    "    x              = ['AGE', 'RACE', 'PSA', 'GLEASON']                                                              ,\n",
    "    training_frame = h2o.import_file('http://h2o-public-test-data.s3.amazonaws.com/smalldata/prostate/prostate.csv')\n",
    "                  )\n",
    "\n",
    "print(gaussian_fit.summary())\n",
    "print(gaussian_fit.pprint_coef())"
   ]
  },
  {
   "cell_type": "markdown",
   "metadata": {},
   "source": [
    "### 2) Logistic Regression (Binomial Family)"
   ]
  },
  {
   "cell_type": "markdown",
   "metadata": {},
   "source": [
    "Logistic regression is used for binary classification problems where the response is a categorical variable with two levels. It models the probability of an observation belonging to an output category given the data. The canonical link for the binomial family is the logit function (also known as log odds). Its inverse is the logistic function, which takes any real number and\n",
    "projects it onto the [0, 1] range as desired to model the probability of belonging to a class. The corresponding s-curve (or sigmoid function) is shown below:"
   ]
  },
  {
   "cell_type": "code",
   "execution_count": 45,
   "metadata": {},
   "outputs": [
    {
     "data": {
      "image/png": "[encoded data removed]",
      "text/plain": [
       "<IPython.core.display.Image object>"
      ]
     },
     "execution_count": 45,
     "metadata": {
      "image/png": {
       "height": 200,
       "width": 200
      }
     },
     "output_type": "execute_result"
    }
   ],
   "source": [
    "from IPython.display import Image\n",
    "Image('Sigmoid.png', width=200, height=200)"
   ]
  },
  {
   "cell_type": "code",
   "execution_count": 2,
   "metadata": {},
   "outputs": [
    {
     "name": "stdout",
     "output_type": "stream",
     "text": [
      "Checking whether there is an H2O instance running at http://localhost:54321 . connected.\n"
     ]
    },
    {
     "data": {
      "text/html": [
       "<div style=\"overflow:auto\"><table style=\"width:50%\"><tr><td>H2O cluster uptime:</td>\n",
       "<td>12 secs</td></tr>\n",
       "<tr><td>H2O cluster timezone:</td>\n",
       "<td>UTC</td></tr>\n",
       "<tr><td>H2O data parsing timezone:</td>\n",
       "<td>UTC</td></tr>\n",
       "<tr><td>H2O cluster version:</td>\n",
       "<td>3.24.0.1</td></tr>\n",
       "<tr><td>H2O cluster version age:</td>\n",
       "<td>1 day </td></tr>\n",
       "<tr><td>H2O cluster name:</td>\n",
       "<td>H2O_from_python_ec2_user_ae0k2c</td></tr>\n",
       "<tr><td>H2O cluster total nodes:</td>\n",
       "<td>1</td></tr>\n",
       "<tr><td>H2O cluster free memory:</td>\n",
       "<td>630 Mb</td></tr>\n",
       "<tr><td>H2O cluster total cores:</td>\n",
       "<td>1</td></tr>\n",
       "<tr><td>H2O cluster allowed cores:</td>\n",
       "<td>1</td></tr>\n",
       "<tr><td>H2O cluster status:</td>\n",
       "<td>locked, healthy</td></tr>\n",
       "<tr><td>H2O connection url:</td>\n",
       "<td>http://localhost:54321</td></tr>\n",
       "<tr><td>H2O connection proxy:</td>\n",
       "<td>None</td></tr>\n",
       "<tr><td>H2O internal security:</td>\n",
       "<td>False</td></tr>\n",
       "<tr><td>H2O API Extensions:</td>\n",
       "<td>AutoML, Amazon S3, XGBoost, Algos, Core V3, Core V4</td></tr>\n",
       "<tr><td>Python version:</td>\n",
       "<td>3.6.8 final</td></tr></table></div>"
      ],
      "text/plain": [
       "--------------------------  ---------------------------------------------------\n",
       "H2O cluster uptime:         12 secs\n",
       "H2O cluster timezone:       UTC\n",
       "H2O data parsing timezone:  UTC\n",
       "H2O cluster version:        3.24.0.1\n",
       "H2O cluster version age:    1 day\n",
       "H2O cluster name:           H2O_from_python_ec2_user_ae0k2c\n",
       "H2O cluster total nodes:    1\n",
       "H2O cluster free memory:    630 Mb\n",
       "H2O cluster total cores:    1\n",
       "H2O cluster allowed cores:  1\n",
       "H2O cluster status:         locked, healthy\n",
       "H2O connection url:         http://localhost:54321\n",
       "H2O connection proxy:\n",
       "H2O internal security:      False\n",
       "H2O API Extensions:         AutoML, Amazon S3, XGBoost, Algos, Core V3, Core V4\n",
       "Python version:             3.6.8 final\n",
       "--------------------------  ---------------------------------------------------"
      ]
     },
     "metadata": {},
     "output_type": "display_data"
    },
    {
     "name": "stdout",
     "output_type": "stream",
     "text": [
      "Parse progress: |█████████████████████████████████████████████████████████| 100%\n",
      "glm Model Build progress: |███████████████████████████████████████████████| 100%\n",
      "GLM Model: summary\n",
      "\n"
     ]
    },
    {
     "data": {
      "text/html": [
       "<div style=\"overflow:auto\"><table style=\"width:50%\"><tr><td><b></b></td>\n",
       "<td><b>family</b></td>\n",
       "<td><b>link</b></td>\n",
       "<td><b>regularization</b></td>\n",
       "<td><b>number_of_predictors_total</b></td>\n",
       "<td><b>number_of_active_predictors</b></td>\n",
       "<td><b>number_of_iterations</b></td>\n",
       "<td><b>training_frame</b></td></tr>\n",
       "<tr><td></td>\n",
       "<td>binomial</td>\n",
       "<td>logit</td>\n",
       "<td>Elastic Net (alpha = 0.5, lambda = 4.445E-4 )</td>\n",
       "<td>4</td>\n",
       "<td>4</td>\n",
       "<td>4</td>\n",
       "<td>py_2_sid_a158</td></tr></table></div>"
      ],
      "text/plain": [
       "    family    link    regularization                                 number_of_predictors_total    number_of_active_predictors    number_of_iterations    training_frame\n",
       "--  --------  ------  ---------------------------------------------  ----------------------------  -----------------------------  ----------------------  ----------------\n",
       "    binomial  logit   Elastic Net (alpha = 0.5, lambda = 4.445E-4 )  4                             4                              4                       py_2_sid_a158"
      ]
     },
     "metadata": {},
     "output_type": "display_data"
    },
    {
     "name": "stdout",
     "output_type": "stream",
     "text": [
      "\n",
      "Coefficients: glm coefficients\n",
      "\n"
     ]
    },
    {
     "data": {
      "text/html": [
       "<div style=\"overflow:auto\"><table style=\"width:50%\"><tr><td><b>names</b></td>\n",
       "<td><b>coefficients</b></td>\n",
       "<td><b>standardized_coefficients</b></td></tr>\n",
       "<tr><td>Intercept</td>\n",
       "<td>-5.8676043</td>\n",
       "<td>-0.4671431</td></tr>\n",
       "<tr><td>AGE</td>\n",
       "<td>-0.0208192</td>\n",
       "<td>-0.1358885</td></tr>\n",
       "<tr><td>RACE</td>\n",
       "<td>-0.4571647</td>\n",
       "<td>-0.1411602</td></tr>\n",
       "<tr><td>PSA</td>\n",
       "<td>0.0278816</td>\n",
       "<td>0.5575652</td></tr>\n",
       "<tr><td>GLEASON</td>\n",
       "<td>1.0718003</td>\n",
       "<td>1.1703560</td></tr></table></div>"
      ],
      "text/plain": [
       "names      coefficients    standardized_coefficients\n",
       "---------  --------------  ---------------------------\n",
       "Intercept  -5.8676         -0.467143\n",
       "AGE        -0.0208192      -0.135888\n",
       "RACE       -0.457165       -0.14116\n",
       "PSA        0.0278816       0.557565\n",
       "GLEASON    1.0718          1.17036"
      ]
     },
     "metadata": {},
     "output_type": "display_data"
    },
    {
     "name": "stdout",
     "output_type": "stream",
     "text": [
      "\n",
      "None\n"
     ]
    }
   ],
   "source": [
    "import h2o\n",
    "from h2o.estimators.glm import H2OGeneralizedLinearEstimator\n",
    "\n",
    "h2o.init()\n",
    "\n",
    "h2o_df            = h2o.import_file('http://h2o-public-test-data.s3.amazonaws.com/smalldata/prostate/prostate.csv')\n",
    "h2o_df['CAPSULE'] = h2o_df['CAPSULE'].asfactor()\n",
    "\n",
    "binomial_fit = H2OGeneralizedLinearEstimator(family = 'binomial')\n",
    "binomial_fit.train(\n",
    "                   y              = 'CAPSULE'                        , \n",
    "                   x              = ['AGE', 'RACE', 'PSA', 'GLEASON'], \n",
    "                   training_frame = h2o_df\n",
    "                  )\n",
    "\n",
    "print(binomial_fit.summary())\n",
    "print(binomial_fit.pprint_coef())     "
   ]
  },
  {
   "cell_type": "markdown",
   "metadata": {},
   "source": [
    "### 3) Logistic Ordinal Regression (Ordinal Family)"
   ]
  },
  {
   "cell_type": "markdown",
   "metadata": {},
   "source": [
    "A logistic ordinal regression model is a generalized linear model that predicts ordinal variables - variables that are discreet, as in classification, but that can be ordered, as in regression."
   ]
  },
  {
   "cell_type": "code",
   "execution_count": 2,
   "metadata": {
    "scrolled": false
   },
   "outputs": [
    {
     "name": "stdout",
     "output_type": "stream",
     "text": [
      "Checking whether there is an H2O instance running at http://localhost:54321 . connected.\n"
     ]
    },
    {
     "data": {
      "text/html": [
       "<div style=\"overflow:auto\"><table style=\"width:50%\"><tr><td>H2O cluster uptime:</td>\n",
       "<td>16 secs</td></tr>\n",
       "<tr><td>H2O cluster timezone:</td>\n",
       "<td>UTC</td></tr>\n",
       "<tr><td>H2O data parsing timezone:</td>\n",
       "<td>UTC</td></tr>\n",
       "<tr><td>H2O cluster version:</td>\n",
       "<td>3.24.0.1</td></tr>\n",
       "<tr><td>H2O cluster version age:</td>\n",
       "<td>1 day </td></tr>\n",
       "<tr><td>H2O cluster name:</td>\n",
       "<td>H2O_from_python_ec2_user_3q38fl</td></tr>\n",
       "<tr><td>H2O cluster total nodes:</td>\n",
       "<td>1</td></tr>\n",
       "<tr><td>H2O cluster free memory:</td>\n",
       "<td>581 Mb</td></tr>\n",
       "<tr><td>H2O cluster total cores:</td>\n",
       "<td>1</td></tr>\n",
       "<tr><td>H2O cluster allowed cores:</td>\n",
       "<td>1</td></tr>\n",
       "<tr><td>H2O cluster status:</td>\n",
       "<td>locked, healthy</td></tr>\n",
       "<tr><td>H2O connection url:</td>\n",
       "<td>http://localhost:54321</td></tr>\n",
       "<tr><td>H2O connection proxy:</td>\n",
       "<td>None</td></tr>\n",
       "<tr><td>H2O internal security:</td>\n",
       "<td>False</td></tr>\n",
       "<tr><td>H2O API Extensions:</td>\n",
       "<td>AutoML, Amazon S3, XGBoost, Algos, Core V3, Core V4</td></tr>\n",
       "<tr><td>Python version:</td>\n",
       "<td>3.6.8 final</td></tr></table></div>"
      ],
      "text/plain": [
       "--------------------------  ---------------------------------------------------\n",
       "H2O cluster uptime:         16 secs\n",
       "H2O cluster timezone:       UTC\n",
       "H2O data parsing timezone:  UTC\n",
       "H2O cluster version:        3.24.0.1\n",
       "H2O cluster version age:    1 day\n",
       "H2O cluster name:           H2O_from_python_ec2_user_3q38fl\n",
       "H2O cluster total nodes:    1\n",
       "H2O cluster free memory:    581 Mb\n",
       "H2O cluster total cores:    1\n",
       "H2O cluster allowed cores:  1\n",
       "H2O cluster status:         locked, healthy\n",
       "H2O connection url:         http://localhost:54321\n",
       "H2O connection proxy:\n",
       "H2O internal security:      False\n",
       "H2O API Extensions:         AutoML, Amazon S3, XGBoost, Algos, Core V3, Core V4\n",
       "Python version:             3.6.8 final\n",
       "--------------------------  ---------------------------------------------------"
      ]
     },
     "metadata": {},
     "output_type": "display_data"
    },
    {
     "name": "stdout",
     "output_type": "stream",
     "text": [
      "Parse progress: |█████████████████████████████████████████████████████████| 100%\n",
      "glm Model Build progress: |███████████████████████████████████████████████| 100%\n",
      "GLM Model: summary\n",
      "\n"
     ]
    },
    {
     "data": {
      "text/html": [
       "<div style=\"overflow:auto\"><table style=\"width:50%\"><tr><td><b></b></td>\n",
       "<td><b>family</b></td>\n",
       "<td><b>link</b></td>\n",
       "<td><b>regularization</b></td>\n",
       "<td><b>number_of_predictors_total</b></td>\n",
       "<td><b>number_of_active_predictors</b></td>\n",
       "<td><b>number_of_iterations</b></td>\n",
       "<td><b>training_frame</b></td></tr>\n",
       "<tr><td></td>\n",
       "<td>ordinal</td>\n",
       "<td>ologit</td>\n",
       "<td>Lasso (lambda = 1.0E-9 )</td>\n",
       "<td>66</td>\n",
       "<td>49</td>\n",
       "<td>1</td>\n",
       "<td>py_2_sid_b2dd</td></tr></table></div>"
      ],
      "text/plain": [
       "    family    link    regularization            number_of_predictors_total    number_of_active_predictors    number_of_iterations    training_frame\n",
       "--  --------  ------  ------------------------  ----------------------------  -----------------------------  ----------------------  ----------------\n",
       "    ordinal   ologit  Lasso (lambda = 1.0E-9 )  66                            49                             1                       py_2_sid_b2dd"
      ]
     },
     "metadata": {},
     "output_type": "display_data"
    },
    {
     "name": "stdout",
     "output_type": "stream",
     "text": [
      "\n",
      "Coefficients: glm multinomial coefficients\n",
      "\n"
     ]
    },
    {
     "data": {
      "text/html": [
       "<div style=\"overflow:auto\"><table style=\"width:50%\"><tr><td><b>names</b></td>\n",
       "<td><b>coefs_class_0</b></td>\n",
       "<td><b>coefs_class_1</b></td>\n",
       "<td><b>coefs_class_2</b></td>\n",
       "<td><b>coefs_class_3</b></td>\n",
       "<td><b>coefs_class_4</b></td>\n",
       "<td><b>coefs_class_5</b></td>\n",
       "<td><b>std_coefs_class_0</b></td>\n",
       "<td><b>std_coefs_class_1</b></td>\n",
       "<td><b>std_coefs_class_2</b></td>\n",
       "<td><b>std_coefs_class_3</b></td>\n",
       "<td><b>std_coefs_class_4</b></td>\n",
       "<td><b>std_coefs_class_5</b></td></tr>\n",
       "<tr><td>Intercept</td>\n",
       "<td>-5.3400517</td>\n",
       "<td>-4.2706276</td>\n",
       "<td>-4.0596078</td>\n",
       "<td>-2.1366286</td>\n",
       "<td>-0.5816070</td>\n",
       "<td>0.0</td>\n",
       "<td>-5.3399239</td>\n",
       "<td>-4.2704998</td>\n",
       "<td>-4.0594800</td>\n",
       "<td>-2.1365008</td>\n",
       "<td>-0.5814792</td>\n",
       "<td>0.0</td></tr>\n",
       "<tr><td>C1</td>\n",
       "<td>0.0286530</td>\n",
       "<td>0.0286530</td>\n",
       "<td>0.0286530</td>\n",
       "<td>0.0286530</td>\n",
       "<td>0.0286530</td>\n",
       "<td>0.0</td>\n",
       "<td>0.0330794</td>\n",
       "<td>0.0330794</td>\n",
       "<td>0.0330794</td>\n",
       "<td>0.0330794</td>\n",
       "<td>0.0330794</td>\n",
       "<td>0.0</td></tr>\n",
       "<tr><td>C2</td>\n",
       "<td>0.0129029</td>\n",
       "<td>0.0129029</td>\n",
       "<td>0.0129029</td>\n",
       "<td>0.0129029</td>\n",
       "<td>0.0129029</td>\n",
       "<td>0.0</td>\n",
       "<td>0.0148736</td>\n",
       "<td>0.0148736</td>\n",
       "<td>0.0148736</td>\n",
       "<td>0.0148736</td>\n",
       "<td>0.0148736</td>\n",
       "<td>0.0</td></tr>\n",
       "<tr><td>C3</td>\n",
       "<td>0.0232305</td>\n",
       "<td>0.0232305</td>\n",
       "<td>0.0232305</td>\n",
       "<td>0.0232305</td>\n",
       "<td>0.0232305</td>\n",
       "<td>0.0</td>\n",
       "<td>0.0268658</td>\n",
       "<td>0.0268658</td>\n",
       "<td>0.0268658</td>\n",
       "<td>0.0268658</td>\n",
       "<td>0.0268658</td>\n",
       "<td>0.0</td></tr>\n",
       "<tr><td>C4</td>\n",
       "<td>-0.0618561</td>\n",
       "<td>-0.0618561</td>\n",
       "<td>-0.0618561</td>\n",
       "<td>-0.0618561</td>\n",
       "<td>-0.0618561</td>\n",
       "<td>0.0</td>\n",
       "<td>-0.0715360</td>\n",
       "<td>-0.0715360</td>\n",
       "<td>-0.0715360</td>\n",
       "<td>-0.0715360</td>\n",
       "<td>-0.0715360</td>\n",
       "<td>0.0</td></tr>\n",
       "<tr><td>C5</td>\n",
       "<td>-0.0848549</td>\n",
       "<td>-0.0848549</td>\n",
       "<td>-0.0848549</td>\n",
       "<td>-0.0848549</td>\n",
       "<td>-0.0848549</td>\n",
       "<td>0.0</td>\n",
       "<td>-0.0976840</td>\n",
       "<td>-0.0976840</td>\n",
       "<td>-0.0976840</td>\n",
       "<td>-0.0976840</td>\n",
       "<td>-0.0976840</td>\n",
       "<td>0.0</td></tr>\n",
       "<tr><td>C6</td>\n",
       "<td>0.0925390</td>\n",
       "<td>0.0925390</td>\n",
       "<td>0.0925390</td>\n",
       "<td>0.0925390</td>\n",
       "<td>0.0925390</td>\n",
       "<td>0.0</td>\n",
       "<td>0.1071068</td>\n",
       "<td>0.1071068</td>\n",
       "<td>0.1071068</td>\n",
       "<td>0.1071068</td>\n",
       "<td>0.1071068</td>\n",
       "<td>0.0</td></tr>\n",
       "<tr><td>C7</td>\n",
       "<td>-0.1229714</td>\n",
       "<td>-0.1229714</td>\n",
       "<td>-0.1229714</td>\n",
       "<td>-0.1229714</td>\n",
       "<td>-0.1229714</td>\n",
       "<td>0.0</td>\n",
       "<td>-0.1417589</td>\n",
       "<td>-0.1417589</td>\n",
       "<td>-0.1417589</td>\n",
       "<td>-0.1417589</td>\n",
       "<td>-0.1417589</td>\n",
       "<td>0.0</td></tr>\n",
       "<tr><td>C8</td>\n",
       "<td>-0.1024690</td>\n",
       "<td>-0.1024690</td>\n",
       "<td>-0.1024690</td>\n",
       "<td>-0.1024690</td>\n",
       "<td>-0.1024690</td>\n",
       "<td>0.0</td>\n",
       "<td>-0.1182264</td>\n",
       "<td>-0.1182264</td>\n",
       "<td>-0.1182264</td>\n",
       "<td>-0.1182264</td>\n",
       "<td>-0.1182264</td>\n",
       "<td>0.0</td></tr>\n",
       "<tr><td>C9</td>\n",
       "<td>0.0229753</td>\n",
       "<td>0.0229753</td>\n",
       "<td>0.0229753</td>\n",
       "<td>0.0229753</td>\n",
       "<td>0.0229753</td>\n",
       "<td>0.0</td>\n",
       "<td>0.0265390</td>\n",
       "<td>0.0265390</td>\n",
       "<td>0.0265390</td>\n",
       "<td>0.0265390</td>\n",
       "<td>0.0265390</td>\n",
       "<td>0.0</td></tr>\n",
       "<tr><td>C10</td>\n",
       "<td>-0.0577034</td>\n",
       "<td>-0.0577034</td>\n",
       "<td>-0.0577034</td>\n",
       "<td>-0.0577034</td>\n",
       "<td>-0.0577034</td>\n",
       "<td>0.0</td>\n",
       "<td>-0.0667358</td>\n",
       "<td>-0.0667358</td>\n",
       "<td>-0.0667358</td>\n",
       "<td>-0.0667358</td>\n",
       "<td>-0.0667358</td>\n",
       "<td>0.0</td></tr></table></div>"
      ],
      "text/plain": [
       "names      coefs_class_0    coefs_class_1    coefs_class_2    coefs_class_3    coefs_class_4    coefs_class_5    std_coefs_class_0    std_coefs_class_1    std_coefs_class_2    std_coefs_class_3    std_coefs_class_4    std_coefs_class_5\n",
       "---------  ---------------  ---------------  ---------------  ---------------  ---------------  ---------------  -------------------  -------------------  -------------------  -------------------  -------------------  -------------------\n",
       "Intercept  -5.34005         -4.27063         -4.05961         -2.13663         -0.581607        0                -5.33992             -4.2705              -4.05948             -2.1365              -0.581479            0\n",
       "C1         0.028653         0.028653         0.028653         0.028653         0.028653         0                0.0330794            0.0330794            0.0330794            0.0330794            0.0330794            0\n",
       "C2         0.0129029        0.0129029        0.0129029        0.0129029        0.0129029        0                0.0148736            0.0148736            0.0148736            0.0148736            0.0148736            0\n",
       "C3         0.0232305        0.0232305        0.0232305        0.0232305        0.0232305        0                0.0268658            0.0268658            0.0268658            0.0268658            0.0268658            0\n",
       "C4         -0.0618561       -0.0618561       -0.0618561       -0.0618561       -0.0618561       0                -0.071536            -0.071536            -0.071536            -0.071536            -0.071536            0\n",
       "C5         -0.0848549       -0.0848549       -0.0848549       -0.0848549       -0.0848549       0                -0.097684            -0.097684            -0.097684            -0.097684            -0.097684            0\n",
       "C6         0.092539         0.092539         0.092539         0.092539         0.092539         0                0.107107             0.107107             0.107107             0.107107             0.107107             0\n",
       "C7         -0.122971        -0.122971        -0.122971        -0.122971        -0.122971        0                -0.141759            -0.141759            -0.141759            -0.141759            -0.141759            0\n",
       "C8         -0.102469        -0.102469        -0.102469        -0.102469        -0.102469        0                -0.118226            -0.118226            -0.118226            -0.118226            -0.118226            0\n",
       "C9         0.0229753        0.0229753        0.0229753        0.0229753        0.0229753        0                0.026539             0.026539             0.026539             0.026539             0.026539             0\n",
       "C10        -0.0577034       -0.0577034       -0.0577034       -0.0577034       -0.0577034       0                -0.0667358           -0.0667358           -0.0667358           -0.0667358           -0.0667358           0"
      ]
     },
     "metadata": {},
     "output_type": "display_data"
    },
    {
     "name": "stdout",
     "output_type": "stream",
     "text": [
      "\n",
      "None\n"
     ]
    }
   ],
   "source": [
    "import h2o\n",
    "from h2o.estimators.glm import H2OGeneralizedLinearEstimator\n",
    "\n",
    "h2o.init()\n",
    "\n",
    "h2o_df        = h2o.import_file('http://h2o-public-test-data.s3.amazonaws.com/bigdata/laptop/glm_ordinal_logit/ordinal_multinomial_training_set.csv')\n",
    "h2o_df['C11'] = h2o_df['C11'].asfactor()\n",
    "\n",
    "ordinal_fit = H2OGeneralizedLinearEstimator(\n",
    "                                            family            = 'ordinal'  ,\n",
    "                                            alpha             = 1.0        ,\n",
    "                                            lambda_           = 0.000000001,\n",
    "                                            obj_reg           = 0.00001    ,\n",
    "                                            max_iterations    = 1000       ,\n",
    "                                            beta_epsilon      = 1e-8       ,\n",
    "                                            objective_epsilon = 1e-10\n",
    "                                           )\n",
    "\n",
    "ordinal_fit.train(\n",
    "                  x              = list(range(0,10)),\n",
    "                  y              = 'C11',\n",
    "                  training_frame = h2o_df\n",
    "                 )\n",
    "\n",
    "print(ordinal_fit.summary())\n",
    "print(ordinal_fit.pprint_coef())"
   ]
  },
  {
   "cell_type": "markdown",
   "metadata": {},
   "source": [
    "### 4) Multi-class classification (Multinomial Family)"
   ]
  },
  {
   "cell_type": "markdown",
   "metadata": {},
   "source": [
    "Multinomial family generalization of the binomial model is used for multi-class response variables."
   ]
  },
  {
   "cell_type": "code",
   "execution_count": 2,
   "metadata": {},
   "outputs": [
    {
     "name": "stdout",
     "output_type": "stream",
     "text": [
      "Checking whether there is an H2O instance running at http://localhost:54321 . connected.\n"
     ]
    },
    {
     "data": {
      "text/html": [
       "<div style=\"overflow:auto\"><table style=\"width:50%\"><tr><td>H2O cluster uptime:</td>\n",
       "<td>12 secs</td></tr>\n",
       "<tr><td>H2O cluster timezone:</td>\n",
       "<td>UTC</td></tr>\n",
       "<tr><td>H2O data parsing timezone:</td>\n",
       "<td>UTC</td></tr>\n",
       "<tr><td>H2O cluster version:</td>\n",
       "<td>3.24.0.1</td></tr>\n",
       "<tr><td>H2O cluster version age:</td>\n",
       "<td>1 day </td></tr>\n",
       "<tr><td>H2O cluster name:</td>\n",
       "<td>H2O_from_python_ec2_user_mdwc93</td></tr>\n",
       "<tr><td>H2O cluster total nodes:</td>\n",
       "<td>1</td></tr>\n",
       "<tr><td>H2O cluster free memory:</td>\n",
       "<td>630 Mb</td></tr>\n",
       "<tr><td>H2O cluster total cores:</td>\n",
       "<td>1</td></tr>\n",
       "<tr><td>H2O cluster allowed cores:</td>\n",
       "<td>1</td></tr>\n",
       "<tr><td>H2O cluster status:</td>\n",
       "<td>locked, healthy</td></tr>\n",
       "<tr><td>H2O connection url:</td>\n",
       "<td>http://localhost:54321</td></tr>\n",
       "<tr><td>H2O connection proxy:</td>\n",
       "<td>None</td></tr>\n",
       "<tr><td>H2O internal security:</td>\n",
       "<td>False</td></tr>\n",
       "<tr><td>H2O API Extensions:</td>\n",
       "<td>AutoML, Amazon S3, XGBoost, Algos, Core V3, Core V4</td></tr>\n",
       "<tr><td>Python version:</td>\n",
       "<td>3.6.8 final</td></tr></table></div>"
      ],
      "text/plain": [
       "--------------------------  ---------------------------------------------------\n",
       "H2O cluster uptime:         12 secs\n",
       "H2O cluster timezone:       UTC\n",
       "H2O data parsing timezone:  UTC\n",
       "H2O cluster version:        3.24.0.1\n",
       "H2O cluster version age:    1 day\n",
       "H2O cluster name:           H2O_from_python_ec2_user_mdwc93\n",
       "H2O cluster total nodes:    1\n",
       "H2O cluster free memory:    630 Mb\n",
       "H2O cluster total cores:    1\n",
       "H2O cluster allowed cores:  1\n",
       "H2O cluster status:         locked, healthy\n",
       "H2O connection url:         http://localhost:54321\n",
       "H2O connection proxy:\n",
       "H2O internal security:      False\n",
       "H2O API Extensions:         AutoML, Amazon S3, XGBoost, Algos, Core V3, Core V4\n",
       "Python version:             3.6.8 final\n",
       "--------------------------  ---------------------------------------------------"
      ]
     },
     "metadata": {},
     "output_type": "display_data"
    },
    {
     "name": "stdout",
     "output_type": "stream",
     "text": [
      "Parse progress: |█████████████████████████████████████████████████████████| 100%\n",
      "glm Model Build progress: |███████████████████████████████████████████████| 100%\n",
      "GLM Model: summary\n",
      "\n"
     ]
    },
    {
     "data": {
      "text/html": [
       "<div style=\"overflow:auto\"><table style=\"width:50%\"><tr><td><b></b></td>\n",
       "<td><b>family</b></td>\n",
       "<td><b>link</b></td>\n",
       "<td><b>regularization</b></td>\n",
       "<td><b>number_of_predictors_total</b></td>\n",
       "<td><b>number_of_active_predictors</b></td>\n",
       "<td><b>number_of_iterations</b></td>\n",
       "<td><b>training_frame</b></td></tr>\n",
       "<tr><td></td>\n",
       "<td>multinomial</td>\n",
       "<td>multinomial</td>\n",
       "<td>Elastic Net (alpha = 0.5, lambda = 8.67E-4 )</td>\n",
       "<td>15</td>\n",
       "<td>11</td>\n",
       "<td>23</td>\n",
       "<td>iris1.hex</td></tr></table></div>"
      ],
      "text/plain": [
       "    family       link         regularization                                number_of_predictors_total    number_of_active_predictors    number_of_iterations    training_frame\n",
       "--  -----------  -----------  --------------------------------------------  ----------------------------  -----------------------------  ----------------------  ----------------\n",
       "    multinomial  multinomial  Elastic Net (alpha = 0.5, lambda = 8.67E-4 )  15                            11                             23                      iris1.hex"
      ]
     },
     "metadata": {},
     "output_type": "display_data"
    },
    {
     "name": "stdout",
     "output_type": "stream",
     "text": [
      "\n",
      "Coefficients: glm multinomial coefficients\n",
      "\n"
     ]
    },
    {
     "data": {
      "text/html": [
       "<div style=\"overflow:auto\"><table style=\"width:50%\"><tr><td><b>names</b></td>\n",
       "<td><b>coefs_class_0</b></td>\n",
       "<td><b>coefs_class_1</b></td>\n",
       "<td><b>coefs_class_2</b></td>\n",
       "<td><b>std_coefs_class_0</b></td>\n",
       "<td><b>std_coefs_class_1</b></td>\n",
       "<td><b>std_coefs_class_2</b></td></tr>\n",
       "<tr><td>Intercept</td>\n",
       "<td>6.6686907</td>\n",
       "<td>-0.0520809</td>\n",
       "<td>-18.3671186</td>\n",
       "<td>-4.0062426</td>\n",
       "<td>-0.0637544</td>\n",
       "<td>-8.5615872</td></tr>\n",
       "<tr><td>C1</td>\n",
       "<td>-1.5259969</td>\n",
       "<td>1.1180834</td>\n",
       "<td>0.0</td>\n",
       "<td>-1.2636263</td>\n",
       "<td>0.9258470</td>\n",
       "<td>0.0</td></tr>\n",
       "<tr><td>C2</td>\n",
       "<td>3.6977181</td>\n",
       "<td>-0.8457616</td>\n",
       "<td>-3.6351031</td>\n",
       "<td>1.6033095</td>\n",
       "<td>-0.3667174</td>\n",
       "<td>-1.5761600</td></tr>\n",
       "<tr><td>C3</td>\n",
       "<td>-2.0546735</td>\n",
       "<td>-0.5727868</td>\n",
       "<td>3.3334309</td>\n",
       "<td>-3.6253079</td>\n",
       "<td>-1.0106368</td>\n",
       "<td>5.8815735</td></tr>\n",
       "<tr><td>C4</td>\n",
       "<td>-4.4449583</td>\n",
       "<td>-1.5092908</td>\n",
       "<td>6.9893332</td>\n",
       "<td>-3.3922177</td>\n",
       "<td>-1.1518315</td>\n",
       "<td>5.3339847</td></tr></table></div>"
      ],
      "text/plain": [
       "names      coefs_class_0    coefs_class_1    coefs_class_2    std_coefs_class_0    std_coefs_class_1    std_coefs_class_2\n",
       "---------  ---------------  ---------------  ---------------  -------------------  -------------------  -------------------\n",
       "Intercept  6.66869          -0.0520809       -18.3671         -4.00624             -0.0637544           -8.56159\n",
       "C1         -1.526           1.11808          0                -1.26363             0.925847             0\n",
       "C2         3.69772          -0.845762        -3.6351          1.60331              -0.366717            -1.57616\n",
       "C3         -2.05467         -0.572787        3.33343          -3.62531             -1.01064             5.88157\n",
       "C4         -4.44496         -1.50929         6.98933          -3.39222             -1.15183             5.33398"
      ]
     },
     "metadata": {},
     "output_type": "display_data"
    },
    {
     "name": "stdout",
     "output_type": "stream",
     "text": [
      "\n",
      "None\n"
     ]
    }
   ],
   "source": [
    "import h2o\n",
    "from h2o.estimators.glm import H2OGeneralizedLinearEstimator\n",
    "\n",
    "h2o.init()\n",
    "\n",
    "multinomial_fit = H2OGeneralizedLinearEstimator(family = \"multinomial\")\n",
    "multinomial_fit.train(\n",
    "    y              = 4                                                                                      ,\n",
    "    x              = [0,1,2,3]                                                                              ,\n",
    "    training_frame = h2o.import_file('http://h2o-public-test-data.s3.amazonaws.com/smalldata/iris/iris.csv')\n",
    "                     )\n",
    "\n",
    "print(multinomial_fit.summary())\n",
    "print(multinomial_fit.pprint_coef())"
   ]
  },
  {
   "cell_type": "markdown",
   "metadata": {},
   "source": [
    "### 5) Poisson Models"
   ]
  },
  {
   "cell_type": "markdown",
   "metadata": {},
   "source": [
    "Poisson regression is typically used for datasets where the response represents counts and the errors are assumed to have a Poisson distribution. In general, it can be applied to any data where the response is non-negative."
   ]
  },
  {
   "cell_type": "code",
   "execution_count": 2,
   "metadata": {},
   "outputs": [
    {
     "name": "stdout",
     "output_type": "stream",
     "text": [
      "Checking whether there is an H2O instance running at http://localhost:54321 . connected.\n"
     ]
    },
    {
     "data": {
      "text/html": [
       "<div style=\"overflow:auto\"><table style=\"width:50%\"><tr><td>H2O cluster uptime:</td>\n",
       "<td>12 secs</td></tr>\n",
       "<tr><td>H2O cluster timezone:</td>\n",
       "<td>UTC</td></tr>\n",
       "<tr><td>H2O data parsing timezone:</td>\n",
       "<td>UTC</td></tr>\n",
       "<tr><td>H2O cluster version:</td>\n",
       "<td>3.24.0.1</td></tr>\n",
       "<tr><td>H2O cluster version age:</td>\n",
       "<td>1 day </td></tr>\n",
       "<tr><td>H2O cluster name:</td>\n",
       "<td>H2O_from_python_ec2_user_g5pa1d</td></tr>\n",
       "<tr><td>H2O cluster total nodes:</td>\n",
       "<td>1</td></tr>\n",
       "<tr><td>H2O cluster free memory:</td>\n",
       "<td>630 Mb</td></tr>\n",
       "<tr><td>H2O cluster total cores:</td>\n",
       "<td>1</td></tr>\n",
       "<tr><td>H2O cluster allowed cores:</td>\n",
       "<td>1</td></tr>\n",
       "<tr><td>H2O cluster status:</td>\n",
       "<td>locked, healthy</td></tr>\n",
       "<tr><td>H2O connection url:</td>\n",
       "<td>http://localhost:54321</td></tr>\n",
       "<tr><td>H2O connection proxy:</td>\n",
       "<td>None</td></tr>\n",
       "<tr><td>H2O internal security:</td>\n",
       "<td>False</td></tr>\n",
       "<tr><td>H2O API Extensions:</td>\n",
       "<td>AutoML, Amazon S3, XGBoost, Algos, Core V3, Core V4</td></tr>\n",
       "<tr><td>Python version:</td>\n",
       "<td>3.6.8 final</td></tr></table></div>"
      ],
      "text/plain": [
       "--------------------------  ---------------------------------------------------\n",
       "H2O cluster uptime:         12 secs\n",
       "H2O cluster timezone:       UTC\n",
       "H2O data parsing timezone:  UTC\n",
       "H2O cluster version:        3.24.0.1\n",
       "H2O cluster version age:    1 day\n",
       "H2O cluster name:           H2O_from_python_ec2_user_g5pa1d\n",
       "H2O cluster total nodes:    1\n",
       "H2O cluster free memory:    630 Mb\n",
       "H2O cluster total cores:    1\n",
       "H2O cluster allowed cores:  1\n",
       "H2O cluster status:         locked, healthy\n",
       "H2O connection url:         http://localhost:54321\n",
       "H2O connection proxy:\n",
       "H2O internal security:      False\n",
       "H2O API Extensions:         AutoML, Amazon S3, XGBoost, Algos, Core V3, Core V4\n",
       "Python version:             3.6.8 final\n",
       "--------------------------  ---------------------------------------------------"
      ]
     },
     "metadata": {},
     "output_type": "display_data"
    },
    {
     "name": "stdout",
     "output_type": "stream",
     "text": [
      "Parse progress: |█████████████████████████████████████████████████████████| 100%\n",
      "glm Model Build progress: |███████████████████████████████████████████████| 100%\n",
      "GLM Model: summary\n",
      "\n"
     ]
    },
    {
     "data": {
      "text/html": [
       "<div style=\"overflow:auto\"><table style=\"width:50%\"><tr><td><b></b></td>\n",
       "<td><b>family</b></td>\n",
       "<td><b>link</b></td>\n",
       "<td><b>regularization</b></td>\n",
       "<td><b>number_of_predictors_total</b></td>\n",
       "<td><b>number_of_active_predictors</b></td>\n",
       "<td><b>number_of_iterations</b></td>\n",
       "<td><b>training_frame</b></td></tr>\n",
       "<tr><td></td>\n",
       "<td>poisson</td>\n",
       "<td>log</td>\n",
       "<td>Elastic Net (alpha = 0.5, lambda = 0.4014 )</td>\n",
       "<td>6</td>\n",
       "<td>6</td>\n",
       "<td>6</td>\n",
       "<td>Motor_insurance_sweden1.hex</td></tr></table></div>"
      ],
      "text/plain": [
       "    family    link    regularization                               number_of_predictors_total    number_of_active_predictors    number_of_iterations    training_frame\n",
       "--  --------  ------  -------------------------------------------  ----------------------------  -----------------------------  ----------------------  ---------------------------\n",
       "    poisson   log     Elastic Net (alpha = 0.5, lambda = 0.4014 )  6                             6                              6                       Motor_insurance_sweden1.hex"
      ]
     },
     "metadata": {},
     "output_type": "display_data"
    },
    {
     "name": "stdout",
     "output_type": "stream",
     "text": [
      "\n",
      "Coefficients: glm coefficients\n",
      "\n"
     ]
    },
    {
     "data": {
      "text/html": [
       "<div style=\"overflow:auto\"><table style=\"width:50%\"><tr><td><b>names</b></td>\n",
       "<td><b>coefficients</b></td>\n",
       "<td><b>standardized_coefficients</b></td></tr>\n",
       "<tr><td>Intercept</td>\n",
       "<td>2.6094420</td>\n",
       "<td>3.1632499</td></tr>\n",
       "<tr><td>Kilometres</td>\n",
       "<td>-0.2410513</td>\n",
       "<td>-0.3399808</td></tr>\n",
       "<tr><td>Zone</td>\n",
       "<td>-0.1176072</td>\n",
       "<td>-0.2339039</td></tr>\n",
       "<tr><td>Bonus</td>\n",
       "<td>0.1263855</td>\n",
       "<td>0.2528363</td></tr>\n",
       "<tr><td>Make</td>\n",
       "<td>0.2284745</td>\n",
       "<td>0.5910505</td></tr>\n",
       "<tr><td>Insured</td>\n",
       "<td>-0.0000542</td>\n",
       "<td>-0.3071161</td></tr>\n",
       "<tr><td>Payment</td>\n",
       "<td>0.0000006</td>\n",
       "<td>0.6007427</td></tr></table></div>"
      ],
      "text/plain": [
       "names       coefficients    standardized_coefficients\n",
       "----------  --------------  ---------------------------\n",
       "Intercept   2.60944         3.16325\n",
       "Kilometres  -0.241051       -0.339981\n",
       "Zone        -0.117607       -0.233904\n",
       "Bonus       0.126386        0.252836\n",
       "Make        0.228474        0.59105\n",
       "Insured     -5.42497e-05    -0.307116\n",
       "Payment     5.90537e-07     0.600743"
      ]
     },
     "metadata": {},
     "output_type": "display_data"
    },
    {
     "name": "stdout",
     "output_type": "stream",
     "text": [
      "\n",
      "None\n"
     ]
    }
   ],
   "source": [
    "import h2o\n",
    "from h2o.estimators.glm import H2OGeneralizedLinearEstimator\n",
    "\n",
    "h2o.init()\n",
    "\n",
    "poisson_fit = H2OGeneralizedLinearEstimator(family = 'poisson')\n",
    "poisson_fit.train(\n",
    "    y              = 'Claims'                                                                                                                 ,\n",
    "    x              = ['Payment', 'Insured', 'Kilometres', 'Zone', 'Bonus', 'Make']                                                            ,\n",
    "    training_frame = h2o.import_file('http://h2o-public-test-data.s3.amazonaws.com/smalldata/glm_test/Motor_insurance_sweden.txt', sep = '\\t')\n",
    "                 )\n",
    "\n",
    "print(poisson_fit.summary())\n",
    "print(poisson_fit.pprint_coef())"
   ]
  },
  {
   "cell_type": "markdown",
   "metadata": {},
   "source": [
    "### 6) Gamma Models"
   ]
  },
  {
   "cell_type": "markdown",
   "metadata": {},
   "source": [
    "The gamma distribution is useful for modeling a positive continuous response variable, where the conditional variance of the response grows with its mean but the coefficient of variation of the response is constant."
   ]
  },
  {
   "cell_type": "code",
   "execution_count": 2,
   "metadata": {},
   "outputs": [
    {
     "name": "stdout",
     "output_type": "stream",
     "text": [
      "Checking whether there is an H2O instance running at http://localhost:54321 . connected.\n"
     ]
    },
    {
     "data": {
      "text/html": [
       "<div style=\"overflow:auto\"><table style=\"width:50%\"><tr><td>H2O cluster uptime:</td>\n",
       "<td>13 secs</td></tr>\n",
       "<tr><td>H2O cluster timezone:</td>\n",
       "<td>UTC</td></tr>\n",
       "<tr><td>H2O data parsing timezone:</td>\n",
       "<td>UTC</td></tr>\n",
       "<tr><td>H2O cluster version:</td>\n",
       "<td>3.24.0.1</td></tr>\n",
       "<tr><td>H2O cluster version age:</td>\n",
       "<td>1 day </td></tr>\n",
       "<tr><td>H2O cluster name:</td>\n",
       "<td>H2O_from_python_ec2_user_m3ace9</td></tr>\n",
       "<tr><td>H2O cluster total nodes:</td>\n",
       "<td>1</td></tr>\n",
       "<tr><td>H2O cluster free memory:</td>\n",
       "<td>630 Mb</td></tr>\n",
       "<tr><td>H2O cluster total cores:</td>\n",
       "<td>1</td></tr>\n",
       "<tr><td>H2O cluster allowed cores:</td>\n",
       "<td>1</td></tr>\n",
       "<tr><td>H2O cluster status:</td>\n",
       "<td>locked, healthy</td></tr>\n",
       "<tr><td>H2O connection url:</td>\n",
       "<td>http://localhost:54321</td></tr>\n",
       "<tr><td>H2O connection proxy:</td>\n",
       "<td>None</td></tr>\n",
       "<tr><td>H2O internal security:</td>\n",
       "<td>False</td></tr>\n",
       "<tr><td>H2O API Extensions:</td>\n",
       "<td>AutoML, Amazon S3, XGBoost, Algos, Core V3, Core V4</td></tr>\n",
       "<tr><td>Python version:</td>\n",
       "<td>3.6.8 final</td></tr></table></div>"
      ],
      "text/plain": [
       "--------------------------  ---------------------------------------------------\n",
       "H2O cluster uptime:         13 secs\n",
       "H2O cluster timezone:       UTC\n",
       "H2O data parsing timezone:  UTC\n",
       "H2O cluster version:        3.24.0.1\n",
       "H2O cluster version age:    1 day\n",
       "H2O cluster name:           H2O_from_python_ec2_user_m3ace9\n",
       "H2O cluster total nodes:    1\n",
       "H2O cluster free memory:    630 Mb\n",
       "H2O cluster total cores:    1\n",
       "H2O cluster allowed cores:  1\n",
       "H2O cluster status:         locked, healthy\n",
       "H2O connection url:         http://localhost:54321\n",
       "H2O connection proxy:\n",
       "H2O internal security:      False\n",
       "H2O API Extensions:         AutoML, Amazon S3, XGBoost, Algos, Core V3, Core V4\n",
       "Python version:             3.6.8 final\n",
       "--------------------------  ---------------------------------------------------"
      ]
     },
     "metadata": {},
     "output_type": "display_data"
    },
    {
     "name": "stdout",
     "output_type": "stream",
     "text": [
      "Parse progress: |█████████████████████████████████████████████████████████| 100%\n",
      "glm Model Build progress: |███████████████████████████████████████████████| 100%\n",
      "GLM Model: summary\n",
      "\n"
     ]
    },
    {
     "data": {
      "text/html": [
       "<div style=\"overflow:auto\"><table style=\"width:50%\"><tr><td><b></b></td>\n",
       "<td><b>family</b></td>\n",
       "<td><b>link</b></td>\n",
       "<td><b>regularization</b></td>\n",
       "<td><b>number_of_predictors_total</b></td>\n",
       "<td><b>number_of_active_predictors</b></td>\n",
       "<td><b>number_of_iterations</b></td>\n",
       "<td><b>training_frame</b></td></tr>\n",
       "<tr><td></td>\n",
       "<td>gamma</td>\n",
       "<td>inverse</td>\n",
       "<td>Elastic Net (alpha = 0.5, lambda = 6.487E-4 )</td>\n",
       "<td>6</td>\n",
       "<td>6</td>\n",
       "<td>4</td>\n",
       "<td>prostate1.hex</td></tr></table></div>"
      ],
      "text/plain": [
       "    family    link     regularization                                 number_of_predictors_total    number_of_active_predictors    number_of_iterations    training_frame\n",
       "--  --------  -------  ---------------------------------------------  ----------------------------  -----------------------------  ----------------------  ----------------\n",
       "    gamma     inverse  Elastic Net (alpha = 0.5, lambda = 6.487E-4 )  6                             6                              4                       prostate1.hex"
      ]
     },
     "metadata": {},
     "output_type": "display_data"
    },
    {
     "name": "stdout",
     "output_type": "stream",
     "text": [
      "\n",
      "Coefficients: glm coefficients\n",
      "\n"
     ]
    },
    {
     "data": {
      "text/html": [
       "<div style=\"overflow:auto\"><table style=\"width:50%\"><tr><td><b>names</b></td>\n",
       "<td><b>coefficients</b></td>\n",
       "<td><b>standardized_coefficients</b></td></tr>\n",
       "<tr><td>Intercept</td>\n",
       "<td>0.5390240</td>\n",
       "<td>0.4514004</td></tr>\n",
       "<tr><td>CAPSULE</td>\n",
       "<td>-0.1005734</td>\n",
       "<td>-0.0493890</td></tr>\n",
       "<tr><td>AGE</td>\n",
       "<td>0.0010464</td>\n",
       "<td>0.0068299</td></tr>\n",
       "<tr><td>RACE</td>\n",
       "<td>-0.0296812</td>\n",
       "<td>-0.0091648</td></tr>\n",
       "<tr><td>DCAPS</td>\n",
       "<td>-0.0686619</td>\n",
       "<td>-0.0213303</td></tr>\n",
       "<tr><td>PSA</td>\n",
       "<td>-0.0006400</td>\n",
       "<td>-0.0127984</td></tr>\n",
       "<tr><td>VOL</td>\n",
       "<td>0.0001238</td>\n",
       "<td>0.0022710</td></tr></table></div>"
      ],
      "text/plain": [
       "names      coefficients    standardized_coefficients\n",
       "---------  --------------  ---------------------------\n",
       "Intercept  0.539024        0.4514\n",
       "CAPSULE    -0.100573       -0.049389\n",
       "AGE        0.0010464       0.00682993\n",
       "RACE       -0.0296812      -0.00916475\n",
       "DCAPS      -0.0686619      -0.0213303\n",
       "PSA        -0.000639999    -0.0127984\n",
       "VOL        0.000123775     0.00227097"
      ]
     },
     "metadata": {},
     "output_type": "display_data"
    },
    {
     "name": "stdout",
     "output_type": "stream",
     "text": [
      "\n",
      "None\n"
     ]
    }
   ],
   "source": [
    "import h2o\n",
    "from h2o.estimators.glm import H2OGeneralizedLinearEstimator\n",
    "\n",
    "h2o.init()\n",
    "\n",
    "gamma_inverse = H2OGeneralizedLinearEstimator(\n",
    "                                              family = 'gamma'  ,\n",
    "                                              link   = 'inverse'\n",
    "                                             )\n",
    "\n",
    "gamma_inverse.train(\n",
    "    y              = 'DPROS'                                                                                        ,\n",
    "    x              = ['AGE','RACE','CAPSULE','DCAPS','PSA','VOL']                                                   ,\n",
    "    training_frame = h2o.import_file('http://h2o-public-test-data.s3.amazonaws.com/smalldata/prostate/prostate.csv')\n",
    "                   )\n",
    "\n",
    "print(gamma_inverse.summary())\n",
    "print(gamma_inverse.pprint_coef())"
   ]
  },
  {
   "cell_type": "markdown",
   "metadata": {},
   "source": [
    "### 7) Tweedie Models"
   ]
  },
  {
   "cell_type": "markdown",
   "metadata": {},
   "source": [
    "Tweedie distributions are a family of distributions which include gamma, normal, Poisson and their combination. It is especially useful for modeling positive continuous variables with exact zeros."
   ]
  },
  {
   "cell_type": "code",
   "execution_count": 2,
   "metadata": {},
   "outputs": [
    {
     "name": "stdout",
     "output_type": "stream",
     "text": [
      "Checking whether there is an H2O instance running at http://localhost:54321 . connected.\n"
     ]
    },
    {
     "data": {
      "text/html": [
       "<div style=\"overflow:auto\"><table style=\"width:50%\"><tr><td>H2O cluster uptime:</td>\n",
       "<td>14 secs</td></tr>\n",
       "<tr><td>H2O cluster timezone:</td>\n",
       "<td>UTC</td></tr>\n",
       "<tr><td>H2O data parsing timezone:</td>\n",
       "<td>UTC</td></tr>\n",
       "<tr><td>H2O cluster version:</td>\n",
       "<td>3.24.0.1</td></tr>\n",
       "<tr><td>H2O cluster version age:</td>\n",
       "<td>1 day </td></tr>\n",
       "<tr><td>H2O cluster name:</td>\n",
       "<td>H2O_from_python_ec2_user_ji8bbm</td></tr>\n",
       "<tr><td>H2O cluster total nodes:</td>\n",
       "<td>1</td></tr>\n",
       "<tr><td>H2O cluster free memory:</td>\n",
       "<td>626 Mb</td></tr>\n",
       "<tr><td>H2O cluster total cores:</td>\n",
       "<td>1</td></tr>\n",
       "<tr><td>H2O cluster allowed cores:</td>\n",
       "<td>1</td></tr>\n",
       "<tr><td>H2O cluster status:</td>\n",
       "<td>locked, healthy</td></tr>\n",
       "<tr><td>H2O connection url:</td>\n",
       "<td>http://localhost:54321</td></tr>\n",
       "<tr><td>H2O connection proxy:</td>\n",
       "<td>None</td></tr>\n",
       "<tr><td>H2O internal security:</td>\n",
       "<td>False</td></tr>\n",
       "<tr><td>H2O API Extensions:</td>\n",
       "<td>AutoML, Amazon S3, XGBoost, Algos, Core V3, Core V4</td></tr>\n",
       "<tr><td>Python version:</td>\n",
       "<td>3.6.8 final</td></tr></table></div>"
      ],
      "text/plain": [
       "--------------------------  ---------------------------------------------------\n",
       "H2O cluster uptime:         14 secs\n",
       "H2O cluster timezone:       UTC\n",
       "H2O data parsing timezone:  UTC\n",
       "H2O cluster version:        3.24.0.1\n",
       "H2O cluster version age:    1 day\n",
       "H2O cluster name:           H2O_from_python_ec2_user_ji8bbm\n",
       "H2O cluster total nodes:    1\n",
       "H2O cluster free memory:    626 Mb\n",
       "H2O cluster total cores:    1\n",
       "H2O cluster allowed cores:  1\n",
       "H2O cluster status:         locked, healthy\n",
       "H2O connection url:         http://localhost:54321\n",
       "H2O connection proxy:\n",
       "H2O internal security:      False\n",
       "H2O API Extensions:         AutoML, Amazon S3, XGBoost, Algos, Core V3, Core V4\n",
       "Python version:             3.6.8 final\n",
       "--------------------------  ---------------------------------------------------"
      ]
     },
     "metadata": {},
     "output_type": "display_data"
    },
    {
     "name": "stdout",
     "output_type": "stream",
     "text": [
      "Parse progress: |█████████████████████████████████████████████████████████| 100%\n",
      "glm Model Build progress: |███████████████████████████████████████████████| 100%\n",
      "GLM Model: summary\n",
      "\n"
     ]
    },
    {
     "data": {
      "text/html": [
       "<div style=\"overflow:auto\"><table style=\"width:50%\"><tr><td><b></b></td>\n",
       "<td><b>family</b></td>\n",
       "<td><b>link</b></td>\n",
       "<td><b>regularization</b></td>\n",
       "<td><b>number_of_predictors_total</b></td>\n",
       "<td><b>number_of_active_predictors</b></td>\n",
       "<td><b>number_of_iterations</b></td>\n",
       "<td><b>training_frame</b></td></tr>\n",
       "<tr><td></td>\n",
       "<td>tweedie</td>\n",
       "<td>tweedie</td>\n",
       "<td>Elastic Net (alpha = 0.5, lambda = 0.00707 )</td>\n",
       "<td>56</td>\n",
       "<td>52</td>\n",
       "<td>4</td>\n",
       "<td>auto1.hex</td></tr></table></div>"
      ],
      "text/plain": [
       "    family    link     regularization                                number_of_predictors_total    number_of_active_predictors    number_of_iterations    training_frame\n",
       "--  --------  -------  --------------------------------------------  ----------------------------  -----------------------------  ----------------------  ----------------\n",
       "    tweedie   tweedie  Elastic Net (alpha = 0.5, lambda = 0.00707 )  56                            52                             4                       auto1.hex"
      ]
     },
     "metadata": {},
     "output_type": "display_data"
    },
    {
     "name": "stdout",
     "output_type": "stream",
     "text": [
      "\n",
      "Coefficients: glm coefficients\n",
      "\n"
     ]
    },
    {
     "data": {
      "text/html": [
       "<div style=\"overflow:auto\"><table style=\"width:50%\"><tr><td><b>names</b></td>\n",
       "<td><b>coefficients</b></td>\n",
       "<td><b>standardized_coefficients</b></td></tr>\n",
       "<tr><td>Intercept</td>\n",
       "<td>0.8630572</td>\n",
       "<td>4.1122710</td></tr>\n",
       "<tr><td>x.CAR_TYPE_2</td>\n",
       "<td>0.1890505</td>\n",
       "<td>0.0710238</td></tr>\n",
       "<tr><td>x.CAR_TYPE_3</td>\n",
       "<td>0.2268325</td>\n",
       "<td>0.1022431</td></tr>\n",
       "<tr><td>x.CAR_TYPE_4</td>\n",
       "<td>1.0188265</td>\n",
       "<td>0.3309518</td></tr>\n",
       "<tr><td>x.CAR_TYPE_5</td>\n",
       "<td>-0.1474098</td>\n",
       "<td>-0.0669135</td></tr>\n",
       "<tr><td>---</td>\n",
       "<td>---</td>\n",
       "<td>---</td></tr>\n",
       "<tr><td>x.REVOLKED</td>\n",
       "<td>9.6221932</td>\n",
       "<td>3.3154871</td></tr>\n",
       "<tr><td>x.GENDER</td>\n",
       "<td>-0.3596848</td>\n",
       "<td>-0.1789804</td></tr>\n",
       "<tr><td>x.MARRIED</td>\n",
       "<td>-0.3070563</td>\n",
       "<td>-0.1498012</td></tr>\n",
       "<tr><td>x.PARENT1</td>\n",
       "<td>-0.3248995</td>\n",
       "<td>-0.1100975</td></tr>\n",
       "<tr><td>x.AREA</td>\n",
       "<td>1.5708908</td>\n",
       "<td>0.6429057</td></tr></table></div>"
      ],
      "text/plain": [
       "names         coefficients          standardized_coefficients\n",
       "------------  --------------------  ---------------------------\n",
       "Intercept     0.863057175461857     4.112270981507824\n",
       "x.CAR_TYPE_2  0.18905049521245895   0.071023833979536\n",
       "x.CAR_TYPE_3  0.226832528466436     0.10224308352111247\n",
       "x.CAR_TYPE_4  1.018826471236941     0.33095175725745574\n",
       "x.CAR_TYPE_5  -0.1474097920656864   -0.06691347744841517\n",
       "---           ---                   ---\n",
       "x.REVOLKED    9.622193199807047     3.315487124269613\n",
       "x.GENDER      -0.3596847696042598   -0.1789804374487452\n",
       "x.MARRIED     -0.30705634349378996  -0.14980122641454366\n",
       "x.PARENT1     -0.3248995266338046   -0.11009748053867022\n",
       "x.AREA        1.5708907724602093    0.6429057468994459"
      ]
     },
     "metadata": {},
     "output_type": "display_data"
    },
    {
     "name": "stdout",
     "output_type": "stream",
     "text": [
      "\n",
      "See the whole table with table.as_data_frame()\n",
      "\n",
      "None\n"
     ]
    }
   ],
   "source": [
    "import h2o\n",
    "from h2o.estimators.glm import H2OGeneralizedLinearEstimator\n",
    "\n",
    "h2o.init()\n",
    "\n",
    "h2o_df = h2o.import_file('http://h2o-public-test-data.s3.amazonaws.com/smalldata/glm_test/auto.csv')\n",
    "\n",
    "tweedie_fit = H2OGeneralizedLinearEstimator(family = 'tweedie')\n",
    "tweedie_fit.train(\n",
    "                  y              = 'y'                 ,\n",
    "                  x              = h2o_df.col_names[1:],\n",
    "                  training_frame = h2o_df\n",
    "                 )\n",
    "\n",
    "print(tweedie_fit.summary())\n",
    "print(tweedie_fit.pprint_coef())"
   ]
  },
  {
   "cell_type": "markdown",
   "metadata": {},
   "source": [
    "### 8) Negative Binomial Models"
   ]
  },
  {
   "cell_type": "markdown",
   "metadata": {},
   "source": [
    "Negative binomial regression is a generalization of Poisson regression that loosens the restrictive assumption that the variance is equal to the mean. Instead, the variance of negative binomial is a function of its mean and the dispersion parameter."
   ]
  },
  {
   "cell_type": "code",
   "execution_count": 2,
   "metadata": {},
   "outputs": [
    {
     "name": "stdout",
     "output_type": "stream",
     "text": [
      "Checking whether there is an H2O instance running at http://localhost:54321 . connected.\n"
     ]
    },
    {
     "data": {
      "text/html": [
       "<div style=\"overflow:auto\"><table style=\"width:50%\"><tr><td>H2O cluster uptime:</td>\n",
       "<td>12 secs</td></tr>\n",
       "<tr><td>H2O cluster timezone:</td>\n",
       "<td>UTC</td></tr>\n",
       "<tr><td>H2O data parsing timezone:</td>\n",
       "<td>UTC</td></tr>\n",
       "<tr><td>H2O cluster version:</td>\n",
       "<td>3.24.0.1</td></tr>\n",
       "<tr><td>H2O cluster version age:</td>\n",
       "<td>1 day </td></tr>\n",
       "<tr><td>H2O cluster name:</td>\n",
       "<td>H2O_from_python_ec2_user_3ukodo</td></tr>\n",
       "<tr><td>H2O cluster total nodes:</td>\n",
       "<td>1</td></tr>\n",
       "<tr><td>H2O cluster free memory:</td>\n",
       "<td>630 Mb</td></tr>\n",
       "<tr><td>H2O cluster total cores:</td>\n",
       "<td>1</td></tr>\n",
       "<tr><td>H2O cluster allowed cores:</td>\n",
       "<td>1</td></tr>\n",
       "<tr><td>H2O cluster status:</td>\n",
       "<td>locked, healthy</td></tr>\n",
       "<tr><td>H2O connection url:</td>\n",
       "<td>http://localhost:54321</td></tr>\n",
       "<tr><td>H2O connection proxy:</td>\n",
       "<td>None</td></tr>\n",
       "<tr><td>H2O internal security:</td>\n",
       "<td>False</td></tr>\n",
       "<tr><td>H2O API Extensions:</td>\n",
       "<td>AutoML, Amazon S3, XGBoost, Algos, Core V3, Core V4</td></tr>\n",
       "<tr><td>Python version:</td>\n",
       "<td>3.6.8 final</td></tr></table></div>"
      ],
      "text/plain": [
       "--------------------------  ---------------------------------------------------\n",
       "H2O cluster uptime:         12 secs\n",
       "H2O cluster timezone:       UTC\n",
       "H2O data parsing timezone:  UTC\n",
       "H2O cluster version:        3.24.0.1\n",
       "H2O cluster version age:    1 day\n",
       "H2O cluster name:           H2O_from_python_ec2_user_3ukodo\n",
       "H2O cluster total nodes:    1\n",
       "H2O cluster free memory:    630 Mb\n",
       "H2O cluster total cores:    1\n",
       "H2O cluster allowed cores:  1\n",
       "H2O cluster status:         locked, healthy\n",
       "H2O connection url:         http://localhost:54321\n",
       "H2O connection proxy:\n",
       "H2O internal security:      False\n",
       "H2O API Extensions:         AutoML, Amazon S3, XGBoost, Algos, Core V3, Core V4\n",
       "Python version:             3.6.8 final\n",
       "--------------------------  ---------------------------------------------------"
      ]
     },
     "metadata": {},
     "output_type": "display_data"
    },
    {
     "name": "stdout",
     "output_type": "stream",
     "text": [
      "Parse progress: |█████████████████████████████████████████████████████████| 100%\n",
      "glm Model Build progress: |███████████████████████████████████████████████| 100%\n",
      "GLM Model: summary\n",
      "\n"
     ]
    },
    {
     "data": {
      "text/html": [
       "<div style=\"overflow:auto\"><table style=\"width:50%\"><tr><td><b></b></td>\n",
       "<td><b>family</b></td>\n",
       "<td><b>link</b></td>\n",
       "<td><b>regularization</b></td>\n",
       "<td><b>number_of_predictors_total</b></td>\n",
       "<td><b>number_of_active_predictors</b></td>\n",
       "<td><b>number_of_iterations</b></td>\n",
       "<td><b>training_frame</b></td></tr>\n",
       "<tr><td></td>\n",
       "<td>negativebinomial</td>\n",
       "<td>identity</td>\n",
       "<td>Elastic Net (alpha = 0.5, lambda = 2.873E-4 )</td>\n",
       "<td>6</td>\n",
       "<td>0</td>\n",
       "<td>0</td>\n",
       "<td>Motor_insurance_sweden1.hex</td></tr></table></div>"
      ],
      "text/plain": [
       "    family            link      regularization                                 number_of_predictors_total    number_of_active_predictors    number_of_iterations    training_frame\n",
       "--  ----------------  --------  ---------------------------------------------  ----------------------------  -----------------------------  ----------------------  ---------------------------\n",
       "    negativebinomial  identity  Elastic Net (alpha = 0.5, lambda = 2.873E-4 )  6                             0                              0                       Motor_insurance_sweden1.hex"
      ]
     },
     "metadata": {},
     "output_type": "display_data"
    },
    {
     "name": "stdout",
     "output_type": "stream",
     "text": [
      "\n",
      "Coefficients: glm coefficients\n",
      "\n"
     ]
    },
    {
     "data": {
      "text/html": [
       "<div style=\"overflow:auto\"><table style=\"width:50%\"><tr><td><b>names</b></td>\n",
       "<td><b>coefficients</b></td>\n",
       "<td><b>standardized_coefficients</b></td></tr>\n",
       "<tr><td>Intercept</td>\n",
       "<td>51.8657195</td>\n",
       "<td>51.8657195</td></tr>\n",
       "<tr><td>Kilometres</td>\n",
       "<td>0.0</td>\n",
       "<td>0.0</td></tr>\n",
       "<tr><td>Zone</td>\n",
       "<td>0.0</td>\n",
       "<td>0.0</td></tr>\n",
       "<tr><td>Bonus</td>\n",
       "<td>0.0</td>\n",
       "<td>0.0</td></tr>\n",
       "<tr><td>Make</td>\n",
       "<td>0.0</td>\n",
       "<td>0.0</td></tr>\n",
       "<tr><td>Insured</td>\n",
       "<td>0.0</td>\n",
       "<td>0.0</td></tr>\n",
       "<tr><td>Payment</td>\n",
       "<td>0.0</td>\n",
       "<td>0.0</td></tr></table></div>"
      ],
      "text/plain": [
       "names       coefficients    standardized_coefficients\n",
       "----------  --------------  ---------------------------\n",
       "Intercept   51.8657         51.8657\n",
       "Kilometres  0               0\n",
       "Zone        0               0\n",
       "Bonus       0               0\n",
       "Make        0               0\n",
       "Insured     0               0\n",
       "Payment     0               0"
      ]
     },
     "metadata": {},
     "output_type": "display_data"
    },
    {
     "name": "stdout",
     "output_type": "stream",
     "text": [
      "\n",
      "None\n"
     ]
    }
   ],
   "source": [
    "import h2o\n",
    "from h2o.estimators.glm import H2OGeneralizedLinearEstimator\n",
    "\n",
    "h2o.init()\n",
    "\n",
    "negativebinomial_fit = H2OGeneralizedLinearEstimator(\n",
    "                                                     family = 'negativebinomial',\n",
    "                                                     link   = 'identity'        ,\n",
    "                                                     theta  = 0.5\n",
    "                                                    )\n",
    "\n",
    "negativebinomial_fit.train(\n",
    "    x              = ['Payment', 'Insured', 'Kilometres', 'Zone', 'Bonus', 'Make']                                                ,\n",
    "    y              = 'Claims'                                                                                                     ,\n",
    "    training_frame = h2o.import_file('http://h2o-public-test-data.s3.amazonaws.com/smalldata/glm_test/Motor_insurance_sweden.txt')\n",
    "                          )\n",
    "\n",
    "print(negativebinomial_fit.summary())\n",
    "print(negativebinomial_fit.pprint_coef())"
   ]
  },
  {
   "cell_type": "code",
   "execution_count": null,
   "metadata": {},
   "outputs": [],
   "source": []
  }
 ],
 "metadata": {
  "kernelspec": {
   "display_name": "Python 3",
   "language": "python",
   "name": "python3"
  },
  "language_info": {
   "codemirror_mode": {
    "name": "ipython",
    "version": 3
   },
   "file_extension": ".py",
   "mimetype": "text/x-python",
   "name": "python",
   "nbconvert_exporter": "python",
   "pygments_lexer": "ipython3",
   "version": "3.6.8"
  }
 },
 "nbformat": 4,
 "nbformat_minor": 2
}
