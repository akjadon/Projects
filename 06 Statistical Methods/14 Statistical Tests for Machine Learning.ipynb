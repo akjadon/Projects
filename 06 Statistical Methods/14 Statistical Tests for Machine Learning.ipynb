{
 "cells": [
  {
   "cell_type": "markdown",
   "metadata": {},
   "source": [
    "### t2.micro, AWS Marketplace -> Anaconda with Python 3"
   ]
  },
  {
   "cell_type": "markdown",
   "metadata": {},
   "source": [
    "Although there are hundreds of statistical hypothesis tests that you could use, there is only a small subset that you may need to use in a machine learning project.\n",
    "\n",
    "Note, when it comes to assumptions such as the expected distribution of data or sample size, the results of a given test are likely to degrade gracefully rather than become immediately unusable if an assumption is violated.\n",
    "\n",
    "Generally, data samples need to be representative of the domain and large enough to expose their distribution to analysis.\n",
    "\n",
    "In some cases, the data can be corrected to meet the assumptions, such as correcting a nearly normal distribution to be normal by removing outliers, or using a correction to the degrees of freedom in a statistical test when samples have differing variance.\n",
    "\n",
    "Finally, there may be multiple tests for a given concern, e.g. normality. We cannot get crisp answers to questions with statistics; instead, we get probabilistic answers. As such, we can arrive at different answers to the same question by considering the question in different ways. Hence the need for multiple tests for some questions we may have about data."
   ]
  },
  {
   "cell_type": "markdown",
   "metadata": {},
   "source": [
    "### 1) Shapiro-Wilk (Normality)"
   ]
  },
  {
   "cell_type": "markdown",
   "metadata": {},
   "source": [
    "Tests whether a data sample has a Gaussian distribution.\n",
    "\n",
    "<b>Assumptions:</b>\n",
    "\n",
    "Observations in each sample are independent and identically distributed (IID).\n",
    "\n",
    "<b>Interpretation:</b>\n",
    "\n",
    "<b>H0:</b> the sample has a Gaussian distribution.<br>\n",
    "<b>H1:</b> the sample does not have a Gaussian distribution."
   ]
  },
  {
   "cell_type": "code",
   "execution_count": 1,
   "metadata": {},
   "outputs": [
    {
     "data": {
      "text/plain": [
       "(0.9899657964706421, 0.6618269681930542)"
      ]
     },
     "execution_count": 1,
     "metadata": {},
     "output_type": "execute_result"
    }
   ],
   "source": [
    "from scipy import stats\n",
    "\n",
    "stats.shapiro(\n",
    "              stats.norm.rvs(loc=5, scale=3, size=100)\n",
    "             )"
   ]
  },
  {
   "cell_type": "markdown",
   "metadata": {},
   "source": [
    "### 2) D’Agostino’s K^2 (Normality)"
   ]
  },
  {
   "cell_type": "markdown",
   "metadata": {},
   "source": [
    "Tests whether a data sample has a Gaussian distribution.\n",
    "\n",
    "<b>Assumptions:</b>\n",
    "\n",
    "Observations in each sample are independent and identically distributed (IID).\n",
    "\n",
    "<b>Interpretation:</b>\n",
    "\n",
    "<b>H0:</b> the sample has a Gaussian distribution.<br>\n",
    "<b>H1:</b> the sample does not have a Gaussian distribution."
   ]
  },
  {
   "cell_type": "code",
   "execution_count": 2,
   "metadata": {},
   "outputs": [
    {
     "name": "stdout",
     "output_type": "stream",
     "text": [
      "p = 3.61427e-12\n",
      "The null hypothesis can be rejected\n"
     ]
    }
   ],
   "source": [
    "import numpy as np\n",
    "from scipy import stats\n",
    "\n",
    "k2, p = stats.normaltest(\n",
    "                         np.concatenate((\n",
    "                                         np.random.normal(0, 1, size=1000),\n",
    "                                         np.random.normal(2, 1, size=1000)\n",
    "                                       ))\n",
    "                        )\n",
    "\n",
    "print('p = {:g}'.format(p))\n",
    "\n",
    "alpha = 1e-3\n",
    "if p < alpha:  # null hypothesis: x comes from a normal distribution\n",
    "    print('The null hypothesis can be rejected')\n",
    "else:\n",
    "    print('The null hypothesis cannot be rejected')"
   ]
  },
  {
   "cell_type": "markdown",
   "metadata": {},
   "source": [
    "### 3) Anderson-Darling (Normality)"
   ]
  },
  {
   "cell_type": "markdown",
   "metadata": {},
   "source": [
    "Tests whether a data sample has a Gaussian distribution.\n",
    "\n",
    "<b>Assumptions:</b>\n",
    "\n",
    "Observations in each sample are independent and identically distributed (IID).\n",
    "\n",
    "<b>Interpretation:</b>\n",
    "\n",
    "<b>H0:</b> the sample has a Gaussian distribution.<br>\n",
    "<b>H1:</b> the sample does not have a Gaussian distribution."
   ]
  },
  {
   "cell_type": "code",
   "execution_count": 3,
   "metadata": {},
   "outputs": [
    {
     "data": {
      "text/plain": [
       "AndersonResult(statistic=0.2765968022971208, critical_values=array([0.555, 0.632, 0.759, 0.885, 1.053]), significance_level=array([15. , 10. ,  5. ,  2.5,  1. ]))"
      ]
     },
     "execution_count": 3,
     "metadata": {},
     "output_type": "execute_result"
    }
   ],
   "source": [
    "from scipy import stats\n",
    "\n",
    "stats.anderson(\n",
    "               stats.norm.rvs(loc=5, scale=3, size=100)\n",
    "              )"
   ]
  },
  {
   "cell_type": "markdown",
   "metadata": {},
   "source": [
    "### 4) Pearson’s Coefficient (Correlation)"
   ]
  },
  {
   "cell_type": "markdown",
   "metadata": {},
   "source": [
    "Tests whether two samples have a linear relationship.\n",
    "\n",
    "<b>Assumptions:</b>\n",
    "\n",
    "Observations in each sample are independent and identically distributed (IID).<br>\n",
    "Observations in each sample are normally distributed.<br>\n",
    "Observations in each sample have the same variance.\n",
    "\n",
    "<b>Interpretation:</b>\n",
    "\n",
    "<b>H0:</b> the two samples are independent.<br>\n",
    "<b>H1:</b> there is a dependency between the samples."
   ]
  },
  {
   "cell_type": "code",
   "execution_count": 4,
   "metadata": {},
   "outputs": [
    {
     "data": {
      "text/plain": [
       "(0.8660254037844386, 0.011724811003954654)"
      ]
     },
     "execution_count": 4,
     "metadata": {},
     "output_type": "execute_result"
    }
   ],
   "source": [
    "import numpy as np\n",
    "from scipy import stats\n",
    "\n",
    "stats.pearsonr(\n",
    "               np.array([0, 0, 0, 1, 1, 1, 1]),\n",
    "               np.arange(7)\n",
    "              )"
   ]
  },
  {
   "cell_type": "markdown",
   "metadata": {},
   "source": [
    "### 5) Spearman’s Rank (Correlation)"
   ]
  },
  {
   "cell_type": "markdown",
   "metadata": {},
   "source": [
    "Tests whether two samples have a monotonic relationship.\n",
    "\n",
    "<b>Assumptions:</b>\n",
    "\n",
    "Observations in each sample are independent and identically distributed (IID).<br>\n",
    "Observations in each sample can be ranked.\n",
    "\n",
    "<b>Interpretation:</b>\n",
    "\n",
    "<b>H0:</b> the two samples are independent.<br>\n",
    "<b>H1:</b> there is a dependency between the samples."
   ]
  },
  {
   "cell_type": "code",
   "execution_count": 5,
   "metadata": {},
   "outputs": [
    {
     "data": {
      "text/plain": [
       "SpearmanrResult(correlation=0.8207826816681233, pvalue=0.08858700531354381)"
      ]
     },
     "execution_count": 5,
     "metadata": {},
     "output_type": "execute_result"
    }
   ],
   "source": [
    "from scipy import stats\n",
    "\n",
    "stats.spearmanr(\n",
    "                [1,2,3,4,5],\n",
    "                [5,6,7,8,7]\n",
    "               )"
   ]
  },
  {
   "cell_type": "markdown",
   "metadata": {},
   "source": [
    "### 6) Kendall’s Rank (Correlation)"
   ]
  },
  {
   "cell_type": "markdown",
   "metadata": {},
   "source": [
    "Tests whether two samples have a monotonic relationship.\n",
    "\n",
    "<b>Assumptions:</b>\n",
    "\n",
    "Observations in each sample are independent and identically distributed (IID).<br>\n",
    "Observations in each sample can be ranked.<br>\n",
    "\n",
    "<b>Interpretation:</b>\n",
    "\n",
    "<b>H0:</b> the two samples are independent.<br>\n",
    "<b>H1:</b> there is a dependency between the samples."
   ]
  },
  {
   "cell_type": "code",
   "execution_count": 6,
   "metadata": {},
   "outputs": [
    {
     "data": {
      "text/plain": [
       "KendalltauResult(correlation=-0.4714045207910316, pvalue=0.2827454599327748)"
      ]
     },
     "execution_count": 6,
     "metadata": {},
     "output_type": "execute_result"
    }
   ],
   "source": [
    "from scipy import stats\n",
    "\n",
    "stats.kendalltau(\n",
    "                 [12, 2, 1, 12, 2],\n",
    "                 [1, 4, 7, 1, 0]\n",
    "                )"
   ]
  },
  {
   "cell_type": "markdown",
   "metadata": {},
   "source": [
    "### 7) Chi-Squared (Correlation)"
   ]
  },
  {
   "cell_type": "markdown",
   "metadata": {},
   "source": [
    "Tests whether two categorical variables are related or independent.\n",
    "\n",
    "<b>Assumptions:</b>\n",
    "\n",
    "Observations used in the calculation of the contingency table are independent.<br>\n",
    "25 or more examples in each cell of the contingency table.\n",
    "\n",
    "<b>Interpretation:</b>\n",
    "\n",
    "<b>H0:</b> the two samples are independent.<br>\n",
    "<b>H1:</b> there is a dependency between the samples."
   ]
  },
  {
   "cell_type": "code",
   "execution_count": 7,
   "metadata": {},
   "outputs": [
    {
     "data": {
      "text/plain": [
       "(2.7777777777777777, 0.24935220877729622, 2, array([[12., 12., 16.],\n",
       "        [18., 18., 24.]]))"
      ]
     },
     "execution_count": 7,
     "metadata": {},
     "output_type": "execute_result"
    }
   ],
   "source": [
    "import numpy as np\n",
    "from scipy.stats import chi2_contingency\n",
    "\n",
    "chi2_contingency(\n",
    "                 np.array([[10, 10, 20], [20, 20, 20]])\n",
    "                )"
   ]
  },
  {
   "cell_type": "markdown",
   "metadata": {},
   "source": [
    "### 8) Student’s t (Parametric)"
   ]
  },
  {
   "cell_type": "markdown",
   "metadata": {},
   "source": [
    "Tests whether the means of two independent samples are significantly different.\n",
    "\n",
    "<b>Assumptions:</b>\n",
    "\n",
    "Observations in each sample are independent and identically distributed (IID).<br>\n",
    "Observations in each sample are normally distributed.<br>\n",
    "Observations in each sample have the same variance.\n",
    "\n",
    "<b>Interpretation:</b>\n",
    "\n",
    "<b>H0:</b> the means of the samples are equal.<br>\n",
    "<b>H1:</b> the means of the samples are unequal."
   ]
  },
  {
   "cell_type": "code",
   "execution_count": 8,
   "metadata": {},
   "outputs": [
    {
     "data": {
      "text/plain": [
       "Ttest_indResult(statistic=-2.1782521980565073, pvalue=0.02962074232246727)"
      ]
     },
     "execution_count": 8,
     "metadata": {},
     "output_type": "execute_result"
    }
   ],
   "source": [
    "from scipy import stats\n",
    "\n",
    "stats.ttest_ind(\n",
    "                stats.norm.rvs(loc=5,scale=10,size=500),\n",
    "                stats.norm.rvs(loc=5,scale=10,size=500)\n",
    "               )"
   ]
  },
  {
   "cell_type": "markdown",
   "metadata": {},
   "source": [
    "### 9) Paired Student’s t (Parametric)"
   ]
  },
  {
   "cell_type": "markdown",
   "metadata": {},
   "source": [
    "Tests whether the means of two paired samples are significantly different.\n",
    "\n",
    "<b>Assumptions:</b>\n",
    "\n",
    "Observations in each sample are independent and identically distributed (IID).<br>\n",
    "Observations in each sample are normally distributed.<br>\n",
    "Observations in each sample have the same variance.<br>\n",
    "Observations across each sample are paired.\n",
    "\n",
    "<b>Interpretation:</b>\n",
    "\n",
    "<b>H0:</b> the means of the samples are equal.<br>\n",
    "<b>H1:</b> the means of the samples are unequal."
   ]
  },
  {
   "cell_type": "code",
   "execution_count": 9,
   "metadata": {},
   "outputs": [
    {
     "data": {
      "text/plain": [
       "Ttest_relResult(statistic=0.13447592064180153, pvalue=0.8930804720165942)"
      ]
     },
     "execution_count": 9,
     "metadata": {},
     "output_type": "execute_result"
    }
   ],
   "source": [
    "from scipy import stats\n",
    "\n",
    "stats.ttest_rel(\n",
    "                stats.norm.rvs(loc=5,scale=10,size=500),\n",
    "                (stats.norm.rvs(loc=5,scale=10,size=500) + stats.norm.rvs(scale=0.2,size=500))\n",
    "               )"
   ]
  },
  {
   "cell_type": "markdown",
   "metadata": {},
   "source": [
    "### 10) Analysis of Variance or ANOVA (Parametric)"
   ]
  },
  {
   "cell_type": "markdown",
   "metadata": {},
   "source": [
    "Tests whether the means of two or more independent samples are significantly different.\n",
    "\n",
    "<b>Assumptions:</b>\n",
    "\n",
    "Observations in each sample are independent and identically distributed (IID).<br>\n",
    "Observations in each sample are normally distributed.<br>\n",
    "Observations in each sample have the same variance.\n",
    "\n",
    "<b>Interpretation:</b>\n",
    "\n",
    "<b>H0:</b> the means of the samples are equal.<br>\n",
    "<b>H1:</b> one or more of the means of the samples are unequal."
   ]
  },
  {
   "cell_type": "code",
   "execution_count": 10,
   "metadata": {},
   "outputs": [
    {
     "data": {
      "text/plain": [
       "F_onewayResult(statistic=7.121019471642447, pvalue=0.0002812242314534544)"
      ]
     },
     "execution_count": 10,
     "metadata": {},
     "output_type": "execute_result"
    }
   ],
   "source": [
    "import scipy.stats as stats\n",
    "\n",
    "stats.f_oneway(\n",
    "               [0.0571, 0.0813, 0.0831, 0.0976, 0.0817, 0.0859, 0.0735, 0.0659, 0.0923, 0.0836],\n",
    "               [0.0873, 0.0662, 0.0672, 0.0819, 0.0749, 0.0649, 0.0835, 0.0725]                ,\n",
    "               [0.0974, 0.1352, 0.0817, 0.1016, 0.0968, 0.1064, 0.105]                         ,\n",
    "               [0.1033, 0.0915, 0.0781, 0.0685, 0.0677, 0.0697, 0.0764, 0.0689]                ,\n",
    "               [0.0703, 0.1026, 0.0956, 0.0973, 0.1039, 0.1045]\n",
    "              )"
   ]
  },
  {
   "cell_type": "markdown",
   "metadata": {},
   "source": [
    "### 11) Mann-Whitney U (Nonparametric)"
   ]
  },
  {
   "cell_type": "markdown",
   "metadata": {},
   "source": [
    "Tests whether the distributions of two independent samples are equal or not.\n",
    "\n",
    "<b>Assumptions:</b>\n",
    "\n",
    "Observations in each sample are independent and identically distributed (IID).<br>\n",
    "Observations in each sample can be ranked.\n",
    "\n",
    "<b>Interpretation:</b>\n",
    "\n",
    "<b>H0:</b> the distributions of both samples are equal.<br>\n",
    "<b>H1:</b> the distributions of both samples are not equal."
   ]
  },
  {
   "cell_type": "code",
   "execution_count": 11,
   "metadata": {},
   "outputs": [
    {
     "data": {
      "text/plain": [
       "MannwhitneyuResult(statistic=120860.0, pvalue=0.1823446553487712)"
      ]
     },
     "execution_count": 11,
     "metadata": {},
     "output_type": "execute_result"
    }
   ],
   "source": [
    "from scipy import stats\n",
    "\n",
    "stats.mannwhitneyu(\n",
    "                   stats.norm.rvs(loc=5,scale=10,size=500),\n",
    "                   (stats.norm.rvs(loc=5,scale=10,size=500) + stats.norm.rvs(scale=0.2,size=500))\n",
    "                  )"
   ]
  },
  {
   "cell_type": "markdown",
   "metadata": {},
   "source": [
    "### 12) Wilcoxon Signed-Rank (Nonparametric)"
   ]
  },
  {
   "cell_type": "markdown",
   "metadata": {},
   "source": [
    "Tests whether the distributions of two paired samples are equal or not.\n",
    "\n",
    "<b>Assumptions</b>\n",
    "\n",
    "Observations in each sample are independent and identically distributed (IID).<br>\n",
    "Observations in each sample can be ranked.<br>\n",
    "Observations across each sample are paired.\n",
    "\n",
    "<b>Interpretation:</b>\n",
    "\n",
    "<b>H0:</b> the distributions of both samples are equal.<br>\n",
    "<b>H1:</b> the distributions of both samples are not equal."
   ]
  },
  {
   "cell_type": "code",
   "execution_count": 12,
   "metadata": {},
   "outputs": [
    {
     "data": {
      "text/plain": [
       "WilcoxonResult(statistic=60064.0, pvalue=0.4281808375651276)"
      ]
     },
     "execution_count": 12,
     "metadata": {},
     "output_type": "execute_result"
    }
   ],
   "source": [
    "from scipy import stats\n",
    "\n",
    "stats.wilcoxon(\n",
    "               stats.norm.rvs(loc=5,scale=10,size=500),\n",
    "               (stats.norm.rvs(loc=5,scale=10,size=500) + stats.norm.rvs(scale=0.2,size=500))\n",
    "              )"
   ]
  },
  {
   "cell_type": "markdown",
   "metadata": {},
   "source": [
    "### 13) Kruskal-Wallis H (Nonparametric)"
   ]
  },
  {
   "cell_type": "markdown",
   "metadata": {},
   "source": [
    "Tests whether the distributions of two or more independent samples are equal or not.\n",
    "\n",
    "<b>Assumptions:</b>\n",
    "\n",
    "Observations in each sample are independent and identically distributed (IID).<br>\n",
    "Observations in each sample can be ranked.\n",
    "\n",
    "<b>Interpretation:</b>\n",
    "\n",
    "<b>H0:</b> the distributions of all samples are equal.<br>\n",
    "<b>H1:</b> the distributions of one or more samples are not equal."
   ]
  },
  {
   "cell_type": "code",
   "execution_count": 13,
   "metadata": {},
   "outputs": [
    {
     "data": {
      "text/plain": [
       "KruskalResult(statistic=0.2727272727272734, pvalue=0.6015081344405895)"
      ]
     },
     "execution_count": 13,
     "metadata": {},
     "output_type": "execute_result"
    }
   ],
   "source": [
    "from scipy import stats\n",
    "\n",
    "stats.kruskal(\n",
    "              [1, 3, 5, 7, 9],\n",
    "              [2, 4, 6, 8, 10]\n",
    "             )"
   ]
  },
  {
   "cell_type": "markdown",
   "metadata": {},
   "source": [
    "### 14) Friedman (Nonparametric)"
   ]
  },
  {
   "cell_type": "markdown",
   "metadata": {},
   "source": [
    "Tests whether the distributions of two or more paired samples are equal or not.\n",
    "\n",
    "<b>Assumptions:</b>\n",
    "\n",
    "Observations in each sample are independent and identically distributed (IID).<br>\n",
    "Observations in each sample can be ranked.<br>\n",
    "Observations across each sample are paired.\n",
    "\n",
    "<b>Interpretation:</b>\n",
    "\n",
    "<b>H0:</b> the distributions of all samples are equal.<br>\n",
    "<b>H1:</b> the distributions of one or more samples are not equal."
   ]
  },
  {
   "cell_type": "code",
   "execution_count": 14,
   "metadata": {},
   "outputs": [
    {
     "data": {
      "text/plain": [
       "FriedmanchisquareResult(statistic=10.0, pvalue=0.006737946999085468)"
      ]
     },
     "execution_count": 14,
     "metadata": {},
     "output_type": "execute_result"
    }
   ],
   "source": [
    "from scipy import stats\n",
    "\n",
    "stats.friedmanchisquare(\n",
    "                        [1, 3, 5, 7, 9],\n",
    "                        [2, 4, 6, 8, 10],\n",
    "                        [3, 5, 7, 9, 11]\n",
    "                       )"
   ]
  },
  {
   "cell_type": "code",
   "execution_count": null,
   "metadata": {},
   "outputs": [],
   "source": []
  }
 ],
 "metadata": {
  "kernelspec": {
   "display_name": "Python 3",
   "language": "python",
   "name": "python3"
  },
  "language_info": {
   "codemirror_mode": {
    "name": "ipython",
    "version": 3
   },
   "file_extension": ".py",
   "mimetype": "text/x-python",
   "name": "python",
   "nbconvert_exporter": "python",
   "pygments_lexer": "ipython3",
   "version": "3.7.1"
  }
 },
 "nbformat": 4,
 "nbformat_minor": 2
}
